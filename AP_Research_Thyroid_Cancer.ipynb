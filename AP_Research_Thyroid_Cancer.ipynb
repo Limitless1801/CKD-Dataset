{
  "nbformat": 4,
  "nbformat_minor": 0,
  "metadata": {
    "colab": {
      "provenance": [],
      "gpuType": "T4",
      "authorship_tag": "ABX9TyNTh7dg15dTCx2tNgPrRvuh",
      "include_colab_link": true
    },
    "kernelspec": {
      "name": "python3",
      "display_name": "Python 3"
    },
    "language_info": {
      "name": "python"
    },
    "accelerator": "GPU"
  },
  "cells": [
    {
      "cell_type": "markdown",
      "metadata": {
        "id": "view-in-github",
        "colab_type": "text"
      },
      "source": [
        "<a href=\"https://colab.research.google.com/github/Limitless1801/CKD-Dataset/blob/main/AP_Research_Thyroid_Cancer.ipynb\" target=\"_parent\"><img src=\"https://colab.research.google.com/assets/colab-badge.svg\" alt=\"Open In Colab\"/></a>"
      ]
    },
    {
      "cell_type": "code",
      "execution_count": null,
      "metadata": {
        "id": "hNk9ZZ2E8T8T",
        "colab": {
          "base_uri": "https://localhost:8080/",
          "height": 69
        },
        "outputId": "4c19938d-8be4-453a-81f9-3c8122da35a0"
      },
      "outputs": [
        {
          "output_type": "display_data",
          "data": {
            "text/plain": [
              "<IPython.core.display.HTML object>"
            ],
            "text/html": [
              "\n",
              "     <input type=\"file\" id=\"files-77e31b4e-a895-44cb-9b7a-22fefa7b9347\" name=\"files[]\" multiple disabled\n",
              "        style=\"border:none\" />\n",
              "     <output id=\"result-77e31b4e-a895-44cb-9b7a-22fefa7b9347\">\n",
              "      Upload widget is only available when the cell has been executed in the\n",
              "      current browser session. Please rerun this cell to enable.\n",
              "      </output>\n",
              "      <script>// Copyright 2017 Google LLC\n",
              "//\n",
              "// Licensed under the Apache License, Version 2.0 (the \"License\");\n",
              "// you may not use this file except in compliance with the License.\n",
              "// You may obtain a copy of the License at\n",
              "//\n",
              "//      http://www.apache.org/licenses/LICENSE-2.0\n",
              "//\n",
              "// Unless required by applicable law or agreed to in writing, software\n",
              "// distributed under the License is distributed on an \"AS IS\" BASIS,\n",
              "// WITHOUT WARRANTIES OR CONDITIONS OF ANY KIND, either express or implied.\n",
              "// See the License for the specific language governing permissions and\n",
              "// limitations under the License.\n",
              "\n",
              "/**\n",
              " * @fileoverview Helpers for google.colab Python module.\n",
              " */\n",
              "(function(scope) {\n",
              "function span(text, styleAttributes = {}) {\n",
              "  const element = document.createElement('span');\n",
              "  element.textContent = text;\n",
              "  for (const key of Object.keys(styleAttributes)) {\n",
              "    element.style[key] = styleAttributes[key];\n",
              "  }\n",
              "  return element;\n",
              "}\n",
              "\n",
              "// Max number of bytes which will be uploaded at a time.\n",
              "const MAX_PAYLOAD_SIZE = 100 * 1024;\n",
              "\n",
              "function _uploadFiles(inputId, outputId) {\n",
              "  const steps = uploadFilesStep(inputId, outputId);\n",
              "  const outputElement = document.getElementById(outputId);\n",
              "  // Cache steps on the outputElement to make it available for the next call\n",
              "  // to uploadFilesContinue from Python.\n",
              "  outputElement.steps = steps;\n",
              "\n",
              "  return _uploadFilesContinue(outputId);\n",
              "}\n",
              "\n",
              "// This is roughly an async generator (not supported in the browser yet),\n",
              "// where there are multiple asynchronous steps and the Python side is going\n",
              "// to poll for completion of each step.\n",
              "// This uses a Promise to block the python side on completion of each step,\n",
              "// then passes the result of the previous step as the input to the next step.\n",
              "function _uploadFilesContinue(outputId) {\n",
              "  const outputElement = document.getElementById(outputId);\n",
              "  const steps = outputElement.steps;\n",
              "\n",
              "  const next = steps.next(outputElement.lastPromiseValue);\n",
              "  return Promise.resolve(next.value.promise).then((value) => {\n",
              "    // Cache the last promise value to make it available to the next\n",
              "    // step of the generator.\n",
              "    outputElement.lastPromiseValue = value;\n",
              "    return next.value.response;\n",
              "  });\n",
              "}\n",
              "\n",
              "/**\n",
              " * Generator function which is called between each async step of the upload\n",
              " * process.\n",
              " * @param {string} inputId Element ID of the input file picker element.\n",
              " * @param {string} outputId Element ID of the output display.\n",
              " * @return {!Iterable<!Object>} Iterable of next steps.\n",
              " */\n",
              "function* uploadFilesStep(inputId, outputId) {\n",
              "  const inputElement = document.getElementById(inputId);\n",
              "  inputElement.disabled = false;\n",
              "\n",
              "  const outputElement = document.getElementById(outputId);\n",
              "  outputElement.innerHTML = '';\n",
              "\n",
              "  const pickedPromise = new Promise((resolve) => {\n",
              "    inputElement.addEventListener('change', (e) => {\n",
              "      resolve(e.target.files);\n",
              "    });\n",
              "  });\n",
              "\n",
              "  const cancel = document.createElement('button');\n",
              "  inputElement.parentElement.appendChild(cancel);\n",
              "  cancel.textContent = 'Cancel upload';\n",
              "  const cancelPromise = new Promise((resolve) => {\n",
              "    cancel.onclick = () => {\n",
              "      resolve(null);\n",
              "    };\n",
              "  });\n",
              "\n",
              "  // Wait for the user to pick the files.\n",
              "  const files = yield {\n",
              "    promise: Promise.race([pickedPromise, cancelPromise]),\n",
              "    response: {\n",
              "      action: 'starting',\n",
              "    }\n",
              "  };\n",
              "\n",
              "  cancel.remove();\n",
              "\n",
              "  // Disable the input element since further picks are not allowed.\n",
              "  inputElement.disabled = true;\n",
              "\n",
              "  if (!files) {\n",
              "    return {\n",
              "      response: {\n",
              "        action: 'complete',\n",
              "      }\n",
              "    };\n",
              "  }\n",
              "\n",
              "  for (const file of files) {\n",
              "    const li = document.createElement('li');\n",
              "    li.append(span(file.name, {fontWeight: 'bold'}));\n",
              "    li.append(span(\n",
              "        `(${file.type || 'n/a'}) - ${file.size} bytes, ` +\n",
              "        `last modified: ${\n",
              "            file.lastModifiedDate ? file.lastModifiedDate.toLocaleDateString() :\n",
              "                                    'n/a'} - `));\n",
              "    const percent = span('0% done');\n",
              "    li.appendChild(percent);\n",
              "\n",
              "    outputElement.appendChild(li);\n",
              "\n",
              "    const fileDataPromise = new Promise((resolve) => {\n",
              "      const reader = new FileReader();\n",
              "      reader.onload = (e) => {\n",
              "        resolve(e.target.result);\n",
              "      };\n",
              "      reader.readAsArrayBuffer(file);\n",
              "    });\n",
              "    // Wait for the data to be ready.\n",
              "    let fileData = yield {\n",
              "      promise: fileDataPromise,\n",
              "      response: {\n",
              "        action: 'continue',\n",
              "      }\n",
              "    };\n",
              "\n",
              "    // Use a chunked sending to avoid message size limits. See b/62115660.\n",
              "    let position = 0;\n",
              "    do {\n",
              "      const length = Math.min(fileData.byteLength - position, MAX_PAYLOAD_SIZE);\n",
              "      const chunk = new Uint8Array(fileData, position, length);\n",
              "      position += length;\n",
              "\n",
              "      const base64 = btoa(String.fromCharCode.apply(null, chunk));\n",
              "      yield {\n",
              "        response: {\n",
              "          action: 'append',\n",
              "          file: file.name,\n",
              "          data: base64,\n",
              "        },\n",
              "      };\n",
              "\n",
              "      let percentDone = fileData.byteLength === 0 ?\n",
              "          100 :\n",
              "          Math.round((position / fileData.byteLength) * 100);\n",
              "      percent.textContent = `${percentDone}% done`;\n",
              "\n",
              "    } while (position < fileData.byteLength);\n",
              "  }\n",
              "\n",
              "  // All done.\n",
              "  yield {\n",
              "    response: {\n",
              "      action: 'complete',\n",
              "    }\n",
              "  };\n",
              "}\n",
              "\n",
              "scope.google = scope.google || {};\n",
              "scope.google.colab = scope.google.colab || {};\n",
              "scope.google.colab._files = {\n",
              "  _uploadFiles,\n",
              "  _uploadFilesContinue,\n",
              "};\n",
              "})(self);\n",
              "</script> "
            ]
          },
          "metadata": {}
        },
        {
          "output_type": "stream",
          "name": "stdout",
          "text": [
            "Saving Thyroid_Diff.csv to Thyroid_Diff (3).csv\n"
          ]
        }
      ],
      "source": [
        "# Download the dataset\n",
        "from google.colab import files\n",
        "\n",
        "uploaded= files.upload()"
      ]
    },
    {
      "cell_type": "code",
      "source": [
        "# Import libraries\n",
        "import numpy as np\n",
        "import pandas as pd\n",
        "import seaborn as sns"
      ],
      "metadata": {
        "id": "KGnbOMcNCo9K"
      },
      "execution_count": null,
      "outputs": []
    },
    {
      "cell_type": "code",
      "source": [
        "#Create dataframe\n",
        "Thyroid_Recurrence = pd.read_csv(\"Thyroid_Diff.csv\")"
      ],
      "metadata": {
        "id": "QyeQHuo4CynE"
      },
      "execution_count": null,
      "outputs": []
    },
    {
      "cell_type": "code",
      "source": [
        "#See size of dataset\n",
        "Thyroid_Recurrence.shape"
      ],
      "metadata": {
        "id": "EVSiDe89HBHH",
        "colab": {
          "base_uri": "https://localhost:8080/"
        },
        "outputId": "4b16e758-0bc2-4b59-a998-4ca85b204e1c"
      },
      "execution_count": null,
      "outputs": [
        {
          "output_type": "execute_result",
          "data": {
            "text/plain": [
              "(383, 17)"
            ]
          },
          "metadata": {},
          "execution_count": 4
        }
      ]
    },
    {
      "cell_type": "code",
      "source": [
        "# First five rows of dataframe\n",
        "Thyroid_Recurrence.head()"
      ],
      "metadata": {
        "id": "HlM_DMPaHNW3",
        "colab": {
          "base_uri": "https://localhost:8080/",
          "height": 306
        },
        "outputId": "aac54706-6240-46aa-d26f-4a11d5290b39"
      },
      "execution_count": null,
      "outputs": [
        {
          "output_type": "execute_result",
          "data": {
            "text/plain": [
              "   Age Gender Smoking Hx Smoking Hx Radiothreapy Thyroid Function  \\\n",
              "0   27      F      No         No              No        Euthyroid   \n",
              "1   34      F      No        Yes              No        Euthyroid   \n",
              "2   30      F      No         No              No        Euthyroid   \n",
              "3   62      F      No         No              No        Euthyroid   \n",
              "4   62      F      No         No              No        Euthyroid   \n",
              "\n",
              "          Physical Examination Adenopathy       Pathology     Focality Risk  \\\n",
              "0   Single nodular goiter-left         No  Micropapillary    Uni-Focal  Low   \n",
              "1          Multinodular goiter         No  Micropapillary    Uni-Focal  Low   \n",
              "2  Single nodular goiter-right         No  Micropapillary    Uni-Focal  Low   \n",
              "3  Single nodular goiter-right         No  Micropapillary    Uni-Focal  Low   \n",
              "4          Multinodular goiter         No  Micropapillary  Multi-Focal  Low   \n",
              "\n",
              "     T   N   M Stage       Response Recurred  \n",
              "0  T1a  N0  M0     I  Indeterminate       No  \n",
              "1  T1a  N0  M0     I      Excellent       No  \n",
              "2  T1a  N0  M0     I      Excellent       No  \n",
              "3  T1a  N0  M0     I      Excellent       No  \n",
              "4  T1a  N0  M0     I      Excellent       No  "
            ],
            "text/html": [
              "\n",
              "  <div id=\"df-c7e29cc8-c0a0-49ba-bf3a-1dc60fcaaa82\" class=\"colab-df-container\">\n",
              "    <div>\n",
              "<style scoped>\n",
              "    .dataframe tbody tr th:only-of-type {\n",
              "        vertical-align: middle;\n",
              "    }\n",
              "\n",
              "    .dataframe tbody tr th {\n",
              "        vertical-align: top;\n",
              "    }\n",
              "\n",
              "    .dataframe thead th {\n",
              "        text-align: right;\n",
              "    }\n",
              "</style>\n",
              "<table border=\"1\" class=\"dataframe\">\n",
              "  <thead>\n",
              "    <tr style=\"text-align: right;\">\n",
              "      <th></th>\n",
              "      <th>Age</th>\n",
              "      <th>Gender</th>\n",
              "      <th>Smoking</th>\n",
              "      <th>Hx Smoking</th>\n",
              "      <th>Hx Radiothreapy</th>\n",
              "      <th>Thyroid Function</th>\n",
              "      <th>Physical Examination</th>\n",
              "      <th>Adenopathy</th>\n",
              "      <th>Pathology</th>\n",
              "      <th>Focality</th>\n",
              "      <th>Risk</th>\n",
              "      <th>T</th>\n",
              "      <th>N</th>\n",
              "      <th>M</th>\n",
              "      <th>Stage</th>\n",
              "      <th>Response</th>\n",
              "      <th>Recurred</th>\n",
              "    </tr>\n",
              "  </thead>\n",
              "  <tbody>\n",
              "    <tr>\n",
              "      <th>0</th>\n",
              "      <td>27</td>\n",
              "      <td>F</td>\n",
              "      <td>No</td>\n",
              "      <td>No</td>\n",
              "      <td>No</td>\n",
              "      <td>Euthyroid</td>\n",
              "      <td>Single nodular goiter-left</td>\n",
              "      <td>No</td>\n",
              "      <td>Micropapillary</td>\n",
              "      <td>Uni-Focal</td>\n",
              "      <td>Low</td>\n",
              "      <td>T1a</td>\n",
              "      <td>N0</td>\n",
              "      <td>M0</td>\n",
              "      <td>I</td>\n",
              "      <td>Indeterminate</td>\n",
              "      <td>No</td>\n",
              "    </tr>\n",
              "    <tr>\n",
              "      <th>1</th>\n",
              "      <td>34</td>\n",
              "      <td>F</td>\n",
              "      <td>No</td>\n",
              "      <td>Yes</td>\n",
              "      <td>No</td>\n",
              "      <td>Euthyroid</td>\n",
              "      <td>Multinodular goiter</td>\n",
              "      <td>No</td>\n",
              "      <td>Micropapillary</td>\n",
              "      <td>Uni-Focal</td>\n",
              "      <td>Low</td>\n",
              "      <td>T1a</td>\n",
              "      <td>N0</td>\n",
              "      <td>M0</td>\n",
              "      <td>I</td>\n",
              "      <td>Excellent</td>\n",
              "      <td>No</td>\n",
              "    </tr>\n",
              "    <tr>\n",
              "      <th>2</th>\n",
              "      <td>30</td>\n",
              "      <td>F</td>\n",
              "      <td>No</td>\n",
              "      <td>No</td>\n",
              "      <td>No</td>\n",
              "      <td>Euthyroid</td>\n",
              "      <td>Single nodular goiter-right</td>\n",
              "      <td>No</td>\n",
              "      <td>Micropapillary</td>\n",
              "      <td>Uni-Focal</td>\n",
              "      <td>Low</td>\n",
              "      <td>T1a</td>\n",
              "      <td>N0</td>\n",
              "      <td>M0</td>\n",
              "      <td>I</td>\n",
              "      <td>Excellent</td>\n",
              "      <td>No</td>\n",
              "    </tr>\n",
              "    <tr>\n",
              "      <th>3</th>\n",
              "      <td>62</td>\n",
              "      <td>F</td>\n",
              "      <td>No</td>\n",
              "      <td>No</td>\n",
              "      <td>No</td>\n",
              "      <td>Euthyroid</td>\n",
              "      <td>Single nodular goiter-right</td>\n",
              "      <td>No</td>\n",
              "      <td>Micropapillary</td>\n",
              "      <td>Uni-Focal</td>\n",
              "      <td>Low</td>\n",
              "      <td>T1a</td>\n",
              "      <td>N0</td>\n",
              "      <td>M0</td>\n",
              "      <td>I</td>\n",
              "      <td>Excellent</td>\n",
              "      <td>No</td>\n",
              "    </tr>\n",
              "    <tr>\n",
              "      <th>4</th>\n",
              "      <td>62</td>\n",
              "      <td>F</td>\n",
              "      <td>No</td>\n",
              "      <td>No</td>\n",
              "      <td>No</td>\n",
              "      <td>Euthyroid</td>\n",
              "      <td>Multinodular goiter</td>\n",
              "      <td>No</td>\n",
              "      <td>Micropapillary</td>\n",
              "      <td>Multi-Focal</td>\n",
              "      <td>Low</td>\n",
              "      <td>T1a</td>\n",
              "      <td>N0</td>\n",
              "      <td>M0</td>\n",
              "      <td>I</td>\n",
              "      <td>Excellent</td>\n",
              "      <td>No</td>\n",
              "    </tr>\n",
              "  </tbody>\n",
              "</table>\n",
              "</div>\n",
              "    <div class=\"colab-df-buttons\">\n",
              "\n",
              "  <div class=\"colab-df-container\">\n",
              "    <button class=\"colab-df-convert\" onclick=\"convertToInteractive('df-c7e29cc8-c0a0-49ba-bf3a-1dc60fcaaa82')\"\n",
              "            title=\"Convert this dataframe to an interactive table.\"\n",
              "            style=\"display:none;\">\n",
              "\n",
              "  <svg xmlns=\"http://www.w3.org/2000/svg\" height=\"24px\" viewBox=\"0 -960 960 960\">\n",
              "    <path d=\"M120-120v-720h720v720H120Zm60-500h600v-160H180v160Zm220 220h160v-160H400v160Zm0 220h160v-160H400v160ZM180-400h160v-160H180v160Zm440 0h160v-160H620v160ZM180-180h160v-160H180v160Zm440 0h160v-160H620v160Z\"/>\n",
              "  </svg>\n",
              "    </button>\n",
              "\n",
              "  <style>\n",
              "    .colab-df-container {\n",
              "      display:flex;\n",
              "      gap: 12px;\n",
              "    }\n",
              "\n",
              "    .colab-df-convert {\n",
              "      background-color: #E8F0FE;\n",
              "      border: none;\n",
              "      border-radius: 50%;\n",
              "      cursor: pointer;\n",
              "      display: none;\n",
              "      fill: #1967D2;\n",
              "      height: 32px;\n",
              "      padding: 0 0 0 0;\n",
              "      width: 32px;\n",
              "    }\n",
              "\n",
              "    .colab-df-convert:hover {\n",
              "      background-color: #E2EBFA;\n",
              "      box-shadow: 0px 1px 2px rgba(60, 64, 67, 0.3), 0px 1px 3px 1px rgba(60, 64, 67, 0.15);\n",
              "      fill: #174EA6;\n",
              "    }\n",
              "\n",
              "    .colab-df-buttons div {\n",
              "      margin-bottom: 4px;\n",
              "    }\n",
              "\n",
              "    [theme=dark] .colab-df-convert {\n",
              "      background-color: #3B4455;\n",
              "      fill: #D2E3FC;\n",
              "    }\n",
              "\n",
              "    [theme=dark] .colab-df-convert:hover {\n",
              "      background-color: #434B5C;\n",
              "      box-shadow: 0px 1px 3px 1px rgba(0, 0, 0, 0.15);\n",
              "      filter: drop-shadow(0px 1px 2px rgba(0, 0, 0, 0.3));\n",
              "      fill: #FFFFFF;\n",
              "    }\n",
              "  </style>\n",
              "\n",
              "    <script>\n",
              "      const buttonEl =\n",
              "        document.querySelector('#df-c7e29cc8-c0a0-49ba-bf3a-1dc60fcaaa82 button.colab-df-convert');\n",
              "      buttonEl.style.display =\n",
              "        google.colab.kernel.accessAllowed ? 'block' : 'none';\n",
              "\n",
              "      async function convertToInteractive(key) {\n",
              "        const element = document.querySelector('#df-c7e29cc8-c0a0-49ba-bf3a-1dc60fcaaa82');\n",
              "        const dataTable =\n",
              "          await google.colab.kernel.invokeFunction('convertToInteractive',\n",
              "                                                    [key], {});\n",
              "        if (!dataTable) return;\n",
              "\n",
              "        const docLinkHtml = 'Like what you see? Visit the ' +\n",
              "          '<a target=\"_blank\" href=https://colab.research.google.com/notebooks/data_table.ipynb>data table notebook</a>'\n",
              "          + ' to learn more about interactive tables.';\n",
              "        element.innerHTML = '';\n",
              "        dataTable['output_type'] = 'display_data';\n",
              "        await google.colab.output.renderOutput(dataTable, element);\n",
              "        const docLink = document.createElement('div');\n",
              "        docLink.innerHTML = docLinkHtml;\n",
              "        element.appendChild(docLink);\n",
              "      }\n",
              "    </script>\n",
              "  </div>\n",
              "\n",
              "\n",
              "<div id=\"df-73c9ccba-8fbb-400a-9b3c-7cfe83573793\">\n",
              "  <button class=\"colab-df-quickchart\" onclick=\"quickchart('df-73c9ccba-8fbb-400a-9b3c-7cfe83573793')\"\n",
              "            title=\"Suggest charts\"\n",
              "            style=\"display:none;\">\n",
              "\n",
              "<svg xmlns=\"http://www.w3.org/2000/svg\" height=\"24px\"viewBox=\"0 0 24 24\"\n",
              "     width=\"24px\">\n",
              "    <g>\n",
              "        <path d=\"M19 3H5c-1.1 0-2 .9-2 2v14c0 1.1.9 2 2 2h14c1.1 0 2-.9 2-2V5c0-1.1-.9-2-2-2zM9 17H7v-7h2v7zm4 0h-2V7h2v10zm4 0h-2v-4h2v4z\"/>\n",
              "    </g>\n",
              "</svg>\n",
              "  </button>\n",
              "\n",
              "<style>\n",
              "  .colab-df-quickchart {\n",
              "      --bg-color: #E8F0FE;\n",
              "      --fill-color: #1967D2;\n",
              "      --hover-bg-color: #E2EBFA;\n",
              "      --hover-fill-color: #174EA6;\n",
              "      --disabled-fill-color: #AAA;\n",
              "      --disabled-bg-color: #DDD;\n",
              "  }\n",
              "\n",
              "  [theme=dark] .colab-df-quickchart {\n",
              "      --bg-color: #3B4455;\n",
              "      --fill-color: #D2E3FC;\n",
              "      --hover-bg-color: #434B5C;\n",
              "      --hover-fill-color: #FFFFFF;\n",
              "      --disabled-bg-color: #3B4455;\n",
              "      --disabled-fill-color: #666;\n",
              "  }\n",
              "\n",
              "  .colab-df-quickchart {\n",
              "    background-color: var(--bg-color);\n",
              "    border: none;\n",
              "    border-radius: 50%;\n",
              "    cursor: pointer;\n",
              "    display: none;\n",
              "    fill: var(--fill-color);\n",
              "    height: 32px;\n",
              "    padding: 0;\n",
              "    width: 32px;\n",
              "  }\n",
              "\n",
              "  .colab-df-quickchart:hover {\n",
              "    background-color: var(--hover-bg-color);\n",
              "    box-shadow: 0 1px 2px rgba(60, 64, 67, 0.3), 0 1px 3px 1px rgba(60, 64, 67, 0.15);\n",
              "    fill: var(--button-hover-fill-color);\n",
              "  }\n",
              "\n",
              "  .colab-df-quickchart-complete:disabled,\n",
              "  .colab-df-quickchart-complete:disabled:hover {\n",
              "    background-color: var(--disabled-bg-color);\n",
              "    fill: var(--disabled-fill-color);\n",
              "    box-shadow: none;\n",
              "  }\n",
              "\n",
              "  .colab-df-spinner {\n",
              "    border: 2px solid var(--fill-color);\n",
              "    border-color: transparent;\n",
              "    border-bottom-color: var(--fill-color);\n",
              "    animation:\n",
              "      spin 1s steps(1) infinite;\n",
              "  }\n",
              "\n",
              "  @keyframes spin {\n",
              "    0% {\n",
              "      border-color: transparent;\n",
              "      border-bottom-color: var(--fill-color);\n",
              "      border-left-color: var(--fill-color);\n",
              "    }\n",
              "    20% {\n",
              "      border-color: transparent;\n",
              "      border-left-color: var(--fill-color);\n",
              "      border-top-color: var(--fill-color);\n",
              "    }\n",
              "    30% {\n",
              "      border-color: transparent;\n",
              "      border-left-color: var(--fill-color);\n",
              "      border-top-color: var(--fill-color);\n",
              "      border-right-color: var(--fill-color);\n",
              "    }\n",
              "    40% {\n",
              "      border-color: transparent;\n",
              "      border-right-color: var(--fill-color);\n",
              "      border-top-color: var(--fill-color);\n",
              "    }\n",
              "    60% {\n",
              "      border-color: transparent;\n",
              "      border-right-color: var(--fill-color);\n",
              "    }\n",
              "    80% {\n",
              "      border-color: transparent;\n",
              "      border-right-color: var(--fill-color);\n",
              "      border-bottom-color: var(--fill-color);\n",
              "    }\n",
              "    90% {\n",
              "      border-color: transparent;\n",
              "      border-bottom-color: var(--fill-color);\n",
              "    }\n",
              "  }\n",
              "</style>\n",
              "\n",
              "  <script>\n",
              "    async function quickchart(key) {\n",
              "      const quickchartButtonEl =\n",
              "        document.querySelector('#' + key + ' button');\n",
              "      quickchartButtonEl.disabled = true;  // To prevent multiple clicks.\n",
              "      quickchartButtonEl.classList.add('colab-df-spinner');\n",
              "      try {\n",
              "        const charts = await google.colab.kernel.invokeFunction(\n",
              "            'suggestCharts', [key], {});\n",
              "      } catch (error) {\n",
              "        console.error('Error during call to suggestCharts:', error);\n",
              "      }\n",
              "      quickchartButtonEl.classList.remove('colab-df-spinner');\n",
              "      quickchartButtonEl.classList.add('colab-df-quickchart-complete');\n",
              "    }\n",
              "    (() => {\n",
              "      let quickchartButtonEl =\n",
              "        document.querySelector('#df-73c9ccba-8fbb-400a-9b3c-7cfe83573793 button');\n",
              "      quickchartButtonEl.style.display =\n",
              "        google.colab.kernel.accessAllowed ? 'block' : 'none';\n",
              "    })();\n",
              "  </script>\n",
              "</div>\n",
              "\n",
              "    </div>\n",
              "  </div>\n"
            ],
            "application/vnd.google.colaboratory.intrinsic+json": {
              "type": "dataframe",
              "variable_name": "Thyroid_Recurrence",
              "summary": "{\n  \"name\": \"Thyroid_Recurrence\",\n  \"rows\": 383,\n  \"fields\": [\n    {\n      \"column\": \"Age\",\n      \"properties\": {\n        \"dtype\": \"number\",\n        \"std\": 15,\n        \"min\": 15,\n        \"max\": 82,\n        \"num_unique_values\": 65,\n        \"samples\": [\n          48,\n          15,\n          27\n        ],\n        \"semantic_type\": \"\",\n        \"description\": \"\"\n      }\n    },\n    {\n      \"column\": \"Gender\",\n      \"properties\": {\n        \"dtype\": \"category\",\n        \"num_unique_values\": 2,\n        \"samples\": [\n          \"M\",\n          \"F\"\n        ],\n        \"semantic_type\": \"\",\n        \"description\": \"\"\n      }\n    },\n    {\n      \"column\": \"Smoking\",\n      \"properties\": {\n        \"dtype\": \"category\",\n        \"num_unique_values\": 2,\n        \"samples\": [\n          \"Yes\",\n          \"No\"\n        ],\n        \"semantic_type\": \"\",\n        \"description\": \"\"\n      }\n    },\n    {\n      \"column\": \"Hx Smoking\",\n      \"properties\": {\n        \"dtype\": \"category\",\n        \"num_unique_values\": 2,\n        \"samples\": [\n          \"Yes\",\n          \"No\"\n        ],\n        \"semantic_type\": \"\",\n        \"description\": \"\"\n      }\n    },\n    {\n      \"column\": \"Hx Radiothreapy\",\n      \"properties\": {\n        \"dtype\": \"category\",\n        \"num_unique_values\": 2,\n        \"samples\": [\n          \"Yes\",\n          \"No\"\n        ],\n        \"semantic_type\": \"\",\n        \"description\": \"\"\n      }\n    },\n    {\n      \"column\": \"Thyroid Function\",\n      \"properties\": {\n        \"dtype\": \"category\",\n        \"num_unique_values\": 5,\n        \"samples\": [\n          \"Clinical Hyperthyroidism\",\n          \"Subclinical Hypothyroidism\"\n        ],\n        \"semantic_type\": \"\",\n        \"description\": \"\"\n      }\n    },\n    {\n      \"column\": \"Physical Examination\",\n      \"properties\": {\n        \"dtype\": \"category\",\n        \"num_unique_values\": 5,\n        \"samples\": [\n          \"Multinodular goiter\",\n          \"Diffuse goiter\"\n        ],\n        \"semantic_type\": \"\",\n        \"description\": \"\"\n      }\n    },\n    {\n      \"column\": \"Adenopathy\",\n      \"properties\": {\n        \"dtype\": \"category\",\n        \"num_unique_values\": 6,\n        \"samples\": [\n          \"No\",\n          \"Right\"\n        ],\n        \"semantic_type\": \"\",\n        \"description\": \"\"\n      }\n    },\n    {\n      \"column\": \"Pathology\",\n      \"properties\": {\n        \"dtype\": \"category\",\n        \"num_unique_values\": 4,\n        \"samples\": [\n          \"Papillary\",\n          \"Hurthel cell\"\n        ],\n        \"semantic_type\": \"\",\n        \"description\": \"\"\n      }\n    },\n    {\n      \"column\": \"Focality\",\n      \"properties\": {\n        \"dtype\": \"category\",\n        \"num_unique_values\": 2,\n        \"samples\": [\n          \"Multi-Focal\",\n          \"Uni-Focal\"\n        ],\n        \"semantic_type\": \"\",\n        \"description\": \"\"\n      }\n    },\n    {\n      \"column\": \"Risk\",\n      \"properties\": {\n        \"dtype\": \"category\",\n        \"num_unique_values\": 3,\n        \"samples\": [\n          \"Low\",\n          \"Intermediate\"\n        ],\n        \"semantic_type\": \"\",\n        \"description\": \"\"\n      }\n    },\n    {\n      \"column\": \"T\",\n      \"properties\": {\n        \"dtype\": \"category\",\n        \"num_unique_values\": 7,\n        \"samples\": [\n          \"T1a\",\n          \"T1b\"\n        ],\n        \"semantic_type\": \"\",\n        \"description\": \"\"\n      }\n    },\n    {\n      \"column\": \"N\",\n      \"properties\": {\n        \"dtype\": \"category\",\n        \"num_unique_values\": 3,\n        \"samples\": [\n          \"N0\",\n          \"N1b\"\n        ],\n        \"semantic_type\": \"\",\n        \"description\": \"\"\n      }\n    },\n    {\n      \"column\": \"M\",\n      \"properties\": {\n        \"dtype\": \"category\",\n        \"num_unique_values\": 2,\n        \"samples\": [\n          \"M1\",\n          \"M0\"\n        ],\n        \"semantic_type\": \"\",\n        \"description\": \"\"\n      }\n    },\n    {\n      \"column\": \"Stage\",\n      \"properties\": {\n        \"dtype\": \"category\",\n        \"num_unique_values\": 5,\n        \"samples\": [\n          \"II\",\n          \"IVA\"\n        ],\n        \"semantic_type\": \"\",\n        \"description\": \"\"\n      }\n    },\n    {\n      \"column\": \"Response\",\n      \"properties\": {\n        \"dtype\": \"category\",\n        \"num_unique_values\": 4,\n        \"samples\": [\n          \"Excellent\",\n          \"Biochemical Incomplete\"\n        ],\n        \"semantic_type\": \"\",\n        \"description\": \"\"\n      }\n    },\n    {\n      \"column\": \"Recurred\",\n      \"properties\": {\n        \"dtype\": \"category\",\n        \"num_unique_values\": 2,\n        \"samples\": [\n          \"Yes\",\n          \"No\"\n        ],\n        \"semantic_type\": \"\",\n        \"description\": \"\"\n      }\n    }\n  ]\n}"
            }
          },
          "metadata": {},
          "execution_count": 5
        }
      ]
    },
    {
      "cell_type": "code",
      "source": [
        "#Histplot for patient recurrence\n",
        "sns.histplot(Thyroid_Recurrence['Recurred'])"
      ],
      "metadata": {
        "id": "Yi_Weyp7JdKe",
        "colab": {
          "base_uri": "https://localhost:8080/",
          "height": 466
        },
        "outputId": "aa11c492-4370-46f5-ee67-b2c76f6d1cf6"
      },
      "execution_count": null,
      "outputs": [
        {
          "output_type": "execute_result",
          "data": {
            "text/plain": [
              "<Axes: xlabel='Recurred', ylabel='Count'>"
            ]
          },
          "metadata": {},
          "execution_count": 6
        },
        {
          "output_type": "display_data",
          "data": {
            "text/plain": [
              "<Figure size 640x480 with 1 Axes>"
            ],
            "image/png": "[encoded data removed]"
          },
          "metadata": {}
        }
      ]
    },
    {
      "cell_type": "code",
      "source": [
        "# Preprocessing recurred variable\n",
        "Thyroid_Recurrence['Recurred'].replace('No',0,inplace=True)\n",
        "Thyroid_Recurrence['Recurred'].replace('Yes',1,inplace=True)"
      ],
      "metadata": {
        "colab": {
          "base_uri": "https://localhost:8080/"
        },
        "id": "F45Cjw1jt59k",
        "outputId": "7f8de290-56a2-4945-aa2a-b12e6d39d5c2"
      },
      "execution_count": null,
      "outputs": [
        {
          "output_type": "stream",
          "name": "stderr",
          "text": [
            "<ipython-input-7-39638b37d1d2>:1: FutureWarning: A value is trying to be set on a copy of a DataFrame or Series through chained assignment using an inplace method.\n",
            "The behavior will change in pandas 3.0. This inplace method will never work because the intermediate object on which we are setting values always behaves as a copy.\n",
            "\n",
            "For example, when doing 'df[col].method(value, inplace=True)', try using 'df.method({col: value}, inplace=True)' or df[col] = df[col].method(value) instead, to perform the operation inplace on the original object.\n",
            "\n",
            "\n",
            "  Thyroid_Recurrence['Recurred'].replace('No',0,inplace=True)\n",
            "<ipython-input-7-39638b37d1d2>:2: FutureWarning: A value is trying to be set on a copy of a DataFrame or Series through chained assignment using an inplace method.\n",
            "The behavior will change in pandas 3.0. This inplace method will never work because the intermediate object on which we are setting values always behaves as a copy.\n",
            "\n",
            "For example, when doing 'df[col].method(value, inplace=True)', try using 'df.method({col: value}, inplace=True)' or df[col] = df[col].method(value) instead, to perform the operation inplace on the original object.\n",
            "\n",
            "\n",
            "  Thyroid_Recurrence['Recurred'].replace('Yes',1,inplace=True)\n",
            "<ipython-input-7-39638b37d1d2>:2: FutureWarning: Downcasting behavior in `replace` is deprecated and will be removed in a future version. To retain the old behavior, explicitly call `result.infer_objects(copy=False)`. To opt-in to the future behavior, set `pd.set_option('future.no_silent_downcasting', True)`\n",
            "  Thyroid_Recurrence['Recurred'].replace('Yes',1,inplace=True)\n"
          ]
        }
      ]
    },
    {
      "cell_type": "code",
      "source": [
        "#Histogram of the stages of thyroid cancer\n",
        "sns.histplot(Thyroid_Recurrence['Stage'])"
      ],
      "metadata": {
        "id": "S-78Y6CzQ9e4",
        "colab": {
          "base_uri": "https://localhost:8080/",
          "height": 466
        },
        "outputId": "372f1dc2-6832-40b4-f671-0fffc3ba498e"
      },
      "execution_count": null,
      "outputs": [
        {
          "output_type": "execute_result",
          "data": {
            "text/plain": [
              "<Axes: xlabel='Stage', ylabel='Count'>"
            ]
          },
          "metadata": {},
          "execution_count": 8
        },
        {
          "output_type": "display_data",
          "data": {
            "text/plain": [
              "<Figure size 640x480 with 1 Axes>"
            ],
            "image/png": "[encoded data removed]"
          },
          "metadata": {}
        }
      ]
    },
    {
      "cell_type": "code",
      "source": [
        "# Stage variable preprocessing\n",
        "Thyroid_Recurrence['Stage'].replace('I',0,inplace=True)\n",
        "Thyroid_Recurrence['Stage'].replace('II',1,inplace=True)\n",
        "Thyroid_Recurrence['Stage'].replace('IVB',2,inplace=True)\n",
        "Thyroid_Recurrence['Stage'].replace('III',3,inplace=True)\n",
        "Thyroid_Recurrence['Stage'].replace('IVA',4,inplace=True)"
      ],
      "metadata": {
        "id": "fi6O8gPmuTPO",
        "colab": {
          "base_uri": "https://localhost:8080/"
        },
        "outputId": "fb2ce833-eae8-40f1-d955-4dac99ffe4f0"
      },
      "execution_count": null,
      "outputs": [
        {
          "output_type": "stream",
          "name": "stderr",
          "text": [
            "<ipython-input-9-afdf86f231cf>:1: FutureWarning: A value is trying to be set on a copy of a DataFrame or Series through chained assignment using an inplace method.\n",
            "The behavior will change in pandas 3.0. This inplace method will never work because the intermediate object on which we are setting values always behaves as a copy.\n",
            "\n",
            "For example, when doing 'df[col].method(value, inplace=True)', try using 'df.method({col: value}, inplace=True)' or df[col] = df[col].method(value) instead, to perform the operation inplace on the original object.\n",
            "\n",
            "\n",
            "  Thyroid_Recurrence['Stage'].replace('I',0,inplace=True)\n",
            "<ipython-input-9-afdf86f231cf>:2: FutureWarning: A value is trying to be set on a copy of a DataFrame or Series through chained assignment using an inplace method.\n",
            "The behavior will change in pandas 3.0. This inplace method will never work because the intermediate object on which we are setting values always behaves as a copy.\n",
            "\n",
            "For example, when doing 'df[col].method(value, inplace=True)', try using 'df.method({col: value}, inplace=True)' or df[col] = df[col].method(value) instead, to perform the operation inplace on the original object.\n",
            "\n",
            "\n",
            "  Thyroid_Recurrence['Stage'].replace('II',1,inplace=True)\n",
            "<ipython-input-9-afdf86f231cf>:3: FutureWarning: A value is trying to be set on a copy of a DataFrame or Series through chained assignment using an inplace method.\n",
            "The behavior will change in pandas 3.0. This inplace method will never work because the intermediate object on which we are setting values always behaves as a copy.\n",
            "\n",
            "For example, when doing 'df[col].method(value, inplace=True)', try using 'df.method({col: value}, inplace=True)' or df[col] = df[col].method(value) instead, to perform the operation inplace on the original object.\n",
            "\n",
            "\n",
            "  Thyroid_Recurrence['Stage'].replace('IVB',2,inplace=True)\n",
            "<ipython-input-9-afdf86f231cf>:4: FutureWarning: A value is trying to be set on a copy of a DataFrame or Series through chained assignment using an inplace method.\n",
            "The behavior will change in pandas 3.0. This inplace method will never work because the intermediate object on which we are setting values always behaves as a copy.\n",
            "\n",
            "For example, when doing 'df[col].method(value, inplace=True)', try using 'df.method({col: value}, inplace=True)' or df[col] = df[col].method(value) instead, to perform the operation inplace on the original object.\n",
            "\n",
            "\n",
            "  Thyroid_Recurrence['Stage'].replace('III',3,inplace=True)\n",
            "<ipython-input-9-afdf86f231cf>:5: FutureWarning: A value is trying to be set on a copy of a DataFrame or Series through chained assignment using an inplace method.\n",
            "The behavior will change in pandas 3.0. This inplace method will never work because the intermediate object on which we are setting values always behaves as a copy.\n",
            "\n",
            "For example, when doing 'df[col].method(value, inplace=True)', try using 'df.method({col: value}, inplace=True)' or df[col] = df[col].method(value) instead, to perform the operation inplace on the original object.\n",
            "\n",
            "\n",
            "  Thyroid_Recurrence['Stage'].replace('IVA',4,inplace=True)\n",
            "<ipython-input-9-afdf86f231cf>:5: FutureWarning: Downcasting behavior in `replace` is deprecated and will be removed in a future version. To retain the old behavior, explicitly call `result.infer_objects(copy=False)`. To opt-in to the future behavior, set `pd.set_option('future.no_silent_downcasting', True)`\n",
            "  Thyroid_Recurrence['Stage'].replace('IVA',4,inplace=True)\n"
          ]
        }
      ]
    },
    {
      "cell_type": "code",
      "source": [
        "# Determining if there are missing values within the data\n",
        "\n",
        "np.sum(pd.isnull(Thyroid_Recurrence))"
      ],
      "metadata": {
        "id": "9PCdf_OzLpbJ",
        "colab": {
          "base_uri": "https://localhost:8080/",
          "height": 664
        },
        "outputId": "422094bf-be42-43ed-bd64-258801ff9673"
      },
      "execution_count": null,
      "outputs": [
        {
          "output_type": "stream",
          "name": "stderr",
          "text": [
            "/usr/local/lib/python3.11/dist-packages/numpy/_core/fromnumeric.py:84: FutureWarning: The behavior of DataFrame.sum with axis=None is deprecated, in a future version this will reduce over both axes and return a scalar. To retain the old behavior, pass axis=0 (or do not pass axis)\n",
            "  return reduction(axis=axis, out=out, **passkwargs)\n"
          ]
        },
        {
          "output_type": "execute_result",
          "data": {
            "text/plain": [
              "Age                     0\n",
              "Gender                  0\n",
              "Smoking                 0\n",
              "Hx Smoking              0\n",
              "Hx Radiothreapy         0\n",
              "Thyroid Function        0\n",
              "Physical Examination    0\n",
              "Adenopathy              0\n",
              "Pathology               0\n",
              "Focality                0\n",
              "Risk                    0\n",
              "T                       0\n",
              "N                       0\n",
              "M                       0\n",
              "Stage                   0\n",
              "Response                0\n",
              "Recurred                0\n",
              "dtype: int64"
            ],
            "text/html": [
              "<div>\n",
              "<style scoped>\n",
              "    .dataframe tbody tr th:only-of-type {\n",
              "        vertical-align: middle;\n",
              "    }\n",
              "\n",
              "    .dataframe tbody tr th {\n",
              "        vertical-align: top;\n",
              "    }\n",
              "\n",
              "    .dataframe thead th {\n",
              "        text-align: right;\n",
              "    }\n",
              "</style>\n",
              "<table border=\"1\" class=\"dataframe\">\n",
              "  <thead>\n",
              "    <tr style=\"text-align: right;\">\n",
              "      <th></th>\n",
              "      <th>0</th>\n",
              "    </tr>\n",
              "  </thead>\n",
              "  <tbody>\n",
              "    <tr>\n",
              "      <th>Age</th>\n",
              "      <td>0</td>\n",
              "    </tr>\n",
              "    <tr>\n",
              "      <th>Gender</th>\n",
              "      <td>0</td>\n",
              "    </tr>\n",
              "    <tr>\n",
              "      <th>Smoking</th>\n",
              "      <td>0</td>\n",
              "    </tr>\n",
              "    <tr>\n",
              "      <th>Hx Smoking</th>\n",
              "      <td>0</td>\n",
              "    </tr>\n",
              "    <tr>\n",
              "      <th>Hx Radiothreapy</th>\n",
              "      <td>0</td>\n",
              "    </tr>\n",
              "    <tr>\n",
              "      <th>Thyroid Function</th>\n",
              "      <td>0</td>\n",
              "    </tr>\n",
              "    <tr>\n",
              "      <th>Physical Examination</th>\n",
              "      <td>0</td>\n",
              "    </tr>\n",
              "    <tr>\n",
              "      <th>Adenopathy</th>\n",
              "      <td>0</td>\n",
              "    </tr>\n",
              "    <tr>\n",
              "      <th>Pathology</th>\n",
              "      <td>0</td>\n",
              "    </tr>\n",
              "    <tr>\n",
              "      <th>Focality</th>\n",
              "      <td>0</td>\n",
              "    </tr>\n",
              "    <tr>\n",
              "      <th>Risk</th>\n",
              "      <td>0</td>\n",
              "    </tr>\n",
              "    <tr>\n",
              "      <th>T</th>\n",
              "      <td>0</td>\n",
              "    </tr>\n",
              "    <tr>\n",
              "      <th>N</th>\n",
              "      <td>0</td>\n",
              "    </tr>\n",
              "    <tr>\n",
              "      <th>M</th>\n",
              "      <td>0</td>\n",
              "    </tr>\n",
              "    <tr>\n",
              "      <th>Stage</th>\n",
              "      <td>0</td>\n",
              "    </tr>\n",
              "    <tr>\n",
              "      <th>Response</th>\n",
              "      <td>0</td>\n",
              "    </tr>\n",
              "    <tr>\n",
              "      <th>Recurred</th>\n",
              "      <td>0</td>\n",
              "    </tr>\n",
              "  </tbody>\n",
              "</table>\n",
              "</div><br><label><b>dtype:</b> int64</label>"
            ]
          },
          "metadata": {},
          "execution_count": 10
        }
      ]
    },
    {
      "cell_type": "code",
      "source": [
        "#Boxplot of patient ages\n",
        "sns.boxplot(Thyroid_Recurrence['Age'])"
      ],
      "metadata": {
        "id": "yFCgt21NL6eq",
        "colab": {
          "base_uri": "https://localhost:8080/",
          "height": 428
        },
        "outputId": "5236d03b-6e56-443f-95e8-03a70dc62469"
      },
      "execution_count": null,
      "outputs": [
        {
          "output_type": "execute_result",
          "data": {
            "text/plain": [
              "<Axes: ylabel='Age'>"
            ]
          },
          "metadata": {},
          "execution_count": 11
        },
        {
          "output_type": "display_data",
          "data": {
            "text/plain": [
              "<Figure size 640x480 with 1 Axes>"
            ],
            "image/png": "[encoded data removed]"
          },
          "metadata": {}
        }
      ]
    },
    {
      "cell_type": "code",
      "source": [
        "#Histogram of ages\n",
        "sns.histplot(Thyroid_Recurrence['Age'])"
      ],
      "metadata": {
        "id": "jrrnTP_qSWJv",
        "colab": {
          "base_uri": "https://localhost:8080/",
          "height": 466
        },
        "outputId": "968fbc78-6afd-498a-d8eb-c229cfb0aa58"
      },
      "execution_count": null,
      "outputs": [
        {
          "output_type": "execute_result",
          "data": {
            "text/plain": [
              "<Axes: xlabel='Age', ylabel='Count'>"
            ]
          },
          "metadata": {},
          "execution_count": 12
        },
        {
          "output_type": "display_data",
          "data": {
            "text/plain": [
              "<Figure size 640x480 with 1 Axes>"
            ],
            "image/png": "[encoded data removed]"
          },
          "metadata": {}
        }
      ]
    },
    {
      "cell_type": "code",
      "source": [
        "#Boxplot of patient smoking status\n",
        "sns.boxplot(Thyroid_Recurrence['Smoking'])"
      ],
      "metadata": {
        "id": "S5IP58LoN5ds",
        "colab": {
          "base_uri": "https://localhost:8080/",
          "height": 428
        },
        "outputId": "98b33d22-4ef1-4a38-c425-8c8555463baf"
      },
      "execution_count": null,
      "outputs": [
        {
          "output_type": "execute_result",
          "data": {
            "text/plain": [
              "<Axes: ylabel='Smoking'>"
            ]
          },
          "metadata": {},
          "execution_count": 13
        },
        {
          "output_type": "display_data",
          "data": {
            "text/plain": [
              "<Figure size 640x480 with 1 Axes>"
            ],
            "image/png": "[encoded data removed]"
          },
          "metadata": {}
        }
      ]
    },
    {
      "cell_type": "code",
      "source": [
        "# Smoking preprocessing\n",
        "Thyroid_Recurrence['Smoking']=Thyroid_Recurrence['Smoking'].replace(\"No\",0)\n",
        "Thyroid_Recurrence['Smoking']=Thyroid_Recurrence['Smoking'].replace(\"Yes\",1)\n"
      ],
      "metadata": {
        "id": "kvltKBl2ra6T",
        "colab": {
          "base_uri": "https://localhost:8080/"
        },
        "outputId": "bf3f605d-3d41-4717-e96f-502a5f9ab9ee"
      },
      "execution_count": null,
      "outputs": [
        {
          "output_type": "stream",
          "name": "stderr",
          "text": [
            "<ipython-input-14-99207ac0c07d>:2: FutureWarning: Downcasting behavior in `replace` is deprecated and will be removed in a future version. To retain the old behavior, explicitly call `result.infer_objects(copy=False)`. To opt-in to the future behavior, set `pd.set_option('future.no_silent_downcasting', True)`\n",
            "  Thyroid_Recurrence['Smoking']=Thyroid_Recurrence['Smoking'].replace(\"Yes\",1)\n"
          ]
        }
      ]
    },
    {
      "cell_type": "code",
      "source": [
        "# Boxplot of gender\n",
        "sns.boxplot(Thyroid_Recurrence['Gender'])"
      ],
      "metadata": {
        "id": "xhKNCfFJOA-A",
        "colab": {
          "base_uri": "https://localhost:8080/",
          "height": 428
        },
        "outputId": "bb28c189-c4cf-4323-d2a9-45191cf24fed"
      },
      "execution_count": null,
      "outputs": [
        {
          "output_type": "execute_result",
          "data": {
            "text/plain": [
              "<Axes: ylabel='Gender'>"
            ]
          },
          "metadata": {},
          "execution_count": 15
        },
        {
          "output_type": "display_data",
          "data": {
            "text/plain": [
              "<Figure size 640x480 with 1 Axes>"
            ],
            "image/png": "[encoded data removed]"
          },
          "metadata": {}
        }
      ]
    },
    {
      "cell_type": "code",
      "source": [
        "# Preprocessing gender\n",
        "Thyroid_Recurrence['Gender']=Thyroid_Recurrence['Gender'].replace(\"F\",0)\n",
        "Thyroid_Recurrence['Gender']=Thyroid_Recurrence['Gender'].replace(\"M\",1)"
      ],
      "metadata": {
        "colab": {
          "base_uri": "https://localhost:8080/"
        },
        "id": "RdD8bsnjsEeX",
        "outputId": "56d41f67-fa60-406a-bba9-4a001945dcb2"
      },
      "execution_count": null,
      "outputs": [
        {
          "output_type": "stream",
          "name": "stderr",
          "text": [
            "<ipython-input-16-e85446519098>:2: FutureWarning: Downcasting behavior in `replace` is deprecated and will be removed in a future version. To retain the old behavior, explicitly call `result.infer_objects(copy=False)`. To opt-in to the future behavior, set `pd.set_option('future.no_silent_downcasting', True)`\n",
            "  Thyroid_Recurrence['Gender']=Thyroid_Recurrence['Gender'].replace(\"M\",1)\n"
          ]
        }
      ]
    },
    {
      "cell_type": "code",
      "source": [
        "#Histogram of smoking status\n",
        "sns.histplot(Thyroid_Recurrence['Hx Smoking'])"
      ],
      "metadata": {
        "colab": {
          "base_uri": "https://localhost:8080/",
          "height": 466
        },
        "id": "vGjo4ecJsVQD",
        "outputId": "c72ecf67-6a8b-4b56-b265-60a6f02195f1"
      },
      "execution_count": null,
      "outputs": [
        {
          "output_type": "execute_result",
          "data": {
            "text/plain": [
              "<Axes: xlabel='Hx Smoking', ylabel='Count'>"
            ]
          },
          "metadata": {},
          "execution_count": 17
        },
        {
          "output_type": "display_data",
          "data": {
            "text/plain": [
              "<Figure size 640x480 with 1 Axes>"
            ],
            "image/png": "[encoded data removed]"
          },
          "metadata": {}
        }
      ]
    },
    {
      "cell_type": "code",
      "source": [
        "# Smoking preprocessing\n",
        "Thyroid_Recurrence['Hx Smoking']= Thyroid_Recurrence['Hx Smoking'].replace(\"No\",0)\n",
        "Thyroid_Recurrence['Hx Smoking']= Thyroid_Recurrence['Hx Smoking'].replace(\"Yes\",1)"
      ],
      "metadata": {
        "colab": {
          "base_uri": "https://localhost:8080/"
        },
        "id": "bh0LWuj_tBv9",
        "outputId": "5fae0812-73fb-4b77-bcee-9d32373104b6"
      },
      "execution_count": null,
      "outputs": [
        {
          "output_type": "stream",
          "name": "stderr",
          "text": [
            "<ipython-input-18-a80162848e21>:2: FutureWarning: Downcasting behavior in `replace` is deprecated and will be removed in a future version. To retain the old behavior, explicitly call `result.infer_objects(copy=False)`. To opt-in to the future behavior, set `pd.set_option('future.no_silent_downcasting', True)`\n",
            "  Thyroid_Recurrence['Hx Smoking']= Thyroid_Recurrence['Hx Smoking'].replace(\"Yes\",1)\n"
          ]
        }
      ]
    },
    {
      "cell_type": "code",
      "source": [
        "print(Thyroid_Recurrence['Pathology'])"
      ],
      "metadata": {
        "id": "j5KtJ1KXRqBl",
        "colab": {
          "base_uri": "https://localhost:8080/"
        },
        "outputId": "f14e6ac2-985d-453c-f7b7-a4259af37680"
      },
      "execution_count": null,
      "outputs": [
        {
          "output_type": "stream",
          "name": "stdout",
          "text": [
            "0      Micropapillary\n",
            "1      Micropapillary\n",
            "2      Micropapillary\n",
            "3      Micropapillary\n",
            "4      Micropapillary\n",
            "            ...      \n",
            "378         Papillary\n",
            "379         Papillary\n",
            "380         Papillary\n",
            "381      Hurthel cell\n",
            "382         Papillary\n",
            "Name: Pathology, Length: 383, dtype: object\n"
          ]
        }
      ]
    },
    {
      "cell_type": "code",
      "source": [
        "#Histogram of patient responses to treatment\n",
        "sns.histplot(Thyroid_Recurrence['Response'])"
      ],
      "metadata": {
        "id": "SFmvTCriR3pt",
        "colab": {
          "base_uri": "https://localhost:8080/",
          "height": 466
        },
        "outputId": "9bcd5559-774f-4fdc-8414-d84548b88d04"
      },
      "execution_count": null,
      "outputs": [
        {
          "output_type": "execute_result",
          "data": {
            "text/plain": [
              "<Axes: xlabel='Response', ylabel='Count'>"
            ]
          },
          "metadata": {},
          "execution_count": 20
        },
        {
          "output_type": "display_data",
          "data": {
            "text/plain": [
              "<Figure size 640x480 with 1 Axes>"
            ],
            "image/png": "[encoded data removed]"
          },
          "metadata": {}
        }
      ]
    },
    {
      "cell_type": "code",
      "source": [
        "# Preprocessing response variable\n",
        "Thyroid_Recurrence['Response']=Thyroid_Recurrence['Response'].replace(\"Indeterminate\",0)\n",
        "Thyroid_Recurrence['Response']=Thyroid_Recurrence['Response'].replace(\"Excellent\",1)\n",
        "Thyroid_Recurrence['Response']=Thyroid_Recurrence['Response'].replace(\"Structural Incomplete\",2)\n",
        "Thyroid_Recurrence['Response']=Thyroid_Recurrence['Response'].replace(\"Biochemical Incomplete\",3)"
      ],
      "metadata": {
        "colab": {
          "base_uri": "https://localhost:8080/"
        },
        "id": "F1hYl4JBrRyy",
        "outputId": "76175d7a-5804-468b-83d9-72c42912ceae"
      },
      "execution_count": null,
      "outputs": [
        {
          "output_type": "stream",
          "name": "stderr",
          "text": [
            "<ipython-input-21-fc32efd81cec>:4: FutureWarning: Downcasting behavior in `replace` is deprecated and will be removed in a future version. To retain the old behavior, explicitly call `result.infer_objects(copy=False)`. To opt-in to the future behavior, set `pd.set_option('future.no_silent_downcasting', True)`\n",
            "  Thyroid_Recurrence['Response']=Thyroid_Recurrence['Response'].replace(\"Biochemical Incomplete\",3)\n"
          ]
        }
      ]
    },
    {
      "cell_type": "code",
      "source": [
        "#Histogram of radiotherapy status\n",
        "sns.histplot(Thyroid_Recurrence['Hx Radiothreapy'])"
      ],
      "metadata": {
        "colab": {
          "base_uri": "https://localhost:8080/",
          "height": 466
        },
        "id": "C6FxPH3gvbo2",
        "outputId": "6ee3ca43-a147-4b18-ffc5-428d68934dff"
      },
      "execution_count": null,
      "outputs": [
        {
          "output_type": "execute_result",
          "data": {
            "text/plain": [
              "<Axes: xlabel='Hx Radiothreapy', ylabel='Count'>"
            ]
          },
          "metadata": {},
          "execution_count": 22
        },
        {
          "output_type": "display_data",
          "data": {
            "text/plain": [
              "<Figure size 640x480 with 1 Axes>"
            ],
            "image/png": "[encoded data removed]"
          },
          "metadata": {}
        }
      ]
    },
    {
      "cell_type": "code",
      "source": [
        "# Preprocessing radiotherapy variable\n",
        "Thyroid_Recurrence['Hx Radiothreapy']=Thyroid_Recurrence['Hx Radiothreapy'].replace(\"No\",0)\n",
        "Thyroid_Recurrence['Hx Radiothreapy']=Thyroid_Recurrence['Hx Radiothreapy'].replace(\"Yes\",1)"
      ],
      "metadata": {
        "colab": {
          "base_uri": "https://localhost:8080/"
        },
        "id": "4SvNHmPjvok2",
        "outputId": "91b62f66-f605-4b9f-db8e-870a16a6daf3"
      },
      "execution_count": null,
      "outputs": [
        {
          "output_type": "stream",
          "name": "stderr",
          "text": [
            "<ipython-input-23-3b2324af5951>:2: FutureWarning: Downcasting behavior in `replace` is deprecated and will be removed in a future version. To retain the old behavior, explicitly call `result.infer_objects(copy=False)`. To opt-in to the future behavior, set `pd.set_option('future.no_silent_downcasting', True)`\n",
            "  Thyroid_Recurrence['Hx Radiothreapy']=Thyroid_Recurrence['Hx Radiothreapy'].replace(\"Yes\",1)\n"
          ]
        }
      ]
    },
    {
      "cell_type": "code",
      "source": [
        "# Boxplot of thyroid function\n",
        "sns.boxplot(Thyroid_Recurrence['Thyroid Function'])"
      ],
      "metadata": {
        "colab": {
          "base_uri": "https://localhost:8080/",
          "height": 428
        },
        "id": "tQazU9Qjvv_B",
        "outputId": "2c363a29-f127-4582-c79e-7a868b59770e"
      },
      "execution_count": null,
      "outputs": [
        {
          "output_type": "execute_result",
          "data": {
            "text/plain": [
              "<Axes: ylabel='Thyroid Function'>"
            ]
          },
          "metadata": {},
          "execution_count": 24
        },
        {
          "output_type": "display_data",
          "data": {
            "text/plain": [
              "<Figure size 640x480 with 1 Axes>"
            ],
            "image/png": "[encoded data removed]"
          },
          "metadata": {}
        }
      ]
    },
    {
      "cell_type": "code",
      "source": [
        "# Preprocessing function variable\n",
        "Thyroid_Recurrence['Thyroid Function']=Thyroid_Recurrence['Thyroid Function'].replace(\"Euthyroid\",0)\n",
        "Thyroid_Recurrence['Thyroid Function']=Thyroid_Recurrence['Thyroid Function'].replace(\"Clinical Hyperthyroidism\",1)\n",
        "Thyroid_Recurrence['Thyroid Function']=Thyroid_Recurrence['Thyroid Function'].replace(\"Clinical Hypothyroidism\",2)\n",
        "Thyroid_Recurrence['Thyroid Function']=Thyroid_Recurrence['Thyroid Function'].replace(\"Subclinical Hyperthyroidism\",3)\n",
        "Thyroid_Recurrence['Thyroid Function']=Thyroid_Recurrence['Thyroid Function'].replace(\"Subclinical Hypothyroidism\",4)"
      ],
      "metadata": {
        "id": "YzDs1RBev_QP",
        "colab": {
          "base_uri": "https://localhost:8080/"
        },
        "outputId": "86e17a99-d19f-4049-e9a9-8b3f286673cd"
      },
      "execution_count": null,
      "outputs": [
        {
          "output_type": "stream",
          "name": "stderr",
          "text": [
            "<ipython-input-25-8ddb94b37101>:5: FutureWarning: Downcasting behavior in `replace` is deprecated and will be removed in a future version. To retain the old behavior, explicitly call `result.infer_objects(copy=False)`. To opt-in to the future behavior, set `pd.set_option('future.no_silent_downcasting', True)`\n",
            "  Thyroid_Recurrence['Thyroid Function']=Thyroid_Recurrence['Thyroid Function'].replace(\"Subclinical Hypothyroidism\",4)\n"
          ]
        }
      ]
    },
    {
      "cell_type": "code",
      "source": [
        "\n",
        "sns.boxplot(Thyroid_Recurrence['Physical Examination'])"
      ],
      "metadata": {
        "colab": {
          "base_uri": "https://localhost:8080/",
          "height": 428
        },
        "id": "0MjklgNMxaS6",
        "outputId": "a8183adb-7578-45fb-ea78-2aaaa234c581"
      },
      "execution_count": null,
      "outputs": [
        {
          "output_type": "execute_result",
          "data": {
            "text/plain": [
              "<Axes: ylabel='Physical Examination'>"
            ]
          },
          "metadata": {},
          "execution_count": 26
        },
        {
          "output_type": "display_data",
          "data": {
            "text/plain": [
              "<Figure size 640x480 with 1 Axes>"
            ],
            "image/png": "[encoded data removed]"
          },
          "metadata": {}
        }
      ]
    },
    {
      "cell_type": "code",
      "source": [
        "Thyroid_Recurrence['Physical Examination']=Thyroid_Recurrence['Physical Examination'].replace(\"Single nodular goiter-left\",0)\n",
        "Thyroid_Recurrence['Physical Examination']=Thyroid_Recurrence['Physical Examination'].replace(\"Multinodular goiter\",1)\n",
        "Thyroid_Recurrence['Physical Examination']=Thyroid_Recurrence['Physical Examination'].replace(\"Single nodular goiter-right\",2)\n",
        "Thyroid_Recurrence['Physical Examination']=Thyroid_Recurrence['Physical Examination'].replace(\"Normal\",3)\n",
        "Thyroid_Recurrence['Physical Examination']=Thyroid_Recurrence['Physical Examination'].replace(\"Diffuse goiter\",4)"
      ],
      "metadata": {
        "colab": {
          "base_uri": "https://localhost:8080/"
        },
        "id": "Eq3R82Iwxj6F",
        "outputId": "53eb1dc3-9b9f-40d0-f6d8-2fd6e646b15c"
      },
      "execution_count": null,
      "outputs": [
        {
          "output_type": "stream",
          "name": "stderr",
          "text": [
            "<ipython-input-27-127e64363e15>:5: FutureWarning: Downcasting behavior in `replace` is deprecated and will be removed in a future version. To retain the old behavior, explicitly call `result.infer_objects(copy=False)`. To opt-in to the future behavior, set `pd.set_option('future.no_silent_downcasting', True)`\n",
            "  Thyroid_Recurrence['Physical Examination']=Thyroid_Recurrence['Physical Examination'].replace(\"Diffuse goiter\",4)\n"
          ]
        }
      ]
    },
    {
      "cell_type": "code",
      "source": [
        "sns.histplot(Thyroid_Recurrence['Adenopathy'])"
      ],
      "metadata": {
        "colab": {
          "base_uri": "https://localhost:8080/",
          "height": 466
        },
        "id": "uBMitsRPx6U4",
        "outputId": "8e81d2f2-8e6d-4f5f-acf8-bd8e8eacf630"
      },
      "execution_count": null,
      "outputs": [
        {
          "output_type": "execute_result",
          "data": {
            "text/plain": [
              "<Axes: xlabel='Adenopathy', ylabel='Count'>"
            ]
          },
          "metadata": {},
          "execution_count": 28
        },
        {
          "output_type": "display_data",
          "data": {
            "text/plain": [
              "<Figure size 640x480 with 1 Axes>"
            ],
            "image/png": "[encoded data removed]"
          },
          "metadata": {}
        }
      ]
    },
    {
      "cell_type": "code",
      "source": [
        "Thyroid_Recurrence['Adenopathy']=Thyroid_Recurrence['Adenopathy'].replace(\"No\",0)\n",
        "Thyroid_Recurrence['Adenopathy']=Thyroid_Recurrence['Adenopathy'].replace(\"Right\",1)\n",
        "Thyroid_Recurrence['Adenopathy']=Thyroid_Recurrence['Adenopathy'].replace(\"Extensive\",2)\n",
        "Thyroid_Recurrence['Adenopathy']=Thyroid_Recurrence['Adenopathy'].replace(\"Left\",3)\n",
        "Thyroid_Recurrence['Adenopathy']=Thyroid_Recurrence['Adenopathy'].replace(\"Bilateral\",4)\n",
        "Thyroid_Recurrence['Adenopathy']=Thyroid_Recurrence['Adenopathy'].replace(\"Posterior\",5)"
      ],
      "metadata": {
        "colab": {
          "base_uri": "https://localhost:8080/"
        },
        "id": "Y3qVN-KAyQbT",
        "outputId": "c9a7e1c3-81e9-4ad4-9e27-116979797105"
      },
      "execution_count": null,
      "outputs": [
        {
          "output_type": "stream",
          "name": "stderr",
          "text": [
            "<ipython-input-29-c11c821e86ca>:6: FutureWarning: Downcasting behavior in `replace` is deprecated and will be removed in a future version. To retain the old behavior, explicitly call `result.infer_objects(copy=False)`. To opt-in to the future behavior, set `pd.set_option('future.no_silent_downcasting', True)`\n",
            "  Thyroid_Recurrence['Adenopathy']=Thyroid_Recurrence['Adenopathy'].replace(\"Posterior\",5)\n"
          ]
        }
      ]
    },
    {
      "cell_type": "code",
      "source": [
        "sns.histplot(Thyroid_Recurrence['Pathology'])"
      ],
      "metadata": {
        "colab": {
          "base_uri": "https://localhost:8080/",
          "height": 470
        },
        "id": "pS26pPW91xj5",
        "outputId": "6fe4c6ab-46dc-4956-9804-8eea8b8c4310"
      },
      "execution_count": null,
      "outputs": [
        {
          "output_type": "execute_result",
          "data": {
            "text/plain": [
              "<Axes: xlabel='Pathology', ylabel='Count'>"
            ]
          },
          "metadata": {},
          "execution_count": 30
        },
        {
          "output_type": "display_data",
          "data": {
            "text/plain": [
              "<Figure size 640x480 with 1 Axes>"
            ],
            "image/png": "[encoded data removed]"
          },
          "metadata": {}
        }
      ]
    },
    {
      "cell_type": "code",
      "source": [
        "Thyroid_Recurrence['Pathology']=Thyroid_Recurrence['Pathology'].replace(\"Micropapillary\",0)\n",
        "Thyroid_Recurrence['Pathology']=Thyroid_Recurrence['Pathology'].replace(\"Papillary\",1)\n",
        "Thyroid_Recurrence['Pathology']=Thyroid_Recurrence['Pathology'].replace(\"Follicular\",2)\n",
        "Thyroid_Recurrence['Pathology']=Thyroid_Recurrence['Pathology'].replace(\"Hurthel cell\",3)"
      ],
      "metadata": {
        "colab": {
          "base_uri": "https://localhost:8080/"
        },
        "id": "M9Y6esOL1556",
        "outputId": "ca847108-0c7c-46ca-abfe-a9f382141be7"
      },
      "execution_count": null,
      "outputs": [
        {
          "output_type": "stream",
          "name": "stderr",
          "text": [
            "<ipython-input-31-aa12d6337e12>:4: FutureWarning: Downcasting behavior in `replace` is deprecated and will be removed in a future version. To retain the old behavior, explicitly call `result.infer_objects(copy=False)`. To opt-in to the future behavior, set `pd.set_option('future.no_silent_downcasting', True)`\n",
            "  Thyroid_Recurrence['Pathology']=Thyroid_Recurrence['Pathology'].replace(\"Hurthel cell\",3)\n"
          ]
        }
      ]
    },
    {
      "cell_type": "code",
      "source": [
        "sns.histplot(Thyroid_Recurrence['Focality'])"
      ],
      "metadata": {
        "colab": {
          "base_uri": "https://localhost:8080/",
          "height": 466
        },
        "id": "y1eulp_-2p_g",
        "outputId": "837c2d78-140c-4de0-8915-80181e79333a"
      },
      "execution_count": null,
      "outputs": [
        {
          "output_type": "execute_result",
          "data": {
            "text/plain": [
              "<Axes: xlabel='Focality', ylabel='Count'>"
            ]
          },
          "metadata": {},
          "execution_count": 32
        },
        {
          "output_type": "display_data",
          "data": {
            "text/plain": [
              "<Figure size 640x480 with 1 Axes>"
            ],
            "image/png": "[encoded data removed]"
          },
          "metadata": {}
        }
      ]
    },
    {
      "cell_type": "code",
      "source": [
        "Thyroid_Recurrence['Focality']=Thyroid_Recurrence['Focality'].replace(\"Uni-Focal\",0)\n",
        "Thyroid_Recurrence['Focality']=Thyroid_Recurrence['Focality'].replace(\"Multi-Focal\",1)"
      ],
      "metadata": {
        "colab": {
          "base_uri": "https://localhost:8080/"
        },
        "id": "eEEDOdWz21As",
        "outputId": "204ff013-b07f-48b3-e130-27fc12d8b3fc"
      },
      "execution_count": null,
      "outputs": [
        {
          "output_type": "stream",
          "name": "stderr",
          "text": [
            "<ipython-input-33-7c8b86fd7cbd>:2: FutureWarning: Downcasting behavior in `replace` is deprecated and will be removed in a future version. To retain the old behavior, explicitly call `result.infer_objects(copy=False)`. To opt-in to the future behavior, set `pd.set_option('future.no_silent_downcasting', True)`\n",
            "  Thyroid_Recurrence['Focality']=Thyroid_Recurrence['Focality'].replace(\"Multi-Focal\",1)\n"
          ]
        }
      ]
    },
    {
      "cell_type": "code",
      "source": [
        "sns.histplot(Thyroid_Recurrence['Risk'])"
      ],
      "metadata": {
        "colab": {
          "base_uri": "https://localhost:8080/",
          "height": 466
        },
        "id": "r60opfxQ3Egq",
        "outputId": "7ad2f5c1-43eb-4b6a-bf89-f5c22ff0b7b1"
      },
      "execution_count": null,
      "outputs": [
        {
          "output_type": "execute_result",
          "data": {
            "text/plain": [
              "<Axes: xlabel='Risk', ylabel='Count'>"
            ]
          },
          "metadata": {},
          "execution_count": 34
        },
        {
          "output_type": "display_data",
          "data": {
            "text/plain": [
              "<Figure size 640x480 with 1 Axes>"
            ],
            "image/png": "[encoded data removed]"
          },
          "metadata": {}
        }
      ]
    },
    {
      "cell_type": "code",
      "source": [
        "Thyroid_Recurrence['Risk']=Thyroid_Recurrence['Risk'].replace(\"Low\",0)\n",
        "Thyroid_Recurrence['Risk']=Thyroid_Recurrence['Risk'].replace(\"Intermediate\",1)\n",
        "Thyroid_Recurrence['Risk']=Thyroid_Recurrence['Risk'].replace(\"High\",2)"
      ],
      "metadata": {
        "id": "fouHPJJB3Xn1",
        "colab": {
          "base_uri": "https://localhost:8080/"
        },
        "outputId": "b0706ac3-f105-4144-b261-08305fe21eea"
      },
      "execution_count": null,
      "outputs": [
        {
          "output_type": "stream",
          "name": "stderr",
          "text": [
            "<ipython-input-35-fb0e5be65df4>:3: FutureWarning: Downcasting behavior in `replace` is deprecated and will be removed in a future version. To retain the old behavior, explicitly call `result.infer_objects(copy=False)`. To opt-in to the future behavior, set `pd.set_option('future.no_silent_downcasting', True)`\n",
            "  Thyroid_Recurrence['Risk']=Thyroid_Recurrence['Risk'].replace(\"High\",2)\n"
          ]
        }
      ]
    },
    {
      "cell_type": "code",
      "source": [
        "sns.histplot(Thyroid_Recurrence['T'])"
      ],
      "metadata": {
        "colab": {
          "base_uri": "https://localhost:8080/",
          "height": 466
        },
        "id": "FDJyboYZ5XQJ",
        "outputId": "7d14e13a-2c10-44f8-901f-8f9827dbf420"
      },
      "execution_count": null,
      "outputs": [
        {
          "output_type": "execute_result",
          "data": {
            "text/plain": [
              "<Axes: xlabel='T', ylabel='Count'>"
            ]
          },
          "metadata": {},
          "execution_count": 36
        },
        {
          "output_type": "display_data",
          "data": {
            "text/plain": [
              "<Figure size 640x480 with 1 Axes>"
            ],
            "image/png": "[encoded data removed]"
          },
          "metadata": {}
        }
      ]
    },
    {
      "cell_type": "code",
      "source": [
        "Thyroid_Recurrence['T']=Thyroid_Recurrence['T'].replace(\"T1a\",0)\n",
        "Thyroid_Recurrence['T']=Thyroid_Recurrence['T'].replace(\"T1b\",1)\n",
        "Thyroid_Recurrence['T']=Thyroid_Recurrence['T'].replace(\"T2\",2)\n",
        "Thyroid_Recurrence['T']=Thyroid_Recurrence['T'].replace(\"T3a\",3)\n",
        "Thyroid_Recurrence['T']=Thyroid_Recurrence['T'].replace(\"T3b\",4)\n",
        "Thyroid_Recurrence['T']=Thyroid_Recurrence['T'].replace(\"T4a\",5)\n",
        "Thyroid_Recurrence['T']=Thyroid_Recurrence['T'].replace(\"T4b\",6)\n"
      ],
      "metadata": {
        "colab": {
          "base_uri": "https://localhost:8080/"
        },
        "id": "UjPPeko65mPL",
        "outputId": "ca22b5e8-b279-4bca-f4e6-d64c27eaa402"
      },
      "execution_count": null,
      "outputs": [
        {
          "output_type": "stream",
          "name": "stderr",
          "text": [
            "<ipython-input-37-4de749d3c2da>:7: FutureWarning: Downcasting behavior in `replace` is deprecated and will be removed in a future version. To retain the old behavior, explicitly call `result.infer_objects(copy=False)`. To opt-in to the future behavior, set `pd.set_option('future.no_silent_downcasting', True)`\n",
            "  Thyroid_Recurrence['T']=Thyroid_Recurrence['T'].replace(\"T4b\",6)\n"
          ]
        }
      ]
    },
    {
      "cell_type": "code",
      "source": [
        "sns.histplot(Thyroid_Recurrence['N'])"
      ],
      "metadata": {
        "colab": {
          "base_uri": "https://localhost:8080/",
          "height": 466
        },
        "id": "T1fsJkIc5-c7",
        "outputId": "c19ce331-6b73-4b1b-aed5-f4d51374cf56"
      },
      "execution_count": null,
      "outputs": [
        {
          "output_type": "execute_result",
          "data": {
            "text/plain": [
              "<Axes: xlabel='N', ylabel='Count'>"
            ]
          },
          "metadata": {},
          "execution_count": 38
        },
        {
          "output_type": "display_data",
          "data": {
            "text/plain": [
              "<Figure size 640x480 with 1 Axes>"
            ],
            "image/png": "[encoded data removed]"
          },
          "metadata": {}
        }
      ]
    },
    {
      "cell_type": "code",
      "source": [
        "Thyroid_Recurrence['N']=Thyroid_Recurrence['N'].replace(\"N0\",0)\n",
        "Thyroid_Recurrence['N']=Thyroid_Recurrence['N'].replace(\"N1b\",1)\n",
        "Thyroid_Recurrence['N']=Thyroid_Recurrence['N'].replace(\"N1a\",2)"
      ],
      "metadata": {
        "colab": {
          "base_uri": "https://localhost:8080/"
        },
        "id": "-3CP_LkH6MN1",
        "outputId": "09c0a4ae-9a02-43b7-937f-87aa7c255f55"
      },
      "execution_count": null,
      "outputs": [
        {
          "output_type": "stream",
          "name": "stderr",
          "text": [
            "<ipython-input-39-b8d8a200ad31>:3: FutureWarning: Downcasting behavior in `replace` is deprecated and will be removed in a future version. To retain the old behavior, explicitly call `result.infer_objects(copy=False)`. To opt-in to the future behavior, set `pd.set_option('future.no_silent_downcasting', True)`\n",
            "  Thyroid_Recurrence['N']=Thyroid_Recurrence['N'].replace(\"N1a\",2)\n"
          ]
        }
      ]
    },
    {
      "cell_type": "code",
      "source": [
        "sns.histplot(Thyroid_Recurrence['M'])"
      ],
      "metadata": {
        "colab": {
          "base_uri": "https://localhost:8080/",
          "height": 466
        },
        "id": "0bg1X4di6sPU",
        "outputId": "bcb47ef5-e9a1-4847-bbee-c8286b5af3dc"
      },
      "execution_count": null,
      "outputs": [
        {
          "output_type": "execute_result",
          "data": {
            "text/plain": [
              "<Axes: xlabel='M', ylabel='Count'>"
            ]
          },
          "metadata": {},
          "execution_count": 40
        },
        {
          "output_type": "display_data",
          "data": {
            "text/plain": [
              "<Figure size 640x480 with 1 Axes>"
            ],
            "image/png": "[encoded data removed]"
          },
          "metadata": {}
        }
      ]
    },
    {
      "cell_type": "code",
      "source": [
        "Thyroid_Recurrence['M']=Thyroid_Recurrence['M'].replace(\"M0\",0)\n",
        "Thyroid_Recurrence['M']=Thyroid_Recurrence['M'].replace(\"M1\",1)"
      ],
      "metadata": {
        "id": "xfhhAEGc6zaT",
        "colab": {
          "base_uri": "https://localhost:8080/"
        },
        "outputId": "7a67b743-9917-47da-a5b1-a7d8c81ed28d"
      },
      "execution_count": null,
      "outputs": [
        {
          "output_type": "stream",
          "name": "stderr",
          "text": [
            "<ipython-input-41-54f0f07d746f>:2: FutureWarning: Downcasting behavior in `replace` is deprecated and will be removed in a future version. To retain the old behavior, explicitly call `result.infer_objects(copy=False)`. To opt-in to the future behavior, set `pd.set_option('future.no_silent_downcasting', True)`\n",
            "  Thyroid_Recurrence['M']=Thyroid_Recurrence['M'].replace(\"M1\",1)\n"
          ]
        }
      ]
    },
    {
      "cell_type": "code",
      "source": [
        "# Creating X and Y data\n",
        "y=Thyroid_Recurrence['Recurred']\n",
        "x=Thyroid_Recurrence.drop(columns=['Recurred'])"
      ],
      "metadata": {
        "id": "lWcXiHgBS55u"
      },
      "execution_count": null,
      "outputs": []
    },
    {
      "cell_type": "code",
      "source": [
        "#Splitting the data into training and testing\n",
        "from sklearn.model_selection import train_test_split\n",
        "\n",
        "X_train, X_test,y_train, y_test = train_test_split(x,y,test_size=.30,random_state=9)\n",
        "print(X_train.shape)\n",
        "print(X_test.shape)\n",
        "print(y_train.shape)\n",
        "print(y_test.shape)\n",
        "print(y_train)"
      ],
      "metadata": {
        "id": "xyRJ_N2vTNcb",
        "colab": {
          "base_uri": "https://localhost:8080/"
        },
        "outputId": "fd07d0d9-b524-4896-aa97-321da2cbdfa0"
      },
      "execution_count": null,
      "outputs": [
        {
          "output_type": "stream",
          "name": "stdout",
          "text": [
            "(268, 16)\n",
            "(115, 16)\n",
            "(268,)\n",
            "(115,)\n",
            "175    0\n",
            "263    0\n",
            "280    0\n",
            "372    1\n",
            "192    0\n",
            "      ..\n",
            "251    0\n",
            "56     0\n",
            "126    0\n",
            "348    1\n",
            "382    1\n",
            "Name: Recurred, Length: 268, dtype: int64\n"
          ]
        }
      ]
    },
    {
      "cell_type": "code",
      "source": [
        "print(y_train.value_counts())"
      ],
      "metadata": {
        "id": "Oy1i9H0Ro0XX",
        "colab": {
          "base_uri": "https://localhost:8080/"
        },
        "outputId": "edd08182-cba0-4d58-8cf9-a5d26eb33e50"
      },
      "execution_count": null,
      "outputs": [
        {
          "output_type": "stream",
          "name": "stdout",
          "text": [
            "Recurred\n",
            "0    196\n",
            "1     72\n",
            "Name: count, dtype: int64\n"
          ]
        }
      ]
    },
    {
      "cell_type": "code",
      "source": [
        "print(y_test.value_counts())"
      ],
      "metadata": {
        "id": "1nkBQthNTXwu",
        "colab": {
          "base_uri": "https://localhost:8080/"
        },
        "outputId": "96c5b5d1-bae3-41f8-84fd-fe07e71fd56b"
      },
      "execution_count": null,
      "outputs": [
        {
          "output_type": "stream",
          "name": "stdout",
          "text": [
            "Recurred\n",
            "0    79\n",
            "1    36\n",
            "Name: count, dtype: int64\n"
          ]
        }
      ]
    },
    {
      "cell_type": "code",
      "source": [
        "# Logistic regression model coding\n",
        "from sklearn.linear_model import LogisticRegression\n",
        "logistic_model = LogisticRegression(random_state=9)\n",
        "logistic_model.fit(X_train , y_train)"
      ],
      "metadata": {
        "colab": {
          "base_uri": "https://localhost:8080/",
          "height": 216
        },
        "id": "0ExmiOkT7nv7",
        "outputId": "4b4f57e7-7060-421c-dafe-7555207203f2"
      },
      "execution_count": null,
      "outputs": [
        {
          "output_type": "stream",
          "name": "stderr",
          "text": [
            "/usr/local/lib/python3.11/dist-packages/sklearn/linear_model/_logistic.py:465: ConvergenceWarning: lbfgs failed to converge (status=1):\n",
            "STOP: TOTAL NO. of ITERATIONS REACHED LIMIT.\n",
            "\n",
            "Increase the number of iterations (max_iter) or scale the data as shown in:\n",
            "    https://scikit-learn.org/stable/modules/preprocessing.html\n",
            "Please also refer to the documentation for alternative solver options:\n",
            "    https://scikit-learn.org/stable/modules/linear_model.html#logistic-regression\n",
            "  n_iter_i = _check_optimize_result(\n"
          ]
        },
        {
          "output_type": "execute_result",
          "data": {
            "text/plain": [
              "LogisticRegression(random_state=9)"
            ],
            "text/html": [
              "<style>#sk-container-id-2 {\n",
              "  /* Definition of color scheme common for light and dark mode */\n",
              "  --sklearn-color-text: #000;\n",
              "  --sklearn-color-text-muted: #666;\n",
              "  --sklearn-color-line: gray;\n",
              "  /* Definition of color scheme for unfitted estimators */\n",
              "  --sklearn-color-unfitted-level-0: #fff5e6;\n",
              "  --sklearn-color-unfitted-level-1: #f6e4d2;\n",
              "  --sklearn-color-unfitted-level-2: #ffe0b3;\n",
              "  --sklearn-color-unfitted-level-3: chocolate;\n",
              "  /* Definition of color scheme for fitted estimators */\n",
              "  --sklearn-color-fitted-level-0: #f0f8ff;\n",
              "  --sklearn-color-fitted-level-1: #d4ebff;\n",
              "  --sklearn-color-fitted-level-2: #b3dbfd;\n",
              "  --sklearn-color-fitted-level-3: cornflowerblue;\n",
              "\n",
              "  /* Specific color for light theme */\n",
              "  --sklearn-color-text-on-default-background: var(--sg-text-color, var(--theme-code-foreground, var(--jp-content-font-color1, black)));\n",
              "  --sklearn-color-background: var(--sg-background-color, var(--theme-background, var(--jp-layout-color0, white)));\n",
              "  --sklearn-color-border-box: var(--sg-text-color, var(--theme-code-foreground, var(--jp-content-font-color1, black)));\n",
              "  --sklearn-color-icon: #696969;\n",
              "\n",
              "  @media (prefers-color-scheme: dark) {\n",
              "    /* Redefinition of color scheme for dark theme */\n",
              "    --sklearn-color-text-on-default-background: var(--sg-text-color, var(--theme-code-foreground, var(--jp-content-font-color1, white)));\n",
              "    --sklearn-color-background: var(--sg-background-color, var(--theme-background, var(--jp-layout-color0, #111)));\n",
              "    --sklearn-color-border-box: var(--sg-text-color, var(--theme-code-foreground, var(--jp-content-font-color1, white)));\n",
              "    --sklearn-color-icon: #878787;\n",
              "  }\n",
              "}\n",
              "\n",
              "#sk-container-id-2 {\n",
              "  color: var(--sklearn-color-text);\n",
              "}\n",
              "\n",
              "#sk-container-id-2 pre {\n",
              "  padding: 0;\n",
              "}\n",
              "\n",
              "#sk-container-id-2 input.sk-hidden--visually {\n",
              "  border: 0;\n",
              "  clip: rect(1px 1px 1px 1px);\n",
              "  clip: rect(1px, 1px, 1px, 1px);\n",
              "  height: 1px;\n",
              "  margin: -1px;\n",
              "  overflow: hidden;\n",
              "  padding: 0;\n",
              "  position: absolute;\n",
              "  width: 1px;\n",
              "}\n",
              "\n",
              "#sk-container-id-2 div.sk-dashed-wrapped {\n",
              "  border: 1px dashed var(--sklearn-color-line);\n",
              "  margin: 0 0.4em 0.5em 0.4em;\n",
              "  box-sizing: border-box;\n",
              "  padding-bottom: 0.4em;\n",
              "  background-color: var(--sklearn-color-background);\n",
              "}\n",
              "\n",
              "#sk-container-id-2 div.sk-container {\n",
              "  /* jupyter's `normalize.less` sets `[hidden] { display: none; }`\n",
              "     but bootstrap.min.css set `[hidden] { display: none !important; }`\n",
              "     so we also need the `!important` here to be able to override the\n",
              "     default hidden behavior on the sphinx rendered scikit-learn.org.\n",
              "     See: https://github.com/scikit-learn/scikit-learn/issues/21755 */\n",
              "  display: inline-block !important;\n",
              "  position: relative;\n",
              "}\n",
              "\n",
              "#sk-container-id-2 div.sk-text-repr-fallback {\n",
              "  display: none;\n",
              "}\n",
              "\n",
              "div.sk-parallel-item,\n",
              "div.sk-serial,\n",
              "div.sk-item {\n",
              "  /* draw centered vertical line to link estimators */\n",
              "  background-image: linear-gradient(var(--sklearn-color-text-on-default-background), var(--sklearn-color-text-on-default-background));\n",
              "  background-size: 2px 100%;\n",
              "  background-repeat: no-repeat;\n",
              "  background-position: center center;\n",
              "}\n",
              "\n",
              "/* Parallel-specific style estimator block */\n",
              "\n",
              "#sk-container-id-2 div.sk-parallel-item::after {\n",
              "  content: \"\";\n",
              "  width: 100%;\n",
              "  border-bottom: 2px solid var(--sklearn-color-text-on-default-background);\n",
              "  flex-grow: 1;\n",
              "}\n",
              "\n",
              "#sk-container-id-2 div.sk-parallel {\n",
              "  display: flex;\n",
              "  align-items: stretch;\n",
              "  justify-content: center;\n",
              "  background-color: var(--sklearn-color-background);\n",
              "  position: relative;\n",
              "}\n",
              "\n",
              "#sk-container-id-2 div.sk-parallel-item {\n",
              "  display: flex;\n",
              "  flex-direction: column;\n",
              "}\n",
              "\n",
              "#sk-container-id-2 div.sk-parallel-item:first-child::after {\n",
              "  align-self: flex-end;\n",
              "  width: 50%;\n",
              "}\n",
              "\n",
              "#sk-container-id-2 div.sk-parallel-item:last-child::after {\n",
              "  align-self: flex-start;\n",
              "  width: 50%;\n",
              "}\n",
              "\n",
              "#sk-container-id-2 div.sk-parallel-item:only-child::after {\n",
              "  width: 0;\n",
              "}\n",
              "\n",
              "/* Serial-specific style estimator block */\n",
              "\n",
              "#sk-container-id-2 div.sk-serial {\n",
              "  display: flex;\n",
              "  flex-direction: column;\n",
              "  align-items: center;\n",
              "  background-color: var(--sklearn-color-background);\n",
              "  padding-right: 1em;\n",
              "  padding-left: 1em;\n",
              "}\n",
              "\n",
              "\n",
              "/* Toggleable style: style used for estimator/Pipeline/ColumnTransformer box that is\n",
              "clickable and can be expanded/collapsed.\n",
              "- Pipeline and ColumnTransformer use this feature and define the default style\n",
              "- Estimators will overwrite some part of the style using the `sk-estimator` class\n",
              "*/\n",
              "\n",
              "/* Pipeline and ColumnTransformer style (default) */\n",
              "\n",
              "#sk-container-id-2 div.sk-toggleable {\n",
              "  /* Default theme specific background. It is overwritten whether we have a\n",
              "  specific estimator or a Pipeline/ColumnTransformer */\n",
              "  background-color: var(--sklearn-color-background);\n",
              "}\n",
              "\n",
              "/* Toggleable label */\n",
              "#sk-container-id-2 label.sk-toggleable__label {\n",
              "  cursor: pointer;\n",
              "  display: flex;\n",
              "  width: 100%;\n",
              "  margin-bottom: 0;\n",
              "  padding: 0.5em;\n",
              "  box-sizing: border-box;\n",
              "  text-align: center;\n",
              "  align-items: start;\n",
              "  justify-content: space-between;\n",
              "  gap: 0.5em;\n",
              "}\n",
              "\n",
              "#sk-container-id-2 label.sk-toggleable__label .caption {\n",
              "  font-size: 0.6rem;\n",
              "  font-weight: lighter;\n",
              "  color: var(--sklearn-color-text-muted);\n",
              "}\n",
              "\n",
              "#sk-container-id-2 label.sk-toggleable__label-arrow:before {\n",
              "  /* Arrow on the left of the label */\n",
              "  content: \"▸\";\n",
              "  float: left;\n",
              "  margin-right: 0.25em;\n",
              "  color: var(--sklearn-color-icon);\n",
              "}\n",
              "\n",
              "#sk-container-id-2 label.sk-toggleable__label-arrow:hover:before {\n",
              "  color: var(--sklearn-color-text);\n",
              "}\n",
              "\n",
              "/* Toggleable content - dropdown */\n",
              "\n",
              "#sk-container-id-2 div.sk-toggleable__content {\n",
              "  max-height: 0;\n",
              "  max-width: 0;\n",
              "  overflow: hidden;\n",
              "  text-align: left;\n",
              "  /* unfitted */\n",
              "  background-color: var(--sklearn-color-unfitted-level-0);\n",
              "}\n",
              "\n",
              "#sk-container-id-2 div.sk-toggleable__content.fitted {\n",
              "  /* fitted */\n",
              "  background-color: var(--sklearn-color-fitted-level-0);\n",
              "}\n",
              "\n",
              "#sk-container-id-2 div.sk-toggleable__content pre {\n",
              "  margin: 0.2em;\n",
              "  border-radius: 0.25em;\n",
              "  color: var(--sklearn-color-text);\n",
              "  /* unfitted */\n",
              "  background-color: var(--sklearn-color-unfitted-level-0);\n",
              "}\n",
              "\n",
              "#sk-container-id-2 div.sk-toggleable__content.fitted pre {\n",
              "  /* unfitted */\n",
              "  background-color: var(--sklearn-color-fitted-level-0);\n",
              "}\n",
              "\n",
              "#sk-container-id-2 input.sk-toggleable__control:checked~div.sk-toggleable__content {\n",
              "  /* Expand drop-down */\n",
              "  max-height: 200px;\n",
              "  max-width: 100%;\n",
              "  overflow: auto;\n",
              "}\n",
              "\n",
              "#sk-container-id-2 input.sk-toggleable__control:checked~label.sk-toggleable__label-arrow:before {\n",
              "  content: \"▾\";\n",
              "}\n",
              "\n",
              "/* Pipeline/ColumnTransformer-specific style */\n",
              "\n",
              "#sk-container-id-2 div.sk-label input.sk-toggleable__control:checked~label.sk-toggleable__label {\n",
              "  color: var(--sklearn-color-text);\n",
              "  background-color: var(--sklearn-color-unfitted-level-2);\n",
              "}\n",
              "\n",
              "#sk-container-id-2 div.sk-label.fitted input.sk-toggleable__control:checked~label.sk-toggleable__label {\n",
              "  background-color: var(--sklearn-color-fitted-level-2);\n",
              "}\n",
              "\n",
              "/* Estimator-specific style */\n",
              "\n",
              "/* Colorize estimator box */\n",
              "#sk-container-id-2 div.sk-estimator input.sk-toggleable__control:checked~label.sk-toggleable__label {\n",
              "  /* unfitted */\n",
              "  background-color: var(--sklearn-color-unfitted-level-2);\n",
              "}\n",
              "\n",
              "#sk-container-id-2 div.sk-estimator.fitted input.sk-toggleable__control:checked~label.sk-toggleable__label {\n",
              "  /* fitted */\n",
              "  background-color: var(--sklearn-color-fitted-level-2);\n",
              "}\n",
              "\n",
              "#sk-container-id-2 div.sk-label label.sk-toggleable__label,\n",
              "#sk-container-id-2 div.sk-label label {\n",
              "  /* The background is the default theme color */\n",
              "  color: var(--sklearn-color-text-on-default-background);\n",
              "}\n",
              "\n",
              "/* On hover, darken the color of the background */\n",
              "#sk-container-id-2 div.sk-label:hover label.sk-toggleable__label {\n",
              "  color: var(--sklearn-color-text);\n",
              "  background-color: var(--sklearn-color-unfitted-level-2);\n",
              "}\n",
              "\n",
              "/* Label box, darken color on hover, fitted */\n",
              "#sk-container-id-2 div.sk-label.fitted:hover label.sk-toggleable__label.fitted {\n",
              "  color: var(--sklearn-color-text);\n",
              "  background-color: var(--sklearn-color-fitted-level-2);\n",
              "}\n",
              "\n",
              "/* Estimator label */\n",
              "\n",
              "#sk-container-id-2 div.sk-label label {\n",
              "  font-family: monospace;\n",
              "  font-weight: bold;\n",
              "  display: inline-block;\n",
              "  line-height: 1.2em;\n",
              "}\n",
              "\n",
              "#sk-container-id-2 div.sk-label-container {\n",
              "  text-align: center;\n",
              "}\n",
              "\n",
              "/* Estimator-specific */\n",
              "#sk-container-id-2 div.sk-estimator {\n",
              "  font-family: monospace;\n",
              "  border: 1px dotted var(--sklearn-color-border-box);\n",
              "  border-radius: 0.25em;\n",
              "  box-sizing: border-box;\n",
              "  margin-bottom: 0.5em;\n",
              "  /* unfitted */\n",
              "  background-color: var(--sklearn-color-unfitted-level-0);\n",
              "}\n",
              "\n",
              "#sk-container-id-2 div.sk-estimator.fitted {\n",
              "  /* fitted */\n",
              "  background-color: var(--sklearn-color-fitted-level-0);\n",
              "}\n",
              "\n",
              "/* on hover */\n",
              "#sk-container-id-2 div.sk-estimator:hover {\n",
              "  /* unfitted */\n",
              "  background-color: var(--sklearn-color-unfitted-level-2);\n",
              "}\n",
              "\n",
              "#sk-container-id-2 div.sk-estimator.fitted:hover {\n",
              "  /* fitted */\n",
              "  background-color: var(--sklearn-color-fitted-level-2);\n",
              "}\n",
              "\n",
              "/* Specification for estimator info (e.g. \"i\" and \"?\") */\n",
              "\n",
              "/* Common style for \"i\" and \"?\" */\n",
              "\n",
              ".sk-estimator-doc-link,\n",
              "a:link.sk-estimator-doc-link,\n",
              "a:visited.sk-estimator-doc-link {\n",
              "  float: right;\n",
              "  font-size: smaller;\n",
              "  line-height: 1em;\n",
              "  font-family: monospace;\n",
              "  background-color: var(--sklearn-color-background);\n",
              "  border-radius: 1em;\n",
              "  height: 1em;\n",
              "  width: 1em;\n",
              "  text-decoration: none !important;\n",
              "  margin-left: 0.5em;\n",
              "  text-align: center;\n",
              "  /* unfitted */\n",
              "  border: var(--sklearn-color-unfitted-level-1) 1pt solid;\n",
              "  color: var(--sklearn-color-unfitted-level-1);\n",
              "}\n",
              "\n",
              ".sk-estimator-doc-link.fitted,\n",
              "a:link.sk-estimator-doc-link.fitted,\n",
              "a:visited.sk-estimator-doc-link.fitted {\n",
              "  /* fitted */\n",
              "  border: var(--sklearn-color-fitted-level-1) 1pt solid;\n",
              "  color: var(--sklearn-color-fitted-level-1);\n",
              "}\n",
              "\n",
              "/* On hover */\n",
              "div.sk-estimator:hover .sk-estimator-doc-link:hover,\n",
              ".sk-estimator-doc-link:hover,\n",
              "div.sk-label-container:hover .sk-estimator-doc-link:hover,\n",
              ".sk-estimator-doc-link:hover {\n",
              "  /* unfitted */\n",
              "  background-color: var(--sklearn-color-unfitted-level-3);\n",
              "  color: var(--sklearn-color-background);\n",
              "  text-decoration: none;\n",
              "}\n",
              "\n",
              "div.sk-estimator.fitted:hover .sk-estimator-doc-link.fitted:hover,\n",
              ".sk-estimator-doc-link.fitted:hover,\n",
              "div.sk-label-container:hover .sk-estimator-doc-link.fitted:hover,\n",
              ".sk-estimator-doc-link.fitted:hover {\n",
              "  /* fitted */\n",
              "  background-color: var(--sklearn-color-fitted-level-3);\n",
              "  color: var(--sklearn-color-background);\n",
              "  text-decoration: none;\n",
              "}\n",
              "\n",
              "/* Span, style for the box shown on hovering the info icon */\n",
              ".sk-estimator-doc-link span {\n",
              "  display: none;\n",
              "  z-index: 9999;\n",
              "  position: relative;\n",
              "  font-weight: normal;\n",
              "  right: .2ex;\n",
              "  padding: .5ex;\n",
              "  margin: .5ex;\n",
              "  width: min-content;\n",
              "  min-width: 20ex;\n",
              "  max-width: 50ex;\n",
              "  color: var(--sklearn-color-text);\n",
              "  box-shadow: 2pt 2pt 4pt #999;\n",
              "  /* unfitted */\n",
              "  background: var(--sklearn-color-unfitted-level-0);\n",
              "  border: .5pt solid var(--sklearn-color-unfitted-level-3);\n",
              "}\n",
              "\n",
              ".sk-estimator-doc-link.fitted span {\n",
              "  /* fitted */\n",
              "  background: var(--sklearn-color-fitted-level-0);\n",
              "  border: var(--sklearn-color-fitted-level-3);\n",
              "}\n",
              "\n",
              ".sk-estimator-doc-link:hover span {\n",
              "  display: block;\n",
              "}\n",
              "\n",
              "/* \"?\"-specific style due to the `<a>` HTML tag */\n",
              "\n",
              "#sk-container-id-2 a.estimator_doc_link {\n",
              "  float: right;\n",
              "  font-size: 1rem;\n",
              "  line-height: 1em;\n",
              "  font-family: monospace;\n",
              "  background-color: var(--sklearn-color-background);\n",
              "  border-radius: 1rem;\n",
              "  height: 1rem;\n",
              "  width: 1rem;\n",
              "  text-decoration: none;\n",
              "  /* unfitted */\n",
              "  color: var(--sklearn-color-unfitted-level-1);\n",
              "  border: var(--sklearn-color-unfitted-level-1) 1pt solid;\n",
              "}\n",
              "\n",
              "#sk-container-id-2 a.estimator_doc_link.fitted {\n",
              "  /* fitted */\n",
              "  border: var(--sklearn-color-fitted-level-1) 1pt solid;\n",
              "  color: var(--sklearn-color-fitted-level-1);\n",
              "}\n",
              "\n",
              "/* On hover */\n",
              "#sk-container-id-2 a.estimator_doc_link:hover {\n",
              "  /* unfitted */\n",
              "  background-color: var(--sklearn-color-unfitted-level-3);\n",
              "  color: var(--sklearn-color-background);\n",
              "  text-decoration: none;\n",
              "}\n",
              "\n",
              "#sk-container-id-2 a.estimator_doc_link.fitted:hover {\n",
              "  /* fitted */\n",
              "  background-color: var(--sklearn-color-fitted-level-3);\n",
              "}\n",
              "</style><div id=\"sk-container-id-2\" class=\"sk-top-container\"><div class=\"sk-text-repr-fallback\"><pre>LogisticRegression(random_state=9)</pre><b>In a Jupyter environment, please rerun this cell to show the HTML representation or trust the notebook. <br />On GitHub, the HTML representation is unable to render, please try loading this page with nbviewer.org.</b></div><div class=\"sk-container\" hidden><div class=\"sk-item\"><div class=\"sk-estimator fitted sk-toggleable\"><input class=\"sk-toggleable__control sk-hidden--visually\" id=\"sk-estimator-id-2\" type=\"checkbox\" checked><label for=\"sk-estimator-id-2\" class=\"sk-toggleable__label fitted sk-toggleable__label-arrow\"><div><div>LogisticRegression</div></div><div><a class=\"sk-estimator-doc-link fitted\" rel=\"noreferrer\" target=\"_blank\" href=\"https://scikit-learn.org/1.6/modules/generated/sklearn.linear_model.LogisticRegression.html\">?<span>Documentation for LogisticRegression</span></a><span class=\"sk-estimator-doc-link fitted\">i<span>Fitted</span></span></div></label><div class=\"sk-toggleable__content fitted\"><pre>LogisticRegression(random_state=9)</pre></div> </div></div></div></div>"
            ]
          },
          "metadata": {},
          "execution_count": 94
        }
      ]
    },
    {
      "cell_type": "code",
      "source": [
        "# Logistic Regression model accuracy calculation\n",
        "from sklearn.metrics import accuracy_score\n",
        "predictions = logistic_model.predict(X_test)\n",
        "score = accuracy_score(y_test, predictions)\n",
        "print('Logistic Regression Model Accuracy: {:.2%}'.format(score))"
      ],
      "metadata": {
        "colab": {
          "base_uri": "https://localhost:8080/"
        },
        "id": "6VumYsAY98kf",
        "outputId": "c4d26bc3-2cbb-4e29-de5d-b819d325d991"
      },
      "execution_count": null,
      "outputs": [
        {
          "output_type": "stream",
          "name": "stdout",
          "text": [
            "Logistic Regression Model Accuracy: 91.30%\n"
          ]
        }
      ]
    },
    {
      "cell_type": "code",
      "source": [
        "# Determining which features were most important for Logistic Regression Model\n",
        "from sklearn.preprocessing import StandardScaler\n",
        "\n",
        "scaler = StandardScaler()\n",
        "X_train_scaler = scaler.fit_transform(X_train)\n",
        "X_test_scaler = scaler.transform(X_test)\n",
        "\n",
        "\n",
        "coefficients = logistic_model.coef_[0]\n",
        "\n",
        "feature_importance = pd.DataFrame({'Feature': x.columns, 'Importance': np.abs(coefficients)})\n",
        "feature_importance = feature_importance.sort_values('Importance', ascending=True)\n",
        "feature_importance.plot(x='Feature', y='Importance', kind='barh', figsize=(10, 6))"
      ],
      "metadata": {
        "colab": {
          "base_uri": "https://localhost:8080/",
          "height": 539
        },
        "id": "4-rgMcPyRHtR",
        "outputId": "b5b68542-1921-4e8a-95bb-a5abe34d245f"
      },
      "execution_count": null,
      "outputs": [
        {
          "output_type": "execute_result",
          "data": {
            "text/plain": [
              "<Axes: ylabel='Feature'>"
            ]
          },
          "metadata": {},
          "execution_count": 48
        },
        {
          "output_type": "display_data",
          "data": {
            "text/plain": [
              "<Figure size 1000x600 with 1 Axes>"
            ],
            "image/png": "[encoded data removed]"
          },
          "metadata": {}
        }
      ]
    },
    {
      "cell_type": "code",
      "source": [
        "# Training and calcuating accuracy for Ridge Classifier model\n",
        "from sklearn.linear_model import RidgeClassifier\n",
        "from sklearn.metrics import accuracy_score\n",
        "clf = RidgeClassifier(random_state=9).fit(X_train, y_train)\n",
        "predictions2=clf.predict(X_test)\n",
        "score2= accuracy_score(y_test, predictions2)\n",
        "print('Ridge Classifer Accuracy: {:.2%}'.format(score2))"
      ],
      "metadata": {
        "colab": {
          "base_uri": "https://localhost:8080/"
        },
        "id": "AmxWDig-TI9R",
        "outputId": "e885e824-c1b2-4e43-b2f8-80f1ef24004d"
      },
      "execution_count": null,
      "outputs": [
        {
          "output_type": "stream",
          "name": "stdout",
          "text": [
            "Ridge Classifer Accuracy: 90.43%\n"
          ]
        }
      ]
    },
    {
      "cell_type": "code",
      "source": [
        "# Determining which variables are most important for Ridge model\n",
        "from sklearn.preprocessing import StandardScaler\n",
        "\n",
        "scaler = StandardScaler()\n",
        "X_train_scaler = scaler.fit_transform(X_train)\n",
        "X_test_scaler = scaler.transform(X_test)\n",
        "\n",
        "\n",
        "coefficients = clf.coef_[0]\n",
        "\n",
        "feature_importance = pd.DataFrame({'Feature': x.columns, 'Importance': np.abs(coefficients)})\n",
        "feature_importance = feature_importance.sort_values('Importance', ascending=True)\n",
        "feature_importance.plot(x='Feature', y='Importance', kind='barh', figsize=(10, 6))"
      ],
      "metadata": {
        "colab": {
          "base_uri": "https://localhost:8080/",
          "height": 539
        },
        "id": "dU5DWrylTYHP",
        "outputId": "dfc92e1f-c819-4d52-dca2-fb77412ef713"
      },
      "execution_count": null,
      "outputs": [
        {
          "output_type": "execute_result",
          "data": {
            "text/plain": [
              "<Axes: ylabel='Feature'>"
            ]
          },
          "metadata": {},
          "execution_count": 53
        },
        {
          "output_type": "display_data",
          "data": {
            "text/plain": [
              "<Figure size 1000x600 with 1 Axes>"
            ],
            "image/png": "[encoded data removed]"
          },
          "metadata": {}
        }
      ]
    },
    {
      "cell_type": "code",
      "source": [
        "# Training and calcuating accuracy for Random FOrest model\n",
        "from sklearn.ensemble import RandomForestClassifier\n",
        "from sklearn.metrics import accuracy_score\n",
        "RandomForest= RandomForestClassifier(random_state=100).fit(X_train, y_train)\n",
        "RF_predictions=RandomForest.predict(X_test)\n",
        "RF_score=accuracy_score(y_test, RF_predictions)\n",
        "print('RandomForest Classifer Accuracy: {:.2%}'.format(RF_score))"
      ],
      "metadata": {
        "colab": {
          "base_uri": "https://localhost:8080/"
        },
        "id": "UAm267TeTd4i",
        "outputId": "a63bffa0-7f52-4f65-940b-9d232c8a0203"
      },
      "execution_count": null,
      "outputs": [
        {
          "output_type": "stream",
          "name": "stdout",
          "text": [
            "RandomForest Classifer Accuracy: 95.65%\n"
          ]
        }
      ]
    },
    {
      "cell_type": "code",
      "source": [
        "# Training and calcuating accuracy for KNN model\n",
        "from sklearn.neighbors import KNeighborsClassifier\n",
        "neigh=KNeighborsClassifier(n_neighbors=15)\n",
        "neigh.fit(X_train, y_train)\n",
        "KNN_predictions=neigh.predict(X_test)\n",
        "KNN_score=accuracy_score(y_test, KNN_predictions)\n",
        "print('KNN Classifer Accuracy: {:.2%}'.format(KNN_score))"
      ],
      "metadata": {
        "id": "tJpprpL1skgq",
        "colab": {
          "base_uri": "https://localhost:8080/"
        },
        "outputId": "3199c489-82ff-4f18-f25a-3ffb13be7d4f"
      },
      "execution_count": null,
      "outputs": [
        {
          "output_type": "stream",
          "name": "stdout",
          "text": [
            "KNN Classifer Accuracy: 81.74%\n"
          ]
        }
      ]
    },
    {
      "cell_type": "code",
      "source": [
        "# Training and calcuating accuracy for SVM model\n",
        "from sklearn import svm\n",
        "clf = svm.SVC(kernel='linear',C=.1,gamma='auto')\n",
        "clf.fit(X_train, y_train)\n",
        "svc_predictions=clf.predict(X_test)\n",
        "svc_score=accuracy_score(y_test, svc_predictions)\n",
        "print('SVC Classifer Accuracy: {:.2%}'.format(svc_score))"
      ],
      "metadata": {
        "colab": {
          "base_uri": "https://localhost:8080/"
        },
        "id": "xJpkhMcsvC9P",
        "outputId": "608c0726-8e2e-45b3-80a8-bb52aa7bafaf"
      },
      "execution_count": null,
      "outputs": [
        {
          "output_type": "stream",
          "name": "stdout",
          "text": [
            "SVC Classifer Accuracy: 91.30%\n"
          ]
        }
      ]
    },
    {
      "cell_type": "code",
      "source": [
        "# Determining optimal hyperparamters for SVM model\n",
        "from sklearn.model_selection import GridSearchCV\n",
        "gs= GridSearchCV(svm.SVC(gamma='auto'),{\n",
        "    'C':[.01,.05,.1,1,5,10,15,20,25,30,35,40,45,50,55,60,65,70,75,80,85,90,],\n",
        "    'kernel':['rbf','linear']},\n",
        "     cv=20,\n",
        "     return_train_score=False,\n",
        "     )\n",
        "gs.fit(x,y)\n",
        "pd.DataFrame(gs.cv_results_)[['param_C','param_kernel','mean_test_score']]"
      ],
      "metadata": {
        "colab": {
          "base_uri": "https://localhost:8080/",
          "height": 333
        },
        "id": "pK5TQLYA8ZS9",
        "outputId": "1a689eb0-f829-43a1-949a-17cbf54b792b"
      },
      "execution_count": null,
      "outputs": [
        {
          "output_type": "error",
          "ename": "KeyboardInterrupt",
          "evalue": "",
          "traceback": [
            "\u001b[0;31m---------------------------------------------------------------------------\u001b[0m",
            "\u001b[0;31mKeyboardInterrupt\u001b[0m                         Traceback (most recent call last)",
            "\u001b[0;32m<ipython-input-60-82769d7de9db>\u001b[0m in \u001b[0;36m<cell line: 0>\u001b[0;34m()\u001b[0m\n\u001b[1;32m      6\u001b[0m      \u001b[0mreturn_train_score\u001b[0m\u001b[0;34m=\u001b[0m\u001b[0;32mFalse\u001b[0m\u001b[0;34m,\u001b[0m\u001b[0;34m\u001b[0m\u001b[0;34m\u001b[0m\u001b[0m\n\u001b[1;32m      7\u001b[0m      )\n\u001b[0;32m----> 8\u001b[0;31m \u001b[0mgs\u001b[0m\u001b[0;34m.\u001b[0m\u001b[0mfit\u001b[0m\u001b[0;34m(\u001b[0m\u001b[0mx\u001b[0m\u001b[0;34m,\u001b[0m\u001b[0my\u001b[0m\u001b[0;34m)\u001b[0m\u001b[0;34m\u001b[0m\u001b[0;34m\u001b[0m\u001b[0m\n\u001b[0m\u001b[1;32m      9\u001b[0m \u001b[0mpd\u001b[0m\u001b[0;34m.\u001b[0m\u001b[0mDataFrame\u001b[0m\u001b[0;34m(\u001b[0m\u001b[0mgs\u001b[0m\u001b[0;34m.\u001b[0m\u001b[0mcv_results_\u001b[0m\u001b[0;34m)\u001b[0m\u001b[0;34m[\u001b[0m\u001b[0;34m[\u001b[0m\u001b[0;34m'param_C'\u001b[0m\u001b[0;34m,\u001b[0m\u001b[0;34m'param_kernel'\u001b[0m\u001b[0;34m,\u001b[0m\u001b[0;34m'mean_test_score'\u001b[0m\u001b[0;34m]\u001b[0m\u001b[0;34m]\u001b[0m\u001b[0;34m\u001b[0m\u001b[0;34m\u001b[0m\u001b[0m\n",
            "\u001b[0;32m/usr/local/lib/python3.11/dist-packages/sklearn/base.py\u001b[0m in \u001b[0;36mwrapper\u001b[0;34m(estimator, *args, **kwargs)\u001b[0m\n\u001b[1;32m   1387\u001b[0m                 )\n\u001b[1;32m   1388\u001b[0m             ):\n\u001b[0;32m-> 1389\u001b[0;31m                 \u001b[0;32mreturn\u001b[0m \u001b[0mfit_method\u001b[0m\u001b[0;34m(\u001b[0m\u001b[0mestimator\u001b[0m\u001b[0;34m,\u001b[0m \u001b[0;34m*\u001b[0m\u001b[0margs\u001b[0m\u001b[0;34m,\u001b[0m \u001b[0;34m**\u001b[0m\u001b[0mkwargs\u001b[0m\u001b[0;34m)\u001b[0m\u001b[0;34m\u001b[0m\u001b[0;34m\u001b[0m\u001b[0m\n\u001b[0m\u001b[1;32m   1390\u001b[0m \u001b[0;34m\u001b[0m\u001b[0m\n\u001b[1;32m   1391\u001b[0m         \u001b[0;32mreturn\u001b[0m \u001b[0mwrapper\u001b[0m\u001b[0;34m\u001b[0m\u001b[0;34m\u001b[0m\u001b[0m\n",
            "\u001b[0;32m/usr/local/lib/python3.11/dist-packages/sklearn/model_selection/_search.py\u001b[0m in \u001b[0;36mfit\u001b[0;34m(self, X, y, **params)\u001b[0m\n\u001b[1;32m   1022\u001b[0m                 \u001b[0;32mreturn\u001b[0m \u001b[0mresults\u001b[0m\u001b[0;34m\u001b[0m\u001b[0;34m\u001b[0m\u001b[0m\n\u001b[1;32m   1023\u001b[0m \u001b[0;34m\u001b[0m\u001b[0m\n\u001b[0;32m-> 1024\u001b[0;31m             \u001b[0mself\u001b[0m\u001b[0;34m.\u001b[0m\u001b[0m_run_search\u001b[0m\u001b[0;34m(\u001b[0m\u001b[0mevaluate_candidates\u001b[0m\u001b[0;34m)\u001b[0m\u001b[0;34m\u001b[0m\u001b[0;34m\u001b[0m\u001b[0m\n\u001b[0m\u001b[1;32m   1025\u001b[0m \u001b[0;34m\u001b[0m\u001b[0m\n\u001b[1;32m   1026\u001b[0m             \u001b[0;31m# multimetric is determined here because in the case of a callable\u001b[0m\u001b[0;34m\u001b[0m\u001b[0;34m\u001b[0m\u001b[0m\n",
            "\u001b[0;32m/usr/local/lib/python3.11/dist-packages/sklearn/model_selection/_search.py\u001b[0m in \u001b[0;36m_run_search\u001b[0;34m(self, evaluate_candidates)\u001b[0m\n\u001b[1;32m   1569\u001b[0m     \u001b[0;32mdef\u001b[0m \u001b[0m_run_search\u001b[0m\u001b[0;34m(\u001b[0m\u001b[0mself\u001b[0m\u001b[0;34m,\u001b[0m \u001b[0mevaluate_candidates\u001b[0m\u001b[0;34m)\u001b[0m\u001b[0;34m:\u001b[0m\u001b[0;34m\u001b[0m\u001b[0;34m\u001b[0m\u001b[0m\n\u001b[1;32m   1570\u001b[0m         \u001b[0;34m\"\"\"Search all candidates in param_grid\"\"\"\u001b[0m\u001b[0;34m\u001b[0m\u001b[0;34m\u001b[0m\u001b[0m\n\u001b[0;32m-> 1571\u001b[0;31m         \u001b[0mevaluate_candidates\u001b[0m\u001b[0;34m(\u001b[0m\u001b[0mParameterGrid\u001b[0m\u001b[0;34m(\u001b[0m\u001b[0mself\u001b[0m\u001b[0;34m.\u001b[0m\u001b[0mparam_grid\u001b[0m\u001b[0;34m)\u001b[0m\u001b[0;34m)\u001b[0m\u001b[0;34m\u001b[0m\u001b[0;34m\u001b[0m\u001b[0m\n\u001b[0m\u001b[1;32m   1572\u001b[0m \u001b[0;34m\u001b[0m\u001b[0m\n\u001b[1;32m   1573\u001b[0m \u001b[0;34m\u001b[0m\u001b[0m\n",
            "\u001b[0;32m/usr/local/lib/python3.11/dist-packages/sklearn/model_selection/_search.py\u001b[0m in \u001b[0;36mevaluate_candidates\u001b[0;34m(candidate_params, cv, more_results)\u001b[0m\n\u001b[1;32m    968\u001b[0m                     )\n\u001b[1;32m    969\u001b[0m \u001b[0;34m\u001b[0m\u001b[0m\n\u001b[0;32m--> 970\u001b[0;31m                 out = parallel(\n\u001b[0m\u001b[1;32m    971\u001b[0m                     delayed(_fit_and_score)(\n\u001b[1;32m    972\u001b[0m                         \u001b[0mclone\u001b[0m\u001b[0;34m(\u001b[0m\u001b[0mbase_estimator\u001b[0m\u001b[0;34m)\u001b[0m\u001b[0;34m,\u001b[0m\u001b[0;34m\u001b[0m\u001b[0;34m\u001b[0m\u001b[0m\n",
            "\u001b[0;32m/usr/local/lib/python3.11/dist-packages/sklearn/utils/parallel.py\u001b[0m in \u001b[0;36m__call__\u001b[0;34m(self, iterable)\u001b[0m\n\u001b[1;32m     75\u001b[0m             \u001b[0;32mfor\u001b[0m \u001b[0mdelayed_func\u001b[0m\u001b[0;34m,\u001b[0m \u001b[0margs\u001b[0m\u001b[0;34m,\u001b[0m \u001b[0mkwargs\u001b[0m \u001b[0;32min\u001b[0m \u001b[0miterable\u001b[0m\u001b[0;34m\u001b[0m\u001b[0;34m\u001b[0m\u001b[0m\n\u001b[1;32m     76\u001b[0m         )\n\u001b[0;32m---> 77\u001b[0;31m         \u001b[0;32mreturn\u001b[0m \u001b[0msuper\u001b[0m\u001b[0;34m(\u001b[0m\u001b[0;34m)\u001b[0m\u001b[0;34m.\u001b[0m\u001b[0m__call__\u001b[0m\u001b[0;34m(\u001b[0m\u001b[0miterable_with_config\u001b[0m\u001b[0;34m)\u001b[0m\u001b[0;34m\u001b[0m\u001b[0;34m\u001b[0m\u001b[0m\n\u001b[0m\u001b[1;32m     78\u001b[0m \u001b[0;34m\u001b[0m\u001b[0m\n\u001b[1;32m     79\u001b[0m \u001b[0;34m\u001b[0m\u001b[0m\n",
            "\u001b[0;32m/usr/local/lib/python3.11/dist-packages/joblib/parallel.py\u001b[0m in \u001b[0;36m__call__\u001b[0;34m(self, iterable)\u001b[0m\n\u001b[1;32m   1916\u001b[0m             \u001b[0moutput\u001b[0m \u001b[0;34m=\u001b[0m \u001b[0mself\u001b[0m\u001b[0;34m.\u001b[0m\u001b[0m_get_sequential_output\u001b[0m\u001b[0;34m(\u001b[0m\u001b[0miterable\u001b[0m\u001b[0;34m)\u001b[0m\u001b[0;34m\u001b[0m\u001b[0;34m\u001b[0m\u001b[0m\n\u001b[1;32m   1917\u001b[0m             \u001b[0mnext\u001b[0m\u001b[0;34m(\u001b[0m\u001b[0moutput\u001b[0m\u001b[0;34m)\u001b[0m\u001b[0;34m\u001b[0m\u001b[0;34m\u001b[0m\u001b[0m\n\u001b[0;32m-> 1918\u001b[0;31m             \u001b[0;32mreturn\u001b[0m \u001b[0moutput\u001b[0m \u001b[0;32mif\u001b[0m \u001b[0mself\u001b[0m\u001b[0;34m.\u001b[0m\u001b[0mreturn_generator\u001b[0m \u001b[0;32melse\u001b[0m \u001b[0mlist\u001b[0m\u001b[0;34m(\u001b[0m\u001b[0moutput\u001b[0m\u001b[0;34m)\u001b[0m\u001b[0;34m\u001b[0m\u001b[0;34m\u001b[0m\u001b[0m\n\u001b[0m\u001b[1;32m   1919\u001b[0m \u001b[0;34m\u001b[0m\u001b[0m\n\u001b[1;32m   1920\u001b[0m         \u001b[0;31m# Let's create an ID that uniquely identifies the current call. If the\u001b[0m\u001b[0;34m\u001b[0m\u001b[0;34m\u001b[0m\u001b[0m\n",
            "\u001b[0;32m/usr/local/lib/python3.11/dist-packages/joblib/parallel.py\u001b[0m in \u001b[0;36m_get_sequential_output\u001b[0;34m(self, iterable)\u001b[0m\n\u001b[1;32m   1845\u001b[0m                 \u001b[0mself\u001b[0m\u001b[0;34m.\u001b[0m\u001b[0mn_dispatched_batches\u001b[0m \u001b[0;34m+=\u001b[0m \u001b[0;36m1\u001b[0m\u001b[0;34m\u001b[0m\u001b[0;34m\u001b[0m\u001b[0m\n\u001b[1;32m   1846\u001b[0m                 \u001b[0mself\u001b[0m\u001b[0;34m.\u001b[0m\u001b[0mn_dispatched_tasks\u001b[0m \u001b[0;34m+=\u001b[0m \u001b[0;36m1\u001b[0m\u001b[0;34m\u001b[0m\u001b[0;34m\u001b[0m\u001b[0m\n\u001b[0;32m-> 1847\u001b[0;31m                 \u001b[0mres\u001b[0m \u001b[0;34m=\u001b[0m \u001b[0mfunc\u001b[0m\u001b[0;34m(\u001b[0m\u001b[0;34m*\u001b[0m\u001b[0margs\u001b[0m\u001b[0;34m,\u001b[0m \u001b[0;34m**\u001b[0m\u001b[0mkwargs\u001b[0m\u001b[0;34m)\u001b[0m\u001b[0;34m\u001b[0m\u001b[0;34m\u001b[0m\u001b[0m\n\u001b[0m\u001b[1;32m   1848\u001b[0m                 \u001b[0mself\u001b[0m\u001b[0;34m.\u001b[0m\u001b[0mn_completed_tasks\u001b[0m \u001b[0;34m+=\u001b[0m \u001b[0;36m1\u001b[0m\u001b[0;34m\u001b[0m\u001b[0;34m\u001b[0m\u001b[0m\n\u001b[1;32m   1849\u001b[0m                 \u001b[0mself\u001b[0m\u001b[0;34m.\u001b[0m\u001b[0mprint_progress\u001b[0m\u001b[0;34m(\u001b[0m\u001b[0;34m)\u001b[0m\u001b[0;34m\u001b[0m\u001b[0;34m\u001b[0m\u001b[0m\n",
            "\u001b[0;32m/usr/local/lib/python3.11/dist-packages/sklearn/utils/parallel.py\u001b[0m in \u001b[0;36m__call__\u001b[0;34m(self, *args, **kwargs)\u001b[0m\n\u001b[1;32m    137\u001b[0m             \u001b[0mconfig\u001b[0m \u001b[0;34m=\u001b[0m \u001b[0;34m{\u001b[0m\u001b[0;34m}\u001b[0m\u001b[0;34m\u001b[0m\u001b[0;34m\u001b[0m\u001b[0m\n\u001b[1;32m    138\u001b[0m         \u001b[0;32mwith\u001b[0m \u001b[0mconfig_context\u001b[0m\u001b[0;34m(\u001b[0m\u001b[0;34m**\u001b[0m\u001b[0mconfig\u001b[0m\u001b[0;34m)\u001b[0m\u001b[0;34m:\u001b[0m\u001b[0;34m\u001b[0m\u001b[0;34m\u001b[0m\u001b[0m\n\u001b[0;32m--> 139\u001b[0;31m             \u001b[0;32mreturn\u001b[0m \u001b[0mself\u001b[0m\u001b[0;34m.\u001b[0m\u001b[0mfunction\u001b[0m\u001b[0;34m(\u001b[0m\u001b[0;34m*\u001b[0m\u001b[0margs\u001b[0m\u001b[0;34m,\u001b[0m \u001b[0;34m**\u001b[0m\u001b[0mkwargs\u001b[0m\u001b[0;34m)\u001b[0m\u001b[0;34m\u001b[0m\u001b[0;34m\u001b[0m\u001b[0m\n\u001b[0m\u001b[1;32m    140\u001b[0m \u001b[0;34m\u001b[0m\u001b[0m\n\u001b[1;32m    141\u001b[0m \u001b[0;34m\u001b[0m\u001b[0m\n",
            "\u001b[0;32m/usr/local/lib/python3.11/dist-packages/sklearn/model_selection/_validation.py\u001b[0m in \u001b[0;36m_fit_and_score\u001b[0;34m(estimator, X, y, scorer, train, test, verbose, parameters, fit_params, score_params, return_train_score, return_parameters, return_n_test_samples, return_times, return_estimator, split_progress, candidate_progress, error_score)\u001b[0m\n\u001b[1;32m    864\u001b[0m             \u001b[0mestimator\u001b[0m\u001b[0;34m.\u001b[0m\u001b[0mfit\u001b[0m\u001b[0;34m(\u001b[0m\u001b[0mX_train\u001b[0m\u001b[0;34m,\u001b[0m \u001b[0;34m**\u001b[0m\u001b[0mfit_params\u001b[0m\u001b[0;34m)\u001b[0m\u001b[0;34m\u001b[0m\u001b[0;34m\u001b[0m\u001b[0m\n\u001b[1;32m    865\u001b[0m         \u001b[0;32melse\u001b[0m\u001b[0;34m:\u001b[0m\u001b[0;34m\u001b[0m\u001b[0;34m\u001b[0m\u001b[0m\n\u001b[0;32m--> 866\u001b[0;31m             \u001b[0mestimator\u001b[0m\u001b[0;34m.\u001b[0m\u001b[0mfit\u001b[0m\u001b[0;34m(\u001b[0m\u001b[0mX_train\u001b[0m\u001b[0;34m,\u001b[0m \u001b[0my_train\u001b[0m\u001b[0;34m,\u001b[0m \u001b[0;34m**\u001b[0m\u001b[0mfit_params\u001b[0m\u001b[0;34m)\u001b[0m\u001b[0;34m\u001b[0m\u001b[0;34m\u001b[0m\u001b[0m\n\u001b[0m\u001b[1;32m    867\u001b[0m \u001b[0;34m\u001b[0m\u001b[0m\n\u001b[1;32m    868\u001b[0m     \u001b[0;32mexcept\u001b[0m \u001b[0mException\u001b[0m\u001b[0;34m:\u001b[0m\u001b[0;34m\u001b[0m\u001b[0;34m\u001b[0m\u001b[0m\n",
            "\u001b[0;32m/usr/local/lib/python3.11/dist-packages/sklearn/base.py\u001b[0m in \u001b[0;36mwrapper\u001b[0;34m(estimator, *args, **kwargs)\u001b[0m\n\u001b[1;32m   1387\u001b[0m                 )\n\u001b[1;32m   1388\u001b[0m             ):\n\u001b[0;32m-> 1389\u001b[0;31m                 \u001b[0;32mreturn\u001b[0m \u001b[0mfit_method\u001b[0m\u001b[0;34m(\u001b[0m\u001b[0mestimator\u001b[0m\u001b[0;34m,\u001b[0m \u001b[0;34m*\u001b[0m\u001b[0margs\u001b[0m\u001b[0;34m,\u001b[0m \u001b[0;34m**\u001b[0m\u001b[0mkwargs\u001b[0m\u001b[0;34m)\u001b[0m\u001b[0;34m\u001b[0m\u001b[0;34m\u001b[0m\u001b[0m\n\u001b[0m\u001b[1;32m   1390\u001b[0m \u001b[0;34m\u001b[0m\u001b[0m\n\u001b[1;32m   1391\u001b[0m         \u001b[0;32mreturn\u001b[0m \u001b[0mwrapper\u001b[0m\u001b[0;34m\u001b[0m\u001b[0;34m\u001b[0m\u001b[0m\n",
            "\u001b[0;32m/usr/local/lib/python3.11/dist-packages/sklearn/svm/_base.py\u001b[0m in \u001b[0;36mfit\u001b[0;34m(self, X, y, sample_weight)\u001b[0m\n\u001b[1;32m    256\u001b[0m \u001b[0;34m\u001b[0m\u001b[0m\n\u001b[1;32m    257\u001b[0m         \u001b[0mseed\u001b[0m \u001b[0;34m=\u001b[0m \u001b[0mrnd\u001b[0m\u001b[0;34m.\u001b[0m\u001b[0mrandint\u001b[0m\u001b[0;34m(\u001b[0m\u001b[0mnp\u001b[0m\u001b[0;34m.\u001b[0m\u001b[0miinfo\u001b[0m\u001b[0;34m(\u001b[0m\u001b[0;34m\"i\"\u001b[0m\u001b[0;34m)\u001b[0m\u001b[0;34m.\u001b[0m\u001b[0mmax\u001b[0m\u001b[0;34m)\u001b[0m\u001b[0;34m\u001b[0m\u001b[0;34m\u001b[0m\u001b[0m\n\u001b[0;32m--> 258\u001b[0;31m         \u001b[0mfit\u001b[0m\u001b[0;34m(\u001b[0m\u001b[0mX\u001b[0m\u001b[0;34m,\u001b[0m \u001b[0my\u001b[0m\u001b[0;34m,\u001b[0m \u001b[0msample_weight\u001b[0m\u001b[0;34m,\u001b[0m \u001b[0msolver_type\u001b[0m\u001b[0;34m,\u001b[0m \u001b[0mkernel\u001b[0m\u001b[0;34m,\u001b[0m \u001b[0mrandom_seed\u001b[0m\u001b[0;34m=\u001b[0m\u001b[0mseed\u001b[0m\u001b[0;34m)\u001b[0m\u001b[0;34m\u001b[0m\u001b[0;34m\u001b[0m\u001b[0m\n\u001b[0m\u001b[1;32m    259\u001b[0m         \u001b[0;31m# see comment on the other call to np.iinfo in this file\u001b[0m\u001b[0;34m\u001b[0m\u001b[0;34m\u001b[0m\u001b[0m\n\u001b[1;32m    260\u001b[0m \u001b[0;34m\u001b[0m\u001b[0m\n",
            "\u001b[0;32m/usr/local/lib/python3.11/dist-packages/sklearn/svm/_base.py\u001b[0m in \u001b[0;36m_dense_fit\u001b[0;34m(self, X, y, sample_weight, solver_type, kernel, random_seed)\u001b[0m\n\u001b[1;32m    334\u001b[0m             \u001b[0mself\u001b[0m\u001b[0;34m.\u001b[0m\u001b[0mfit_status_\u001b[0m\u001b[0;34m,\u001b[0m\u001b[0;34m\u001b[0m\u001b[0;34m\u001b[0m\u001b[0m\n\u001b[1;32m    335\u001b[0m             \u001b[0mself\u001b[0m\u001b[0;34m.\u001b[0m\u001b[0m_num_iter\u001b[0m\u001b[0;34m,\u001b[0m\u001b[0;34m\u001b[0m\u001b[0;34m\u001b[0m\u001b[0m\n\u001b[0;32m--> 336\u001b[0;31m         \u001b[0;34m)\u001b[0m \u001b[0;34m=\u001b[0m \u001b[0mlibsvm\u001b[0m\u001b[0;34m.\u001b[0m\u001b[0mfit\u001b[0m\u001b[0;34m(\u001b[0m\u001b[0;34m\u001b[0m\u001b[0;34m\u001b[0m\u001b[0m\n\u001b[0m\u001b[1;32m    337\u001b[0m             \u001b[0mX\u001b[0m\u001b[0;34m,\u001b[0m\u001b[0;34m\u001b[0m\u001b[0;34m\u001b[0m\u001b[0m\n\u001b[1;32m    338\u001b[0m             \u001b[0my\u001b[0m\u001b[0;34m,\u001b[0m\u001b[0;34m\u001b[0m\u001b[0;34m\u001b[0m\u001b[0m\n",
            "\u001b[0;31mKeyboardInterrupt\u001b[0m: "
          ]
        }
      ]
    },
    {
      "cell_type": "code",
      "source": [
        "# Training and calcuating accuracy for ExtraTrees model\n",
        "from sklearn.ensemble import ExtraTreesClassifier\n",
        "from sklearn.metrics import accuracy_score\n",
        "ExtraTrees= ExtraTreesClassifier(random_state=10).fit(X_train, y_train)\n",
        "ET_predictions=ExtraTrees.predict(X_test)\n",
        "ET_score=accuracy_score(y_test, ET_predictions)\n",
        "print('ExtraTrees Classifer Accuracy: {:.2%}'.format(ET_score))\n"
      ],
      "metadata": {
        "colab": {
          "base_uri": "https://localhost:8080/"
        },
        "id": "UEnm-_EFyaIH",
        "outputId": "a2b44f99-e093-4f74-82d8-dce9c8200431"
      },
      "execution_count": null,
      "outputs": [
        {
          "output_type": "stream",
          "name": "stdout",
          "text": [
            "ExtraTrees Classifer Accuracy: 96.52%\n"
          ]
        }
      ]
    },
    {
      "cell_type": "code",
      "source": [
        "# Training and calcuating accuracy for Xgboost model\n",
        "from xgboost import XGBClassifier\n",
        "from sklearn.metrics import accuracy_score\n",
        "xgb= XGBClassifier(random_state=6).fit(X_train, y_train)\n",
        "xgb_predictions=xgb.predict(X_test)\n",
        "xgb_score=accuracy_score(y_test, xgb_predictions)\n",
        "print('XGB Classifer Accuracy: {:.2%}'.format(xgb_score))"
      ],
      "metadata": {
        "colab": {
          "base_uri": "https://localhost:8080/"
        },
        "id": "4m09w1k60Ze5",
        "outputId": "7fabb3c9-2913-46f9-e6b0-68e05ea39ade"
      },
      "execution_count": null,
      "outputs": [
        {
          "output_type": "stream",
          "name": "stdout",
          "text": [
            "XGB Classifer Accuracy: 95.65%\n"
          ]
        }
      ]
    },
    {
      "cell_type": "code",
      "source": [
        "# Training and calcuating accuracy for Decision tree model\n",
        "from sklearn import tree\n",
        "dt= tree.DecisionTreeClassifier(random_state=100).fit(X_train, y_train)\n",
        "dt_predictions=dt.predict(X_test)\n",
        "dt_score=accuracy_score(y_test, dt_predictions)\n",
        "print('Decision Tree Accuracy: {:.2%}'.format(dt_score))"
      ],
      "metadata": {
        "colab": {
          "base_uri": "https://localhost:8080/"
        },
        "id": "pynta7GYLsur",
        "outputId": "701c09c3-0f74-47c3-9449-299e7b313b58"
      },
      "execution_count": null,
      "outputs": [
        {
          "output_type": "stream",
          "name": "stdout",
          "text": [
            "Decision Tree Accuracy: 93.91%\n"
          ]
        }
      ]
    },
    {
      "cell_type": "code",
      "source": [
        "# Training and calcuating accuracy LightGBM model\n",
        "from lightgbm import LGBMClassifier\n",
        "from sklearn.metrics import accuracy_score\n",
        "lgbm= LGBMClassifier(random_state=5).fit(X_train, y_train)\n",
        "lgbm_predictions=lgbm.predict(X_test)\n",
        "lgbm_score=accuracy_score(y_test, lgbm_predictions)\n",
        "print('LGBM Classifer Accuracy: {:.2%}'.format(lgbm_score))\n"
      ],
      "metadata": {
        "colab": {
          "base_uri": "https://localhost:8080/"
        },
        "id": "c8yVSFODMMQI",
        "outputId": "eda088de-775a-4e5e-e505-cc521da93662"
      },
      "execution_count": null,
      "outputs": [
        {
          "output_type": "stream",
          "name": "stdout",
          "text": [
            "[LightGBM] [Warning] Found whitespace in feature_names, replace with underlines\n",
            "[LightGBM] [Info] Number of positive: 72, number of negative: 196\n",
            "[LightGBM] [Info] Auto-choosing row-wise multi-threading, the overhead of testing was 0.000124 seconds.\n",
            "You can set `force_row_wise=true` to remove the overhead.\n",
            "And if memory is not enough, you can set `force_col_wise=true`.\n",
            "[LightGBM] [Info] Total Bins 93\n",
            "[LightGBM] [Info] Number of data points in the train set: 268, number of used features: 13\n",
            "[LightGBM] [Info] [binary:BoostFromScore]: pavg=0.268657 -> initscore=-1.001449\n",
            "[LightGBM] [Info] Start training from score -1.001449\n",
            "[LightGBM] [Warning] No further splits with positive gain, best gain: -inf\n",
            "[LightGBM] [Warning] No further splits with positive gain, best gain: -inf\n",
            "[LightGBM] [Warning] No further splits with positive gain, best gain: -inf\n",
            "[LightGBM] [Warning] No further splits with positive gain, best gain: -inf\n",
            "[LightGBM] [Warning] No further splits with positive gain, best gain: -inf\n",
            "[LightGBM] [Warning] No further splits with positive gain, best gain: -inf\n",
            "[LightGBM] [Warning] No further splits with positive gain, best gain: -inf\n",
            "[LightGBM] [Warning] No further splits with positive gain, best gain: -inf\n",
            "[LightGBM] [Warning] No further splits with positive gain, best gain: -inf\n",
            "[LightGBM] [Warning] No further splits with positive gain, best gain: -inf\n",
            "[LightGBM] [Warning] No further splits with positive gain, best gain: -inf\n",
            "[LightGBM] [Warning] No further splits with positive gain, best gain: -inf\n",
            "[LightGBM] [Warning] No further splits with positive gain, best gain: -inf\n",
            "[LightGBM] [Warning] No further splits with positive gain, best gain: -inf\n",
            "[LightGBM] [Warning] No further splits with positive gain, best gain: -inf\n",
            "[LightGBM] [Warning] No further splits with positive gain, best gain: -inf\n",
            "[LightGBM] [Warning] No further splits with positive gain, best gain: -inf\n",
            "[LightGBM] [Warning] No further splits with positive gain, best gain: -inf\n",
            "[LightGBM] [Warning] No further splits with positive gain, best gain: -inf\n",
            "[LightGBM] [Warning] No further splits with positive gain, best gain: -inf\n",
            "[LightGBM] [Warning] No further splits with positive gain, best gain: -inf\n",
            "[LightGBM] [Warning] No further splits with positive gain, best gain: -inf\n",
            "[LightGBM] [Warning] No further splits with positive gain, best gain: -inf\n",
            "[LightGBM] [Warning] No further splits with positive gain, best gain: -inf\n",
            "[LightGBM] [Warning] No further splits with positive gain, best gain: -inf\n",
            "[LightGBM] [Warning] No further splits with positive gain, best gain: -inf\n",
            "[LightGBM] [Warning] No further splits with positive gain, best gain: -inf\n",
            "[LightGBM] [Warning] No further splits with positive gain, best gain: -inf\n",
            "[LightGBM] [Warning] No further splits with positive gain, best gain: -inf\n",
            "[LightGBM] [Warning] No further splits with positive gain, best gain: -inf\n",
            "[LightGBM] [Warning] No further splits with positive gain, best gain: -inf\n",
            "[LightGBM] [Warning] No further splits with positive gain, best gain: -inf\n",
            "[LightGBM] [Warning] No further splits with positive gain, best gain: -inf\n",
            "[LightGBM] [Warning] No further splits with positive gain, best gain: -inf\n",
            "[LightGBM] [Warning] No further splits with positive gain, best gain: -inf\n",
            "[LightGBM] [Warning] No further splits with positive gain, best gain: -inf\n",
            "[LightGBM] [Warning] No further splits with positive gain, best gain: -inf\n",
            "[LightGBM] [Warning] No further splits with positive gain, best gain: -inf\n",
            "[LightGBM] [Warning] No further splits with positive gain, best gain: -inf\n",
            "[LightGBM] [Warning] No further splits with positive gain, best gain: -inf\n",
            "[LightGBM] [Warning] No further splits with positive gain, best gain: -inf\n",
            "[LightGBM] [Warning] No further splits with positive gain, best gain: -inf\n",
            "[LightGBM] [Warning] No further splits with positive gain, best gain: -inf\n",
            "[LightGBM] [Warning] No further splits with positive gain, best gain: -inf\n",
            "[LightGBM] [Warning] No further splits with positive gain, best gain: -inf\n",
            "[LightGBM] [Warning] No further splits with positive gain, best gain: -inf\n",
            "[LightGBM] [Warning] No further splits with positive gain, best gain: -inf\n",
            "[LightGBM] [Warning] No further splits with positive gain, best gain: -inf\n",
            "[LightGBM] [Warning] No further splits with positive gain, best gain: -inf\n",
            "[LightGBM] [Warning] No further splits with positive gain, best gain: -inf\n",
            "[LightGBM] [Warning] No further splits with positive gain, best gain: -inf\n",
            "[LightGBM] [Warning] No further splits with positive gain, best gain: -inf\n",
            "[LightGBM] [Warning] No further splits with positive gain, best gain: -inf\n",
            "[LightGBM] [Warning] No further splits with positive gain, best gain: -inf\n",
            "[LightGBM] [Warning] No further splits with positive gain, best gain: -inf\n",
            "[LightGBM] [Warning] No further splits with positive gain, best gain: -inf\n",
            "[LightGBM] [Warning] No further splits with positive gain, best gain: -inf\n",
            "[LightGBM] [Warning] No further splits with positive gain, best gain: -inf\n",
            "[LightGBM] [Warning] No further splits with positive gain, best gain: -inf\n",
            "[LightGBM] [Warning] No further splits with positive gain, best gain: -inf\n",
            "[LightGBM] [Warning] No further splits with positive gain, best gain: -inf\n",
            "[LightGBM] [Warning] No further splits with positive gain, best gain: -inf\n",
            "[LightGBM] [Warning] No further splits with positive gain, best gain: -inf\n",
            "[LightGBM] [Warning] No further splits with positive gain, best gain: -inf\n",
            "[LightGBM] [Warning] No further splits with positive gain, best gain: -inf\n",
            "[LightGBM] [Warning] No further splits with positive gain, best gain: -inf\n",
            "[LightGBM] [Warning] No further splits with positive gain, best gain: -inf\n",
            "[LightGBM] [Warning] No further splits with positive gain, best gain: -inf\n",
            "[LightGBM] [Warning] No further splits with positive gain, best gain: -inf\n",
            "[LightGBM] [Warning] No further splits with positive gain, best gain: -inf\n",
            "[LightGBM] [Warning] No further splits with positive gain, best gain: -inf\n",
            "[LightGBM] [Warning] No further splits with positive gain, best gain: -inf\n",
            "[LightGBM] [Warning] No further splits with positive gain, best gain: -inf\n",
            "[LightGBM] [Warning] No further splits with positive gain, best gain: -inf\n",
            "[LightGBM] [Warning] No further splits with positive gain, best gain: -inf\n",
            "[LightGBM] [Warning] No further splits with positive gain, best gain: -inf\n",
            "[LightGBM] [Warning] No further splits with positive gain, best gain: -inf\n",
            "[LightGBM] [Warning] No further splits with positive gain, best gain: -inf\n",
            "[LightGBM] [Warning] No further splits with positive gain, best gain: -inf\n",
            "[LightGBM] [Warning] No further splits with positive gain, best gain: -inf\n",
            "[LightGBM] [Warning] No further splits with positive gain, best gain: -inf\n",
            "[LightGBM] [Warning] No further splits with positive gain, best gain: -inf\n",
            "[LightGBM] [Warning] No further splits with positive gain, best gain: -inf\n",
            "[LightGBM] [Warning] No further splits with positive gain, best gain: -inf\n",
            "[LightGBM] [Warning] No further splits with positive gain, best gain: -inf\n",
            "[LightGBM] [Warning] No further splits with positive gain, best gain: -inf\n",
            "[LightGBM] [Warning] No further splits with positive gain, best gain: -inf\n",
            "[LightGBM] [Warning] No further splits with positive gain, best gain: -inf\n",
            "[LightGBM] [Warning] No further splits with positive gain, best gain: -inf\n",
            "[LightGBM] [Warning] No further splits with positive gain, best gain: -inf\n",
            "[LightGBM] [Warning] No further splits with positive gain, best gain: -inf\n",
            "[LightGBM] [Warning] No further splits with positive gain, best gain: -inf\n",
            "[LightGBM] [Warning] No further splits with positive gain, best gain: -inf\n",
            "[LightGBM] [Warning] No further splits with positive gain, best gain: -inf\n",
            "[LightGBM] [Warning] No further splits with positive gain, best gain: -inf\n",
            "[LightGBM] [Warning] No further splits with positive gain, best gain: -inf\n",
            "[LightGBM] [Warning] No further splits with positive gain, best gain: -inf\n",
            "[LightGBM] [Warning] No further splits with positive gain, best gain: -inf\n",
            "[LightGBM] [Warning] No further splits with positive gain, best gain: -inf\n",
            "[LightGBM] [Warning] No further splits with positive gain, best gain: -inf\n",
            "LGBM Classifer Accuracy: 94.78%\n"
          ]
        }
      ]
    },
    {
      "cell_type": "code",
      "source": [
        "#Determining version of python\n",
        "!python --version"
      ],
      "metadata": {
        "colab": {
          "base_uri": "https://localhost:8080/"
        },
        "id": "uGPCUMFI6Tnf",
        "outputId": "7bc504d4-9ef2-49a9-d4cb-e409b3d5b2c5"
      },
      "execution_count": null,
      "outputs": [
        {
          "output_type": "stream",
          "name": "stdout",
          "text": [
            "Python 3.11.12\n"
          ]
        }
      ]
    },
    {
      "cell_type": "code",
      "source": [
        "# Determnining numpy version\n",
        "print(np.__version__)"
      ],
      "metadata": {
        "colab": {
          "base_uri": "https://localhost:8080/"
        },
        "id": "s-DXVLPWUUKI",
        "outputId": "2e8ccdb9-1b1d-43a1-ac94-7c018ba21a9b"
      },
      "execution_count": null,
      "outputs": [
        {
          "output_type": "stream",
          "name": "stdout",
          "text": [
            "2.0.2\n"
          ]
        }
      ]
    },
    {
      "cell_type": "code",
      "source": [
        "# Installing catboost model\n",
        "!pip install catboost==1.2.8\n",
        "\n"
      ],
      "metadata": {
        "colab": {
          "base_uri": "https://localhost:8080/"
        },
        "id": "hcVjhO8FUFMF",
        "outputId": "8df9fb61-e95d-4195-abb4-a66be0bd99df"
      },
      "execution_count": null,
      "outputs": [
        {
          "output_type": "stream",
          "name": "stdout",
          "text": [
            "Requirement already satisfied: catboost==1.2.8 in /usr/local/lib/python3.11/dist-packages (1.2.8)\n",
            "Requirement already satisfied: graphviz in /usr/local/lib/python3.11/dist-packages (from catboost==1.2.8) (0.20.3)\n",
            "Requirement already satisfied: matplotlib in /usr/local/lib/python3.11/dist-packages (from catboost==1.2.8) (3.10.0)\n",
            "Requirement already satisfied: numpy<3.0,>=1.16.0 in /usr/local/lib/python3.11/dist-packages (from catboost==1.2.8) (2.0.2)\n",
            "Requirement already satisfied: pandas>=0.24 in /usr/local/lib/python3.11/dist-packages (from catboost==1.2.8) (2.2.2)\n",
            "Requirement already satisfied: scipy in /usr/local/lib/python3.11/dist-packages (from catboost==1.2.8) (1.14.1)\n",
            "Requirement already satisfied: plotly in /usr/local/lib/python3.11/dist-packages (from catboost==1.2.8) (5.24.1)\n",
            "Requirement already satisfied: six in /usr/local/lib/python3.11/dist-packages (from catboost==1.2.8) (1.17.0)\n",
            "Requirement already satisfied: python-dateutil>=2.8.2 in /usr/local/lib/python3.11/dist-packages (from pandas>=0.24->catboost==1.2.8) (2.8.2)\n",
            "Requirement already satisfied: pytz>=2020.1 in /usr/local/lib/python3.11/dist-packages (from pandas>=0.24->catboost==1.2.8) (2025.2)\n",
            "Requirement already satisfied: tzdata>=2022.7 in /usr/local/lib/python3.11/dist-packages (from pandas>=0.24->catboost==1.2.8) (2025.2)\n",
            "Requirement already satisfied: contourpy>=1.0.1 in /usr/local/lib/python3.11/dist-packages (from matplotlib->catboost==1.2.8) (1.3.1)\n",
            "Requirement already satisfied: cycler>=0.10 in /usr/local/lib/python3.11/dist-packages (from matplotlib->catboost==1.2.8) (0.12.1)\n",
            "Requirement already satisfied: fonttools>=4.22.0 in /usr/local/lib/python3.11/dist-packages (from matplotlib->catboost==1.2.8) (4.57.0)\n",
            "Requirement already satisfied: kiwisolver>=1.3.1 in /usr/local/lib/python3.11/dist-packages (from matplotlib->catboost==1.2.8) (1.4.8)\n",
            "Requirement already satisfied: packaging>=20.0 in /usr/local/lib/python3.11/dist-packages (from matplotlib->catboost==1.2.8) (24.2)\n",
            "Requirement already satisfied: pillow>=8 in /usr/local/lib/python3.11/dist-packages (from matplotlib->catboost==1.2.8) (11.1.0)\n",
            "Requirement already satisfied: pyparsing>=2.3.1 in /usr/local/lib/python3.11/dist-packages (from matplotlib->catboost==1.2.8) (3.2.3)\n",
            "Requirement already satisfied: tenacity>=6.2.0 in /usr/local/lib/python3.11/dist-packages (from plotly->catboost==1.2.8) (9.1.2)\n"
          ]
        }
      ]
    },
    {
      "cell_type": "code",
      "source": [
        "# Training and calcuating accuracy for Catboost model\n",
        "from catboost import CatBoostClassifier\n",
        "from sklearn.metrics import accuracy_score\n",
        "cat= CatBoostClassifier(random_state=100).fit(X_train, y_train)\n",
        "cat_predictions=cat.predict(X_test)\n",
        "cat_score=accuracy_score(y_test, cat_predictions)\n",
        "print('CatBoost Classifer Accuracy: {:.2%}'.format(cat_score))"
      ],
      "metadata": {
        "colab": {
          "base_uri": "https://localhost:8080/"
        },
        "id": "ym8KzMmBVTwk",
        "outputId": "9ac39a89-aae5-455f-d300-0cb30e82f953"
      },
      "execution_count": null,
      "outputs": [
        {
          "output_type": "stream",
          "name": "stdout",
          "text": [
            "Learning rate set to 0.005871\n",
            "0:\tlearn: 0.6821043\ttotal: 1.04ms\tremaining: 1.04s\n",
            "1:\tlearn: 0.6719780\ttotal: 1.57ms\tremaining: 782ms\n",
            "2:\tlearn: 0.6629614\ttotal: 2.09ms\tremaining: 695ms\n",
            "3:\tlearn: 0.6525673\ttotal: 2.83ms\tremaining: 705ms\n",
            "4:\tlearn: 0.6436605\ttotal: 3.42ms\tremaining: 681ms\n",
            "5:\tlearn: 0.6349639\ttotal: 4.09ms\tremaining: 678ms\n",
            "6:\tlearn: 0.6253254\ttotal: 4.77ms\tremaining: 676ms\n",
            "7:\tlearn: 0.6170434\ttotal: 5.35ms\tremaining: 663ms\n",
            "8:\tlearn: 0.6072778\ttotal: 6.04ms\tremaining: 665ms\n",
            "9:\tlearn: 0.5990172\ttotal: 6.69ms\tremaining: 663ms\n",
            "10:\tlearn: 0.5895004\ttotal: 7.38ms\tremaining: 664ms\n",
            "11:\tlearn: 0.5813820\ttotal: 8.05ms\tremaining: 663ms\n",
            "12:\tlearn: 0.5720677\ttotal: 8.7ms\tremaining: 661ms\n",
            "13:\tlearn: 0.5633132\ttotal: 9.35ms\tremaining: 659ms\n",
            "14:\tlearn: 0.5565591\ttotal: 10ms\tremaining: 660ms\n",
            "15:\tlearn: 0.5476076\ttotal: 10.7ms\tremaining: 658ms\n",
            "16:\tlearn: 0.5396256\ttotal: 11.4ms\tremaining: 657ms\n",
            "17:\tlearn: 0.5323154\ttotal: 12ms\tremaining: 656ms\n",
            "18:\tlearn: 0.5254277\ttotal: 12.7ms\tremaining: 656ms\n",
            "19:\tlearn: 0.5178340\ttotal: 13.5ms\tremaining: 662ms\n",
            "20:\tlearn: 0.5104592\ttotal: 14.2ms\tremaining: 661ms\n",
            "21:\tlearn: 0.5030970\ttotal: 14.8ms\tremaining: 660ms\n",
            "22:\tlearn: 0.4959266\ttotal: 15.5ms\tremaining: 660ms\n",
            "23:\tlearn: 0.4897331\ttotal: 16.4ms\tremaining: 666ms\n",
            "24:\tlearn: 0.4830633\ttotal: 17.1ms\tremaining: 666ms\n",
            "25:\tlearn: 0.4764930\ttotal: 17.9ms\tremaining: 670ms\n",
            "26:\tlearn: 0.4703603\ttotal: 18.5ms\tremaining: 668ms\n",
            "27:\tlearn: 0.4641978\ttotal: 19ms\tremaining: 661ms\n",
            "28:\tlearn: 0.4572699\ttotal: 19.7ms\tremaining: 660ms\n",
            "29:\tlearn: 0.4516858\ttotal: 20.4ms\tremaining: 659ms\n",
            "30:\tlearn: 0.4461179\ttotal: 21ms\tremaining: 658ms\n",
            "31:\tlearn: 0.4405286\ttotal: 21.7ms\tremaining: 657ms\n",
            "32:\tlearn: 0.4350143\ttotal: 22.4ms\tremaining: 657ms\n",
            "33:\tlearn: 0.4294861\ttotal: 23.1ms\tremaining: 655ms\n",
            "34:\tlearn: 0.4252352\ttotal: 23.8ms\tremaining: 655ms\n",
            "35:\tlearn: 0.4206521\ttotal: 24.4ms\tremaining: 654ms\n",
            "36:\tlearn: 0.4150176\ttotal: 25.1ms\tremaining: 654ms\n",
            "37:\tlearn: 0.4097725\ttotal: 25.8ms\tremaining: 652ms\n",
            "38:\tlearn: 0.4037464\ttotal: 26.5ms\tremaining: 652ms\n",
            "39:\tlearn: 0.3982817\ttotal: 27.1ms\tremaining: 651ms\n",
            "40:\tlearn: 0.3936733\ttotal: 27.8ms\tremaining: 651ms\n",
            "41:\tlearn: 0.3884649\ttotal: 28.4ms\tremaining: 647ms\n",
            "42:\tlearn: 0.3836586\ttotal: 29.1ms\tremaining: 648ms\n",
            "43:\tlearn: 0.3785289\ttotal: 29.8ms\tremaining: 648ms\n",
            "44:\tlearn: 0.3737599\ttotal: 30.5ms\tremaining: 647ms\n",
            "45:\tlearn: 0.3698058\ttotal: 31.2ms\tremaining: 646ms\n",
            "46:\tlearn: 0.3648379\ttotal: 31.7ms\tremaining: 644ms\n",
            "47:\tlearn: 0.3597305\ttotal: 32.2ms\tremaining: 639ms\n",
            "48:\tlearn: 0.3550901\ttotal: 32.9ms\tremaining: 638ms\n",
            "49:\tlearn: 0.3509138\ttotal: 33.6ms\tremaining: 638ms\n",
            "50:\tlearn: 0.3472314\ttotal: 34.3ms\tremaining: 637ms\n",
            "51:\tlearn: 0.3433439\ttotal: 34.9ms\tremaining: 636ms\n",
            "52:\tlearn: 0.3396137\ttotal: 35.6ms\tremaining: 636ms\n",
            "53:\tlearn: 0.3360089\ttotal: 36.3ms\tremaining: 635ms\n",
            "54:\tlearn: 0.3315646\ttotal: 36.9ms\tremaining: 633ms\n",
            "55:\tlearn: 0.3284234\ttotal: 37.5ms\tremaining: 632ms\n",
            "56:\tlearn: 0.3242025\ttotal: 38.1ms\tremaining: 630ms\n",
            "57:\tlearn: 0.3196348\ttotal: 38.6ms\tremaining: 628ms\n",
            "58:\tlearn: 0.3160308\ttotal: 39.3ms\tremaining: 627ms\n",
            "59:\tlearn: 0.3129210\ttotal: 40ms\tremaining: 627ms\n",
            "60:\tlearn: 0.3088145\ttotal: 40.7ms\tremaining: 626ms\n",
            "61:\tlearn: 0.3056624\ttotal: 41.4ms\tremaining: 626ms\n",
            "62:\tlearn: 0.3025174\ttotal: 42ms\tremaining: 625ms\n",
            "63:\tlearn: 0.2991116\ttotal: 42.7ms\tremaining: 625ms\n",
            "64:\tlearn: 0.2955383\ttotal: 43.4ms\tremaining: 624ms\n",
            "65:\tlearn: 0.2924342\ttotal: 44.1ms\tremaining: 624ms\n",
            "66:\tlearn: 0.2891602\ttotal: 44.8ms\tremaining: 623ms\n",
            "67:\tlearn: 0.2861910\ttotal: 45.4ms\tremaining: 623ms\n",
            "68:\tlearn: 0.2831277\ttotal: 46.1ms\tremaining: 623ms\n",
            "69:\tlearn: 0.2804058\ttotal: 46.8ms\tremaining: 622ms\n",
            "70:\tlearn: 0.2773767\ttotal: 47.5ms\tremaining: 621ms\n",
            "71:\tlearn: 0.2742647\ttotal: 48.1ms\tremaining: 621ms\n",
            "72:\tlearn: 0.2714499\ttotal: 48.8ms\tremaining: 620ms\n",
            "73:\tlearn: 0.2693477\ttotal: 49.6ms\tremaining: 621ms\n",
            "74:\tlearn: 0.2672337\ttotal: 50.3ms\tremaining: 620ms\n",
            "75:\tlearn: 0.2645595\ttotal: 51ms\tremaining: 620ms\n",
            "76:\tlearn: 0.2619528\ttotal: 51.7ms\tremaining: 619ms\n",
            "77:\tlearn: 0.2598842\ttotal: 52.4ms\tremaining: 619ms\n",
            "78:\tlearn: 0.2570778\ttotal: 53ms\tremaining: 618ms\n",
            "79:\tlearn: 0.2538722\ttotal: 53.7ms\tremaining: 617ms\n",
            "80:\tlearn: 0.2509202\ttotal: 54.4ms\tremaining: 617ms\n",
            "81:\tlearn: 0.2483710\ttotal: 55.1ms\tremaining: 616ms\n",
            "82:\tlearn: 0.2458471\ttotal: 55.7ms\tremaining: 616ms\n",
            "83:\tlearn: 0.2432765\ttotal: 56.4ms\tremaining: 615ms\n",
            "84:\tlearn: 0.2415625\ttotal: 57.1ms\tremaining: 614ms\n",
            "85:\tlearn: 0.2389682\ttotal: 57.7ms\tremaining: 614ms\n",
            "86:\tlearn: 0.2367494\ttotal: 58.4ms\tremaining: 613ms\n",
            "87:\tlearn: 0.2343177\ttotal: 59.1ms\tremaining: 612ms\n",
            "88:\tlearn: 0.2319220\ttotal: 59.6ms\tremaining: 610ms\n",
            "89:\tlearn: 0.2297550\ttotal: 60.3ms\tremaining: 610ms\n",
            "90:\tlearn: 0.2274703\ttotal: 61ms\tremaining: 609ms\n",
            "91:\tlearn: 0.2251802\ttotal: 61.6ms\tremaining: 608ms\n",
            "92:\tlearn: 0.2233369\ttotal: 62.3ms\tremaining: 607ms\n",
            "93:\tlearn: 0.2208865\ttotal: 62.9ms\tremaining: 607ms\n",
            "94:\tlearn: 0.2189195\ttotal: 63.6ms\tremaining: 606ms\n",
            "95:\tlearn: 0.2168536\ttotal: 64.2ms\tremaining: 605ms\n",
            "96:\tlearn: 0.2149992\ttotal: 64.9ms\tremaining: 604ms\n",
            "97:\tlearn: 0.2129817\ttotal: 65.6ms\tremaining: 603ms\n",
            "98:\tlearn: 0.2109435\ttotal: 66.2ms\tremaining: 603ms\n",
            "99:\tlearn: 0.2092306\ttotal: 66.9ms\tremaining: 602ms\n",
            "100:\tlearn: 0.2072752\ttotal: 67.6ms\tremaining: 602ms\n",
            "101:\tlearn: 0.2053416\ttotal: 68.3ms\tremaining: 601ms\n",
            "102:\tlearn: 0.2035839\ttotal: 68.8ms\tremaining: 599ms\n",
            "103:\tlearn: 0.2020123\ttotal: 69.5ms\tremaining: 599ms\n",
            "104:\tlearn: 0.2009900\ttotal: 70.1ms\tremaining: 598ms\n",
            "105:\tlearn: 0.1990219\ttotal: 70.8ms\tremaining: 597ms\n",
            "106:\tlearn: 0.1972544\ttotal: 71.5ms\tremaining: 596ms\n",
            "107:\tlearn: 0.1954019\ttotal: 72.3ms\tremaining: 597ms\n",
            "108:\tlearn: 0.1937272\ttotal: 73ms\tremaining: 596ms\n",
            "109:\tlearn: 0.1920297\ttotal: 73.6ms\tremaining: 596ms\n",
            "110:\tlearn: 0.1900386\ttotal: 75.1ms\tremaining: 602ms\n",
            "111:\tlearn: 0.1885224\ttotal: 75.7ms\tremaining: 600ms\n",
            "112:\tlearn: 0.1871002\ttotal: 76.4ms\tremaining: 600ms\n",
            "113:\tlearn: 0.1853556\ttotal: 77.1ms\tremaining: 599ms\n",
            "114:\tlearn: 0.1836392\ttotal: 77.8ms\tremaining: 599ms\n",
            "115:\tlearn: 0.1819713\ttotal: 78.5ms\tremaining: 598ms\n",
            "116:\tlearn: 0.1805196\ttotal: 79.1ms\tremaining: 597ms\n",
            "117:\tlearn: 0.1791172\ttotal: 79.8ms\tremaining: 597ms\n",
            "118:\tlearn: 0.1778238\ttotal: 80.5ms\tremaining: 596ms\n",
            "119:\tlearn: 0.1770078\ttotal: 81ms\tremaining: 594ms\n",
            "120:\tlearn: 0.1755892\ttotal: 81.7ms\tremaining: 593ms\n",
            "121:\tlearn: 0.1742823\ttotal: 82.4ms\tremaining: 593ms\n",
            "122:\tlearn: 0.1730273\ttotal: 83ms\tremaining: 592ms\n",
            "123:\tlearn: 0.1716164\ttotal: 83.7ms\tremaining: 591ms\n",
            "124:\tlearn: 0.1702754\ttotal: 84.4ms\tremaining: 591ms\n",
            "125:\tlearn: 0.1692943\ttotal: 85.1ms\tremaining: 590ms\n",
            "126:\tlearn: 0.1681798\ttotal: 85.8ms\tremaining: 590ms\n",
            "127:\tlearn: 0.1669693\ttotal: 86.4ms\tremaining: 589ms\n",
            "128:\tlearn: 0.1657741\ttotal: 87ms\tremaining: 588ms\n",
            "129:\tlearn: 0.1644411\ttotal: 87.7ms\tremaining: 587ms\n",
            "130:\tlearn: 0.1636027\ttotal: 88.4ms\tremaining: 586ms\n",
            "131:\tlearn: 0.1624477\ttotal: 89.1ms\tremaining: 586ms\n",
            "132:\tlearn: 0.1616000\ttotal: 89.5ms\tremaining: 584ms\n",
            "133:\tlearn: 0.1604555\ttotal: 90.3ms\tremaining: 584ms\n",
            "134:\tlearn: 0.1592409\ttotal: 91ms\tremaining: 583ms\n",
            "135:\tlearn: 0.1578455\ttotal: 91.7ms\tremaining: 582ms\n",
            "136:\tlearn: 0.1566437\ttotal: 92.3ms\tremaining: 582ms\n",
            "137:\tlearn: 0.1553786\ttotal: 93ms\tremaining: 581ms\n",
            "138:\tlearn: 0.1541855\ttotal: 93.8ms\tremaining: 581ms\n",
            "139:\tlearn: 0.1530411\ttotal: 94.4ms\tremaining: 580ms\n",
            "140:\tlearn: 0.1519482\ttotal: 95ms\tremaining: 579ms\n",
            "141:\tlearn: 0.1509357\ttotal: 95.7ms\tremaining: 578ms\n",
            "142:\tlearn: 0.1499618\ttotal: 96.4ms\tremaining: 578ms\n",
            "143:\tlearn: 0.1487139\ttotal: 97ms\tremaining: 577ms\n",
            "144:\tlearn: 0.1474070\ttotal: 97.7ms\tremaining: 576ms\n",
            "145:\tlearn: 0.1465139\ttotal: 98.4ms\tremaining: 576ms\n",
            "146:\tlearn: 0.1455690\ttotal: 99.1ms\tremaining: 575ms\n",
            "147:\tlearn: 0.1446236\ttotal: 99.8ms\tremaining: 574ms\n",
            "148:\tlearn: 0.1441428\ttotal: 100ms\tremaining: 573ms\n",
            "149:\tlearn: 0.1434697\ttotal: 101ms\tremaining: 572ms\n",
            "150:\tlearn: 0.1423418\ttotal: 102ms\tremaining: 572ms\n",
            "151:\tlearn: 0.1414785\ttotal: 106ms\tremaining: 593ms\n",
            "152:\tlearn: 0.1404510\ttotal: 107ms\tremaining: 594ms\n",
            "153:\tlearn: 0.1394810\ttotal: 108ms\tremaining: 595ms\n",
            "154:\tlearn: 0.1387287\ttotal: 110ms\tremaining: 602ms\n",
            "155:\tlearn: 0.1377647\ttotal: 111ms\tremaining: 602ms\n",
            "156:\tlearn: 0.1368742\ttotal: 112ms\tremaining: 603ms\n",
            "157:\tlearn: 0.1359014\ttotal: 113ms\tremaining: 604ms\n",
            "158:\tlearn: 0.1349868\ttotal: 114ms\tremaining: 605ms\n",
            "159:\tlearn: 0.1341312\ttotal: 115ms\tremaining: 605ms\n",
            "160:\tlearn: 0.1331540\ttotal: 116ms\tremaining: 605ms\n",
            "161:\tlearn: 0.1323053\ttotal: 121ms\tremaining: 624ms\n",
            "162:\tlearn: 0.1316070\ttotal: 122ms\tremaining: 625ms\n",
            "163:\tlearn: 0.1311618\ttotal: 123ms\tremaining: 625ms\n",
            "164:\tlearn: 0.1302088\ttotal: 125ms\tremaining: 633ms\n",
            "165:\tlearn: 0.1292745\ttotal: 126ms\tremaining: 632ms\n",
            "166:\tlearn: 0.1284038\ttotal: 127ms\tremaining: 631ms\n",
            "167:\tlearn: 0.1277835\ttotal: 127ms\tremaining: 630ms\n",
            "168:\tlearn: 0.1270268\ttotal: 128ms\tremaining: 629ms\n",
            "169:\tlearn: 0.1264423\ttotal: 129ms\tremaining: 628ms\n",
            "170:\tlearn: 0.1257980\ttotal: 129ms\tremaining: 627ms\n",
            "171:\tlearn: 0.1251428\ttotal: 130ms\tremaining: 626ms\n",
            "172:\tlearn: 0.1244136\ttotal: 131ms\tremaining: 625ms\n",
            "173:\tlearn: 0.1237761\ttotal: 132ms\tremaining: 625ms\n",
            "174:\tlearn: 0.1231476\ttotal: 132ms\tremaining: 624ms\n",
            "175:\tlearn: 0.1225059\ttotal: 133ms\tremaining: 623ms\n",
            "176:\tlearn: 0.1217176\ttotal: 134ms\tremaining: 622ms\n",
            "177:\tlearn: 0.1210440\ttotal: 135ms\tremaining: 621ms\n",
            "178:\tlearn: 0.1203793\ttotal: 135ms\tremaining: 620ms\n",
            "179:\tlearn: 0.1200711\ttotal: 136ms\tremaining: 619ms\n",
            "180:\tlearn: 0.1192012\ttotal: 137ms\tremaining: 618ms\n",
            "181:\tlearn: 0.1186277\ttotal: 137ms\tremaining: 617ms\n",
            "182:\tlearn: 0.1180579\ttotal: 138ms\tremaining: 616ms\n",
            "183:\tlearn: 0.1176234\ttotal: 139ms\tremaining: 615ms\n",
            "184:\tlearn: 0.1170380\ttotal: 140ms\tremaining: 615ms\n",
            "185:\tlearn: 0.1167819\ttotal: 140ms\tremaining: 614ms\n",
            "186:\tlearn: 0.1165625\ttotal: 141ms\tremaining: 613ms\n",
            "187:\tlearn: 0.1158205\ttotal: 142ms\tremaining: 612ms\n",
            "188:\tlearn: 0.1152505\ttotal: 142ms\tremaining: 611ms\n",
            "189:\tlearn: 0.1146166\ttotal: 143ms\tremaining: 610ms\n",
            "190:\tlearn: 0.1140955\ttotal: 144ms\tremaining: 609ms\n",
            "191:\tlearn: 0.1134917\ttotal: 144ms\tremaining: 607ms\n",
            "192:\tlearn: 0.1129087\ttotal: 145ms\tremaining: 606ms\n",
            "193:\tlearn: 0.1127776\ttotal: 145ms\tremaining: 604ms\n",
            "194:\tlearn: 0.1122586\ttotal: 146ms\tremaining: 603ms\n",
            "195:\tlearn: 0.1114832\ttotal: 147ms\tremaining: 602ms\n",
            "196:\tlearn: 0.1110243\ttotal: 147ms\tremaining: 601ms\n",
            "197:\tlearn: 0.1104718\ttotal: 148ms\tremaining: 600ms\n",
            "198:\tlearn: 0.1099998\ttotal: 149ms\tremaining: 599ms\n",
            "199:\tlearn: 0.1093413\ttotal: 149ms\tremaining: 598ms\n",
            "200:\tlearn: 0.1088689\ttotal: 150ms\tremaining: 597ms\n",
            "201:\tlearn: 0.1086830\ttotal: 151ms\tremaining: 596ms\n",
            "202:\tlearn: 0.1083436\ttotal: 152ms\tremaining: 595ms\n",
            "203:\tlearn: 0.1077673\ttotal: 152ms\tremaining: 594ms\n",
            "204:\tlearn: 0.1070958\ttotal: 153ms\tremaining: 593ms\n",
            "205:\tlearn: 0.1068840\ttotal: 153ms\tremaining: 591ms\n",
            "206:\tlearn: 0.1066882\ttotal: 154ms\tremaining: 590ms\n",
            "207:\tlearn: 0.1062214\ttotal: 155ms\tremaining: 589ms\n",
            "208:\tlearn: 0.1057983\ttotal: 155ms\tremaining: 588ms\n",
            "209:\tlearn: 0.1054874\ttotal: 156ms\tremaining: 587ms\n",
            "210:\tlearn: 0.1049986\ttotal: 157ms\tremaining: 586ms\n",
            "211:\tlearn: 0.1043559\ttotal: 157ms\tremaining: 585ms\n",
            "212:\tlearn: 0.1039351\ttotal: 158ms\tremaining: 584ms\n",
            "213:\tlearn: 0.1038643\ttotal: 158ms\tremaining: 582ms\n",
            "214:\tlearn: 0.1033111\ttotal: 159ms\tremaining: 581ms\n",
            "215:\tlearn: 0.1027848\ttotal: 160ms\tremaining: 580ms\n",
            "216:\tlearn: 0.1023734\ttotal: 161ms\tremaining: 579ms\n",
            "217:\tlearn: 0.1019204\ttotal: 161ms\tremaining: 578ms\n",
            "218:\tlearn: 0.1013486\ttotal: 162ms\tremaining: 577ms\n",
            "219:\tlearn: 0.1007424\ttotal: 163ms\tremaining: 576ms\n",
            "220:\tlearn: 0.1002378\ttotal: 163ms\tremaining: 575ms\n",
            "221:\tlearn: 0.0998300\ttotal: 164ms\tremaining: 574ms\n",
            "222:\tlearn: 0.0993776\ttotal: 165ms\tremaining: 573ms\n",
            "223:\tlearn: 0.0989252\ttotal: 165ms\tremaining: 572ms\n",
            "224:\tlearn: 0.0985096\ttotal: 166ms\tremaining: 571ms\n",
            "225:\tlearn: 0.0980746\ttotal: 167ms\tremaining: 570ms\n",
            "226:\tlearn: 0.0977121\ttotal: 167ms\tremaining: 569ms\n",
            "227:\tlearn: 0.0973333\ttotal: 168ms\tremaining: 568ms\n",
            "228:\tlearn: 0.0970838\ttotal: 169ms\tremaining: 568ms\n",
            "229:\tlearn: 0.0967065\ttotal: 169ms\tremaining: 567ms\n",
            "230:\tlearn: 0.0963104\ttotal: 170ms\tremaining: 566ms\n",
            "231:\tlearn: 0.0959202\ttotal: 171ms\tremaining: 566ms\n",
            "232:\tlearn: 0.0954318\ttotal: 172ms\tremaining: 565ms\n",
            "233:\tlearn: 0.0949788\ttotal: 172ms\tremaining: 564ms\n",
            "234:\tlearn: 0.0945547\ttotal: 173ms\tremaining: 563ms\n",
            "235:\tlearn: 0.0943419\ttotal: 174ms\tremaining: 562ms\n",
            "236:\tlearn: 0.0940118\ttotal: 174ms\tremaining: 561ms\n",
            "237:\tlearn: 0.0936127\ttotal: 175ms\tremaining: 560ms\n",
            "238:\tlearn: 0.0934057\ttotal: 176ms\tremaining: 559ms\n",
            "239:\tlearn: 0.0930302\ttotal: 176ms\tremaining: 559ms\n",
            "240:\tlearn: 0.0926665\ttotal: 177ms\tremaining: 558ms\n",
            "241:\tlearn: 0.0924478\ttotal: 178ms\tremaining: 557ms\n",
            "242:\tlearn: 0.0920711\ttotal: 178ms\tremaining: 556ms\n",
            "243:\tlearn: 0.0916449\ttotal: 179ms\tremaining: 555ms\n",
            "244:\tlearn: 0.0915068\ttotal: 180ms\tremaining: 554ms\n",
            "245:\tlearn: 0.0911783\ttotal: 181ms\tremaining: 554ms\n",
            "246:\tlearn: 0.0909487\ttotal: 184ms\tremaining: 561ms\n",
            "247:\tlearn: 0.0906324\ttotal: 185ms\tremaining: 561ms\n",
            "248:\tlearn: 0.0902820\ttotal: 186ms\tremaining: 561ms\n",
            "249:\tlearn: 0.0899022\ttotal: 187ms\tremaining: 560ms\n",
            "250:\tlearn: 0.0895091\ttotal: 188ms\tremaining: 561ms\n",
            "251:\tlearn: 0.0892119\ttotal: 189ms\tremaining: 560ms\n",
            "252:\tlearn: 0.0888857\ttotal: 190ms\tremaining: 560ms\n",
            "253:\tlearn: 0.0886114\ttotal: 190ms\tremaining: 559ms\n",
            "254:\tlearn: 0.0882516\ttotal: 191ms\tremaining: 558ms\n",
            "255:\tlearn: 0.0880125\ttotal: 192ms\tremaining: 557ms\n",
            "256:\tlearn: 0.0878239\ttotal: 192ms\tremaining: 556ms\n",
            "257:\tlearn: 0.0874794\ttotal: 193ms\tremaining: 555ms\n",
            "258:\tlearn: 0.0871036\ttotal: 194ms\tremaining: 554ms\n",
            "259:\tlearn: 0.0868715\ttotal: 194ms\tremaining: 553ms\n",
            "260:\tlearn: 0.0865481\ttotal: 195ms\tremaining: 552ms\n",
            "261:\tlearn: 0.0862147\ttotal: 196ms\tremaining: 551ms\n",
            "262:\tlearn: 0.0858549\ttotal: 196ms\tremaining: 550ms\n",
            "263:\tlearn: 0.0856302\ttotal: 197ms\tremaining: 550ms\n",
            "264:\tlearn: 0.0851970\ttotal: 198ms\tremaining: 549ms\n",
            "265:\tlearn: 0.0849832\ttotal: 198ms\tremaining: 548ms\n",
            "266:\tlearn: 0.0846874\ttotal: 199ms\tremaining: 547ms\n",
            "267:\tlearn: 0.0845013\ttotal: 200ms\tremaining: 546ms\n",
            "268:\tlearn: 0.0843614\ttotal: 200ms\tremaining: 545ms\n",
            "269:\tlearn: 0.0840750\ttotal: 201ms\tremaining: 544ms\n",
            "270:\tlearn: 0.0838675\ttotal: 202ms\tremaining: 543ms\n",
            "271:\tlearn: 0.0836483\ttotal: 202ms\tremaining: 542ms\n",
            "272:\tlearn: 0.0835225\ttotal: 203ms\tremaining: 541ms\n",
            "273:\tlearn: 0.0833680\ttotal: 204ms\tremaining: 540ms\n",
            "274:\tlearn: 0.0831026\ttotal: 204ms\tremaining: 539ms\n",
            "275:\tlearn: 0.0828293\ttotal: 205ms\tremaining: 538ms\n",
            "276:\tlearn: 0.0825567\ttotal: 206ms\tremaining: 537ms\n",
            "277:\tlearn: 0.0823244\ttotal: 206ms\tremaining: 536ms\n",
            "278:\tlearn: 0.0821842\ttotal: 207ms\tremaining: 535ms\n",
            "279:\tlearn: 0.0820095\ttotal: 208ms\tremaining: 534ms\n",
            "280:\tlearn: 0.0818456\ttotal: 209ms\tremaining: 534ms\n",
            "281:\tlearn: 0.0816470\ttotal: 209ms\tremaining: 533ms\n",
            "282:\tlearn: 0.0814568\ttotal: 210ms\tremaining: 532ms\n",
            "283:\tlearn: 0.0813335\ttotal: 211ms\tremaining: 531ms\n",
            "284:\tlearn: 0.0810549\ttotal: 211ms\tremaining: 530ms\n",
            "285:\tlearn: 0.0808514\ttotal: 212ms\tremaining: 529ms\n",
            "286:\tlearn: 0.0806083\ttotal: 213ms\tremaining: 528ms\n",
            "287:\tlearn: 0.0805237\ttotal: 213ms\tremaining: 527ms\n",
            "288:\tlearn: 0.0803102\ttotal: 214ms\tremaining: 527ms\n",
            "289:\tlearn: 0.0801380\ttotal: 215ms\tremaining: 526ms\n",
            "290:\tlearn: 0.0798801\ttotal: 215ms\tremaining: 525ms\n",
            "291:\tlearn: 0.0796787\ttotal: 216ms\tremaining: 524ms\n",
            "292:\tlearn: 0.0793501\ttotal: 217ms\tremaining: 523ms\n",
            "293:\tlearn: 0.0790323\ttotal: 217ms\tremaining: 522ms\n",
            "294:\tlearn: 0.0789032\ttotal: 218ms\tremaining: 521ms\n",
            "295:\tlearn: 0.0786613\ttotal: 219ms\tremaining: 520ms\n",
            "296:\tlearn: 0.0785758\ttotal: 219ms\tremaining: 519ms\n",
            "297:\tlearn: 0.0782946\ttotal: 220ms\tremaining: 519ms\n",
            "298:\tlearn: 0.0781081\ttotal: 221ms\tremaining: 517ms\n",
            "299:\tlearn: 0.0778325\ttotal: 221ms\tremaining: 517ms\n",
            "300:\tlearn: 0.0775855\ttotal: 222ms\tremaining: 516ms\n",
            "301:\tlearn: 0.0773417\ttotal: 223ms\tremaining: 515ms\n",
            "302:\tlearn: 0.0770326\ttotal: 223ms\tremaining: 514ms\n",
            "303:\tlearn: 0.0768645\ttotal: 224ms\tremaining: 513ms\n",
            "304:\tlearn: 0.0765661\ttotal: 225ms\tremaining: 512ms\n",
            "305:\tlearn: 0.0762736\ttotal: 225ms\tremaining: 511ms\n",
            "306:\tlearn: 0.0760906\ttotal: 226ms\tremaining: 510ms\n",
            "307:\tlearn: 0.0758823\ttotal: 227ms\tremaining: 510ms\n",
            "308:\tlearn: 0.0756917\ttotal: 227ms\tremaining: 509ms\n",
            "309:\tlearn: 0.0755079\ttotal: 228ms\tremaining: 508ms\n",
            "310:\tlearn: 0.0753305\ttotal: 229ms\tremaining: 507ms\n",
            "311:\tlearn: 0.0750642\ttotal: 229ms\tremaining: 506ms\n",
            "312:\tlearn: 0.0747774\ttotal: 230ms\tremaining: 505ms\n",
            "313:\tlearn: 0.0745089\ttotal: 231ms\tremaining: 504ms\n",
            "314:\tlearn: 0.0742366\ttotal: 232ms\tremaining: 504ms\n",
            "315:\tlearn: 0.0741183\ttotal: 232ms\tremaining: 503ms\n",
            "316:\tlearn: 0.0739358\ttotal: 233ms\tremaining: 502ms\n",
            "317:\tlearn: 0.0736452\ttotal: 234ms\tremaining: 501ms\n",
            "318:\tlearn: 0.0735165\ttotal: 234ms\tremaining: 500ms\n",
            "319:\tlearn: 0.0733285\ttotal: 235ms\tremaining: 499ms\n",
            "320:\tlearn: 0.0732626\ttotal: 235ms\tremaining: 498ms\n",
            "321:\tlearn: 0.0730679\ttotal: 236ms\tremaining: 497ms\n",
            "322:\tlearn: 0.0728798\ttotal: 237ms\tremaining: 496ms\n",
            "323:\tlearn: 0.0726585\ttotal: 238ms\tremaining: 496ms\n",
            "324:\tlearn: 0.0724531\ttotal: 238ms\tremaining: 495ms\n",
            "325:\tlearn: 0.0723217\ttotal: 239ms\tremaining: 494ms\n",
            "326:\tlearn: 0.0720641\ttotal: 240ms\tremaining: 493ms\n",
            "327:\tlearn: 0.0719296\ttotal: 240ms\tremaining: 492ms\n",
            "328:\tlearn: 0.0717403\ttotal: 241ms\tremaining: 491ms\n",
            "329:\tlearn: 0.0715151\ttotal: 242ms\tremaining: 491ms\n",
            "330:\tlearn: 0.0714080\ttotal: 242ms\tremaining: 490ms\n",
            "331:\tlearn: 0.0712584\ttotal: 243ms\tremaining: 489ms\n",
            "332:\tlearn: 0.0710312\ttotal: 244ms\tremaining: 488ms\n",
            "333:\tlearn: 0.0708731\ttotal: 244ms\tremaining: 487ms\n",
            "334:\tlearn: 0.0707921\ttotal: 245ms\tremaining: 486ms\n",
            "335:\tlearn: 0.0706723\ttotal: 246ms\tremaining: 485ms\n",
            "336:\tlearn: 0.0704932\ttotal: 246ms\tremaining: 484ms\n",
            "337:\tlearn: 0.0703178\ttotal: 247ms\tremaining: 484ms\n",
            "338:\tlearn: 0.0700902\ttotal: 248ms\tremaining: 483ms\n",
            "339:\tlearn: 0.0699574\ttotal: 248ms\tremaining: 482ms\n",
            "340:\tlearn: 0.0697243\ttotal: 249ms\tremaining: 481ms\n",
            "341:\tlearn: 0.0695321\ttotal: 250ms\tremaining: 480ms\n",
            "342:\tlearn: 0.0693605\ttotal: 250ms\tremaining: 480ms\n",
            "343:\tlearn: 0.0692415\ttotal: 251ms\tremaining: 479ms\n",
            "344:\tlearn: 0.0690866\ttotal: 252ms\tremaining: 478ms\n",
            "345:\tlearn: 0.0689448\ttotal: 252ms\tremaining: 477ms\n",
            "346:\tlearn: 0.0687986\ttotal: 253ms\tremaining: 476ms\n",
            "347:\tlearn: 0.0686304\ttotal: 254ms\tremaining: 475ms\n",
            "348:\tlearn: 0.0684713\ttotal: 254ms\tremaining: 475ms\n",
            "349:\tlearn: 0.0682060\ttotal: 255ms\tremaining: 474ms\n",
            "350:\tlearn: 0.0681049\ttotal: 256ms\tremaining: 473ms\n",
            "351:\tlearn: 0.0679313\ttotal: 256ms\tremaining: 472ms\n",
            "352:\tlearn: 0.0677816\ttotal: 257ms\tremaining: 471ms\n",
            "353:\tlearn: 0.0676172\ttotal: 258ms\tremaining: 470ms\n",
            "354:\tlearn: 0.0673919\ttotal: 258ms\tremaining: 470ms\n",
            "355:\tlearn: 0.0672229\ttotal: 259ms\tremaining: 469ms\n",
            "356:\tlearn: 0.0670405\ttotal: 260ms\tremaining: 468ms\n",
            "357:\tlearn: 0.0669452\ttotal: 261ms\tremaining: 467ms\n",
            "358:\tlearn: 0.0668044\ttotal: 261ms\tremaining: 466ms\n",
            "359:\tlearn: 0.0666339\ttotal: 262ms\tremaining: 466ms\n",
            "360:\tlearn: 0.0665436\ttotal: 263ms\tremaining: 465ms\n",
            "361:\tlearn: 0.0663407\ttotal: 263ms\tremaining: 464ms\n",
            "362:\tlearn: 0.0662028\ttotal: 264ms\tremaining: 463ms\n",
            "363:\tlearn: 0.0661075\ttotal: 264ms\tremaining: 462ms\n",
            "364:\tlearn: 0.0658746\ttotal: 265ms\tremaining: 461ms\n",
            "365:\tlearn: 0.0657219\ttotal: 266ms\tremaining: 461ms\n",
            "366:\tlearn: 0.0655038\ttotal: 267ms\tremaining: 460ms\n",
            "367:\tlearn: 0.0654201\ttotal: 267ms\tremaining: 459ms\n",
            "368:\tlearn: 0.0652099\ttotal: 269ms\tremaining: 460ms\n",
            "369:\tlearn: 0.0650653\ttotal: 270ms\tremaining: 459ms\n",
            "370:\tlearn: 0.0649475\ttotal: 271ms\tremaining: 459ms\n",
            "371:\tlearn: 0.0647702\ttotal: 271ms\tremaining: 458ms\n",
            "372:\tlearn: 0.0646004\ttotal: 272ms\tremaining: 457ms\n",
            "373:\tlearn: 0.0644846\ttotal: 273ms\tremaining: 456ms\n",
            "374:\tlearn: 0.0644140\ttotal: 273ms\tremaining: 456ms\n",
            "375:\tlearn: 0.0643209\ttotal: 274ms\tremaining: 455ms\n",
            "376:\tlearn: 0.0641500\ttotal: 275ms\tremaining: 454ms\n",
            "377:\tlearn: 0.0639791\ttotal: 275ms\tremaining: 453ms\n",
            "378:\tlearn: 0.0638636\ttotal: 276ms\tremaining: 452ms\n",
            "379:\tlearn: 0.0637185\ttotal: 277ms\tremaining: 452ms\n",
            "380:\tlearn: 0.0635707\ttotal: 278ms\tremaining: 451ms\n",
            "381:\tlearn: 0.0634708\ttotal: 278ms\tremaining: 450ms\n",
            "382:\tlearn: 0.0632689\ttotal: 279ms\tremaining: 449ms\n",
            "383:\tlearn: 0.0631581\ttotal: 280ms\tremaining: 448ms\n",
            "384:\tlearn: 0.0630773\ttotal: 280ms\tremaining: 448ms\n",
            "385:\tlearn: 0.0629872\ttotal: 281ms\tremaining: 447ms\n",
            "386:\tlearn: 0.0628091\ttotal: 282ms\tremaining: 446ms\n",
            "387:\tlearn: 0.0626835\ttotal: 282ms\tremaining: 445ms\n",
            "388:\tlearn: 0.0625126\ttotal: 283ms\tremaining: 444ms\n",
            "389:\tlearn: 0.0624514\ttotal: 284ms\tremaining: 444ms\n",
            "390:\tlearn: 0.0622573\ttotal: 284ms\tremaining: 443ms\n",
            "391:\tlearn: 0.0620784\ttotal: 285ms\tremaining: 442ms\n",
            "392:\tlearn: 0.0618984\ttotal: 286ms\tremaining: 441ms\n",
            "393:\tlearn: 0.0617822\ttotal: 286ms\tremaining: 440ms\n",
            "394:\tlearn: 0.0616463\ttotal: 287ms\tremaining: 440ms\n",
            "395:\tlearn: 0.0615859\ttotal: 288ms\tremaining: 439ms\n",
            "396:\tlearn: 0.0614816\ttotal: 288ms\tremaining: 438ms\n",
            "397:\tlearn: 0.0612402\ttotal: 289ms\tremaining: 437ms\n",
            "398:\tlearn: 0.0611105\ttotal: 290ms\tremaining: 436ms\n",
            "399:\tlearn: 0.0610050\ttotal: 290ms\tremaining: 436ms\n",
            "400:\tlearn: 0.0608946\ttotal: 291ms\tremaining: 435ms\n",
            "401:\tlearn: 0.0607901\ttotal: 292ms\tremaining: 434ms\n",
            "402:\tlearn: 0.0607194\ttotal: 292ms\tremaining: 433ms\n",
            "403:\tlearn: 0.0605915\ttotal: 293ms\tremaining: 433ms\n",
            "404:\tlearn: 0.0605578\ttotal: 294ms\tremaining: 431ms\n",
            "405:\tlearn: 0.0604429\ttotal: 294ms\tremaining: 431ms\n",
            "406:\tlearn: 0.0603744\ttotal: 295ms\tremaining: 430ms\n",
            "407:\tlearn: 0.0602983\ttotal: 296ms\tremaining: 429ms\n",
            "408:\tlearn: 0.0602482\ttotal: 296ms\tremaining: 428ms\n",
            "409:\tlearn: 0.0601883\ttotal: 297ms\tremaining: 427ms\n",
            "410:\tlearn: 0.0601214\ttotal: 298ms\tremaining: 427ms\n",
            "411:\tlearn: 0.0599819\ttotal: 298ms\tremaining: 426ms\n",
            "412:\tlearn: 0.0599003\ttotal: 299ms\tremaining: 425ms\n",
            "413:\tlearn: 0.0597417\ttotal: 300ms\tremaining: 425ms\n",
            "414:\tlearn: 0.0596885\ttotal: 301ms\tremaining: 424ms\n",
            "415:\tlearn: 0.0595514\ttotal: 301ms\tremaining: 423ms\n",
            "416:\tlearn: 0.0595071\ttotal: 302ms\tremaining: 422ms\n",
            "417:\tlearn: 0.0594157\ttotal: 303ms\tremaining: 422ms\n",
            "418:\tlearn: 0.0592937\ttotal: 303ms\tremaining: 421ms\n",
            "419:\tlearn: 0.0592059\ttotal: 304ms\tremaining: 420ms\n",
            "420:\tlearn: 0.0590250\ttotal: 305ms\tremaining: 419ms\n",
            "421:\tlearn: 0.0589680\ttotal: 305ms\tremaining: 418ms\n",
            "422:\tlearn: 0.0588553\ttotal: 306ms\tremaining: 418ms\n",
            "423:\tlearn: 0.0587032\ttotal: 307ms\tremaining: 417ms\n",
            "424:\tlearn: 0.0585781\ttotal: 308ms\tremaining: 416ms\n",
            "425:\tlearn: 0.0584948\ttotal: 308ms\tremaining: 415ms\n",
            "426:\tlearn: 0.0583866\ttotal: 309ms\tremaining: 415ms\n",
            "427:\tlearn: 0.0582984\ttotal: 310ms\tremaining: 414ms\n",
            "428:\tlearn: 0.0582755\ttotal: 310ms\tremaining: 413ms\n",
            "429:\tlearn: 0.0581981\ttotal: 311ms\tremaining: 412ms\n",
            "430:\tlearn: 0.0580938\ttotal: 312ms\tremaining: 411ms\n",
            "431:\tlearn: 0.0579610\ttotal: 312ms\tremaining: 411ms\n",
            "432:\tlearn: 0.0578898\ttotal: 313ms\tremaining: 410ms\n",
            "433:\tlearn: 0.0578158\ttotal: 314ms\tremaining: 409ms\n",
            "434:\tlearn: 0.0576866\ttotal: 314ms\tremaining: 408ms\n",
            "435:\tlearn: 0.0575882\ttotal: 315ms\tremaining: 408ms\n",
            "436:\tlearn: 0.0574710\ttotal: 316ms\tremaining: 407ms\n",
            "437:\tlearn: 0.0573670\ttotal: 316ms\tremaining: 406ms\n",
            "438:\tlearn: 0.0572225\ttotal: 317ms\tremaining: 405ms\n",
            "439:\tlearn: 0.0571456\ttotal: 318ms\tremaining: 404ms\n",
            "440:\tlearn: 0.0571042\ttotal: 318ms\tremaining: 403ms\n",
            "441:\tlearn: 0.0570021\ttotal: 319ms\tremaining: 403ms\n",
            "442:\tlearn: 0.0569516\ttotal: 320ms\tremaining: 402ms\n",
            "443:\tlearn: 0.0568396\ttotal: 320ms\tremaining: 401ms\n",
            "444:\tlearn: 0.0567309\ttotal: 321ms\tremaining: 400ms\n",
            "445:\tlearn: 0.0566357\ttotal: 322ms\tremaining: 400ms\n",
            "446:\tlearn: 0.0565361\ttotal: 322ms\tremaining: 399ms\n",
            "447:\tlearn: 0.0564812\ttotal: 323ms\tremaining: 398ms\n",
            "448:\tlearn: 0.0563950\ttotal: 324ms\tremaining: 397ms\n",
            "449:\tlearn: 0.0562559\ttotal: 324ms\tremaining: 396ms\n",
            "450:\tlearn: 0.0561648\ttotal: 325ms\tremaining: 396ms\n",
            "451:\tlearn: 0.0560799\ttotal: 326ms\tremaining: 395ms\n",
            "452:\tlearn: 0.0560078\ttotal: 326ms\tremaining: 394ms\n",
            "453:\tlearn: 0.0558950\ttotal: 327ms\tremaining: 393ms\n",
            "454:\tlearn: 0.0558562\ttotal: 328ms\tremaining: 392ms\n",
            "455:\tlearn: 0.0557747\ttotal: 328ms\tremaining: 392ms\n",
            "456:\tlearn: 0.0557163\ttotal: 329ms\tremaining: 391ms\n",
            "457:\tlearn: 0.0556393\ttotal: 330ms\tremaining: 390ms\n",
            "458:\tlearn: 0.0555329\ttotal: 330ms\tremaining: 389ms\n",
            "459:\tlearn: 0.0554642\ttotal: 331ms\tremaining: 389ms\n",
            "460:\tlearn: 0.0553280\ttotal: 332ms\tremaining: 388ms\n",
            "461:\tlearn: 0.0551707\ttotal: 332ms\tremaining: 387ms\n",
            "462:\tlearn: 0.0550595\ttotal: 333ms\tremaining: 386ms\n",
            "463:\tlearn: 0.0549336\ttotal: 334ms\tremaining: 386ms\n",
            "464:\tlearn: 0.0548051\ttotal: 334ms\tremaining: 385ms\n",
            "465:\tlearn: 0.0547239\ttotal: 335ms\tremaining: 384ms\n",
            "466:\tlearn: 0.0545930\ttotal: 336ms\tremaining: 383ms\n",
            "467:\tlearn: 0.0544916\ttotal: 336ms\tremaining: 383ms\n",
            "468:\tlearn: 0.0543370\ttotal: 337ms\tremaining: 382ms\n",
            "469:\tlearn: 0.0543110\ttotal: 338ms\tremaining: 381ms\n",
            "470:\tlearn: 0.0542088\ttotal: 339ms\tremaining: 380ms\n",
            "471:\tlearn: 0.0540681\ttotal: 339ms\tremaining: 379ms\n",
            "472:\tlearn: 0.0540109\ttotal: 340ms\tremaining: 379ms\n",
            "473:\tlearn: 0.0539225\ttotal: 341ms\tremaining: 378ms\n",
            "474:\tlearn: 0.0538074\ttotal: 341ms\tremaining: 377ms\n",
            "475:\tlearn: 0.0537216\ttotal: 342ms\tremaining: 376ms\n",
            "476:\tlearn: 0.0536161\ttotal: 343ms\tremaining: 376ms\n",
            "477:\tlearn: 0.0534692\ttotal: 343ms\tremaining: 375ms\n",
            "478:\tlearn: 0.0534273\ttotal: 344ms\tremaining: 374ms\n",
            "479:\tlearn: 0.0533535\ttotal: 345ms\tremaining: 374ms\n",
            "480:\tlearn: 0.0533005\ttotal: 346ms\tremaining: 373ms\n",
            "481:\tlearn: 0.0531774\ttotal: 346ms\tremaining: 372ms\n",
            "482:\tlearn: 0.0531104\ttotal: 347ms\tremaining: 371ms\n",
            "483:\tlearn: 0.0530178\ttotal: 348ms\tremaining: 371ms\n",
            "484:\tlearn: 0.0529213\ttotal: 348ms\tremaining: 370ms\n",
            "485:\tlearn: 0.0528656\ttotal: 349ms\tremaining: 369ms\n",
            "486:\tlearn: 0.0527527\ttotal: 350ms\tremaining: 368ms\n",
            "487:\tlearn: 0.0526411\ttotal: 350ms\tremaining: 368ms\n",
            "488:\tlearn: 0.0525753\ttotal: 351ms\tremaining: 367ms\n",
            "489:\tlearn: 0.0524740\ttotal: 352ms\tremaining: 366ms\n",
            "490:\tlearn: 0.0523910\ttotal: 353ms\tremaining: 366ms\n",
            "491:\tlearn: 0.0523344\ttotal: 353ms\tremaining: 365ms\n",
            "492:\tlearn: 0.0521978\ttotal: 354ms\tremaining: 364ms\n",
            "493:\tlearn: 0.0521639\ttotal: 355ms\tremaining: 363ms\n",
            "494:\tlearn: 0.0521043\ttotal: 356ms\tremaining: 363ms\n",
            "495:\tlearn: 0.0520400\ttotal: 356ms\tremaining: 362ms\n",
            "496:\tlearn: 0.0519445\ttotal: 357ms\tremaining: 361ms\n",
            "497:\tlearn: 0.0518241\ttotal: 358ms\tremaining: 361ms\n",
            "498:\tlearn: 0.0517807\ttotal: 359ms\tremaining: 360ms\n",
            "499:\tlearn: 0.0517073\ttotal: 359ms\tremaining: 359ms\n",
            "500:\tlearn: 0.0516523\ttotal: 360ms\tremaining: 359ms\n",
            "501:\tlearn: 0.0515598\ttotal: 361ms\tremaining: 358ms\n",
            "502:\tlearn: 0.0514722\ttotal: 362ms\tremaining: 358ms\n",
            "503:\tlearn: 0.0513476\ttotal: 366ms\tremaining: 361ms\n",
            "504:\tlearn: 0.0512387\ttotal: 368ms\tremaining: 360ms\n",
            "505:\tlearn: 0.0511816\ttotal: 369ms\tremaining: 360ms\n",
            "506:\tlearn: 0.0511574\ttotal: 370ms\tremaining: 359ms\n",
            "507:\tlearn: 0.0510625\ttotal: 370ms\tremaining: 359ms\n",
            "508:\tlearn: 0.0509376\ttotal: 371ms\tremaining: 358ms\n",
            "509:\tlearn: 0.0507957\ttotal: 372ms\tremaining: 357ms\n",
            "510:\tlearn: 0.0507461\ttotal: 373ms\tremaining: 357ms\n",
            "511:\tlearn: 0.0506315\ttotal: 373ms\tremaining: 356ms\n",
            "512:\tlearn: 0.0505036\ttotal: 374ms\tremaining: 355ms\n",
            "513:\tlearn: 0.0504725\ttotal: 375ms\tremaining: 355ms\n",
            "514:\tlearn: 0.0503762\ttotal: 376ms\tremaining: 354ms\n",
            "515:\tlearn: 0.0503194\ttotal: 377ms\tremaining: 353ms\n",
            "516:\tlearn: 0.0502041\ttotal: 377ms\tremaining: 353ms\n",
            "517:\tlearn: 0.0501606\ttotal: 378ms\tremaining: 352ms\n",
            "518:\tlearn: 0.0500664\ttotal: 379ms\tremaining: 351ms\n",
            "519:\tlearn: 0.0499774\ttotal: 379ms\tremaining: 350ms\n",
            "520:\tlearn: 0.0499078\ttotal: 380ms\tremaining: 349ms\n",
            "521:\tlearn: 0.0498188\ttotal: 381ms\tremaining: 349ms\n",
            "522:\tlearn: 0.0497827\ttotal: 381ms\tremaining: 348ms\n",
            "523:\tlearn: 0.0496668\ttotal: 382ms\tremaining: 347ms\n",
            "524:\tlearn: 0.0496055\ttotal: 383ms\tremaining: 346ms\n",
            "525:\tlearn: 0.0494445\ttotal: 384ms\tremaining: 346ms\n",
            "526:\tlearn: 0.0493242\ttotal: 384ms\tremaining: 345ms\n",
            "527:\tlearn: 0.0492465\ttotal: 385ms\tremaining: 344ms\n",
            "528:\tlearn: 0.0491459\ttotal: 386ms\tremaining: 343ms\n",
            "529:\tlearn: 0.0490053\ttotal: 386ms\tremaining: 343ms\n",
            "530:\tlearn: 0.0489503\ttotal: 387ms\tremaining: 342ms\n",
            "531:\tlearn: 0.0489194\ttotal: 388ms\tremaining: 341ms\n",
            "532:\tlearn: 0.0488014\ttotal: 388ms\tremaining: 340ms\n",
            "533:\tlearn: 0.0487150\ttotal: 389ms\tremaining: 340ms\n",
            "534:\tlearn: 0.0486649\ttotal: 390ms\tremaining: 339ms\n",
            "535:\tlearn: 0.0485854\ttotal: 391ms\tremaining: 338ms\n",
            "536:\tlearn: 0.0485225\ttotal: 391ms\tremaining: 337ms\n",
            "537:\tlearn: 0.0484699\ttotal: 392ms\tremaining: 337ms\n",
            "538:\tlearn: 0.0483880\ttotal: 393ms\tremaining: 336ms\n",
            "539:\tlearn: 0.0483216\ttotal: 393ms\tremaining: 335ms\n",
            "540:\tlearn: 0.0482860\ttotal: 394ms\tremaining: 334ms\n",
            "541:\tlearn: 0.0482488\ttotal: 395ms\tremaining: 333ms\n",
            "542:\tlearn: 0.0481369\ttotal: 395ms\tremaining: 333ms\n",
            "543:\tlearn: 0.0480531\ttotal: 396ms\tremaining: 332ms\n",
            "544:\tlearn: 0.0480220\ttotal: 396ms\tremaining: 331ms\n",
            "545:\tlearn: 0.0479762\ttotal: 397ms\tremaining: 330ms\n",
            "546:\tlearn: 0.0478510\ttotal: 398ms\tremaining: 329ms\n",
            "547:\tlearn: 0.0477777\ttotal: 398ms\tremaining: 329ms\n",
            "548:\tlearn: 0.0476699\ttotal: 399ms\tremaining: 328ms\n",
            "549:\tlearn: 0.0476236\ttotal: 400ms\tremaining: 327ms\n",
            "550:\tlearn: 0.0475804\ttotal: 400ms\tremaining: 326ms\n",
            "551:\tlearn: 0.0475371\ttotal: 401ms\tremaining: 325ms\n",
            "552:\tlearn: 0.0474565\ttotal: 402ms\tremaining: 325ms\n",
            "553:\tlearn: 0.0474187\ttotal: 402ms\tremaining: 324ms\n",
            "554:\tlearn: 0.0473471\ttotal: 403ms\tremaining: 323ms\n",
            "555:\tlearn: 0.0472921\ttotal: 404ms\tremaining: 322ms\n",
            "556:\tlearn: 0.0471944\ttotal: 404ms\tremaining: 322ms\n",
            "557:\tlearn: 0.0471351\ttotal: 405ms\tremaining: 321ms\n",
            "558:\tlearn: 0.0470851\ttotal: 406ms\tremaining: 320ms\n",
            "559:\tlearn: 0.0470079\ttotal: 407ms\tremaining: 319ms\n",
            "560:\tlearn: 0.0469789\ttotal: 407ms\tremaining: 319ms\n",
            "561:\tlearn: 0.0469174\ttotal: 408ms\tremaining: 318ms\n",
            "562:\tlearn: 0.0468309\ttotal: 409ms\tremaining: 317ms\n",
            "563:\tlearn: 0.0467684\ttotal: 409ms\tremaining: 316ms\n",
            "564:\tlearn: 0.0466813\ttotal: 410ms\tremaining: 316ms\n",
            "565:\tlearn: 0.0466271\ttotal: 411ms\tremaining: 315ms\n",
            "566:\tlearn: 0.0465856\ttotal: 411ms\tremaining: 314ms\n",
            "567:\tlearn: 0.0465116\ttotal: 412ms\tremaining: 313ms\n",
            "568:\tlearn: 0.0464409\ttotal: 414ms\tremaining: 314ms\n",
            "569:\tlearn: 0.0463459\ttotal: 415ms\tremaining: 313ms\n",
            "570:\tlearn: 0.0462571\ttotal: 416ms\tremaining: 312ms\n",
            "571:\tlearn: 0.0462169\ttotal: 417ms\tremaining: 312ms\n",
            "572:\tlearn: 0.0461652\ttotal: 417ms\tremaining: 311ms\n",
            "573:\tlearn: 0.0460096\ttotal: 418ms\tremaining: 310ms\n",
            "574:\tlearn: 0.0459211\ttotal: 419ms\tremaining: 309ms\n",
            "575:\tlearn: 0.0458804\ttotal: 419ms\tremaining: 309ms\n",
            "576:\tlearn: 0.0458205\ttotal: 420ms\tremaining: 308ms\n",
            "577:\tlearn: 0.0457295\ttotal: 421ms\tremaining: 307ms\n",
            "578:\tlearn: 0.0456219\ttotal: 421ms\tremaining: 306ms\n",
            "579:\tlearn: 0.0455835\ttotal: 422ms\tremaining: 306ms\n",
            "580:\tlearn: 0.0454808\ttotal: 423ms\tremaining: 305ms\n",
            "581:\tlearn: 0.0454279\ttotal: 423ms\tremaining: 304ms\n",
            "582:\tlearn: 0.0453860\ttotal: 424ms\tremaining: 303ms\n",
            "583:\tlearn: 0.0453066\ttotal: 425ms\tremaining: 302ms\n",
            "584:\tlearn: 0.0452556\ttotal: 425ms\tremaining: 302ms\n",
            "585:\tlearn: 0.0452096\ttotal: 426ms\tremaining: 301ms\n",
            "586:\tlearn: 0.0450856\ttotal: 427ms\tremaining: 300ms\n",
            "587:\tlearn: 0.0450199\ttotal: 427ms\tremaining: 299ms\n",
            "588:\tlearn: 0.0449735\ttotal: 428ms\tremaining: 299ms\n",
            "589:\tlearn: 0.0448996\ttotal: 429ms\tremaining: 298ms\n",
            "590:\tlearn: 0.0448400\ttotal: 430ms\tremaining: 297ms\n",
            "591:\tlearn: 0.0447888\ttotal: 430ms\tremaining: 296ms\n",
            "592:\tlearn: 0.0447135\ttotal: 431ms\tremaining: 296ms\n",
            "593:\tlearn: 0.0445684\ttotal: 432ms\tremaining: 295ms\n",
            "594:\tlearn: 0.0444912\ttotal: 432ms\tremaining: 294ms\n",
            "595:\tlearn: 0.0444704\ttotal: 433ms\tremaining: 293ms\n",
            "596:\tlearn: 0.0443666\ttotal: 434ms\tremaining: 293ms\n",
            "597:\tlearn: 0.0442560\ttotal: 434ms\tremaining: 292ms\n",
            "598:\tlearn: 0.0441594\ttotal: 435ms\tremaining: 291ms\n",
            "599:\tlearn: 0.0440540\ttotal: 436ms\tremaining: 290ms\n",
            "600:\tlearn: 0.0440068\ttotal: 436ms\tremaining: 290ms\n",
            "601:\tlearn: 0.0439930\ttotal: 437ms\tremaining: 289ms\n",
            "602:\tlearn: 0.0438941\ttotal: 437ms\tremaining: 288ms\n",
            "603:\tlearn: 0.0437703\ttotal: 438ms\tremaining: 287ms\n",
            "604:\tlearn: 0.0437337\ttotal: 439ms\tremaining: 287ms\n",
            "605:\tlearn: 0.0436876\ttotal: 440ms\tremaining: 286ms\n",
            "606:\tlearn: 0.0435947\ttotal: 440ms\tremaining: 285ms\n",
            "607:\tlearn: 0.0435182\ttotal: 441ms\tremaining: 284ms\n",
            "608:\tlearn: 0.0434665\ttotal: 442ms\tremaining: 284ms\n",
            "609:\tlearn: 0.0433767\ttotal: 442ms\tremaining: 283ms\n",
            "610:\tlearn: 0.0432578\ttotal: 443ms\tremaining: 282ms\n",
            "611:\tlearn: 0.0432118\ttotal: 444ms\tremaining: 281ms\n",
            "612:\tlearn: 0.0431400\ttotal: 445ms\tremaining: 281ms\n",
            "613:\tlearn: 0.0430568\ttotal: 445ms\tremaining: 280ms\n",
            "614:\tlearn: 0.0430441\ttotal: 446ms\tremaining: 279ms\n",
            "615:\tlearn: 0.0429765\ttotal: 447ms\tremaining: 279ms\n",
            "616:\tlearn: 0.0429119\ttotal: 448ms\tremaining: 278ms\n",
            "617:\tlearn: 0.0428320\ttotal: 448ms\tremaining: 277ms\n",
            "618:\tlearn: 0.0427983\ttotal: 449ms\tremaining: 276ms\n",
            "619:\tlearn: 0.0427478\ttotal: 450ms\tremaining: 276ms\n",
            "620:\tlearn: 0.0426829\ttotal: 450ms\tremaining: 275ms\n",
            "621:\tlearn: 0.0426390\ttotal: 453ms\tremaining: 276ms\n",
            "622:\tlearn: 0.0425439\ttotal: 454ms\tremaining: 275ms\n",
            "623:\tlearn: 0.0424732\ttotal: 455ms\tremaining: 274ms\n",
            "624:\tlearn: 0.0424096\ttotal: 456ms\tremaining: 273ms\n",
            "625:\tlearn: 0.0423917\ttotal: 456ms\tremaining: 272ms\n",
            "626:\tlearn: 0.0422699\ttotal: 457ms\tremaining: 272ms\n",
            "627:\tlearn: 0.0421673\ttotal: 457ms\tremaining: 271ms\n",
            "628:\tlearn: 0.0420961\ttotal: 458ms\tremaining: 270ms\n",
            "629:\tlearn: 0.0420585\ttotal: 459ms\tremaining: 269ms\n",
            "630:\tlearn: 0.0419718\ttotal: 459ms\tremaining: 269ms\n",
            "631:\tlearn: 0.0419028\ttotal: 460ms\tremaining: 268ms\n",
            "632:\tlearn: 0.0418242\ttotal: 461ms\tremaining: 267ms\n",
            "633:\tlearn: 0.0417008\ttotal: 461ms\tremaining: 266ms\n",
            "634:\tlearn: 0.0416792\ttotal: 462ms\tremaining: 266ms\n",
            "635:\tlearn: 0.0415924\ttotal: 463ms\tremaining: 265ms\n",
            "636:\tlearn: 0.0415368\ttotal: 463ms\tremaining: 264ms\n",
            "637:\tlearn: 0.0415064\ttotal: 464ms\tremaining: 263ms\n",
            "638:\tlearn: 0.0414231\ttotal: 465ms\tremaining: 263ms\n",
            "639:\tlearn: 0.0413789\ttotal: 466ms\tremaining: 262ms\n",
            "640:\tlearn: 0.0413447\ttotal: 466ms\tremaining: 261ms\n",
            "641:\tlearn: 0.0412408\ttotal: 467ms\tremaining: 260ms\n",
            "642:\tlearn: 0.0411458\ttotal: 468ms\tremaining: 260ms\n",
            "643:\tlearn: 0.0411126\ttotal: 468ms\tremaining: 259ms\n",
            "644:\tlearn: 0.0410371\ttotal: 469ms\tremaining: 258ms\n",
            "645:\tlearn: 0.0410045\ttotal: 470ms\tremaining: 257ms\n",
            "646:\tlearn: 0.0409369\ttotal: 470ms\tremaining: 257ms\n",
            "647:\tlearn: 0.0408981\ttotal: 471ms\tremaining: 256ms\n",
            "648:\tlearn: 0.0408452\ttotal: 472ms\tremaining: 255ms\n",
            "649:\tlearn: 0.0407784\ttotal: 472ms\tremaining: 254ms\n",
            "650:\tlearn: 0.0406720\ttotal: 473ms\tremaining: 254ms\n",
            "651:\tlearn: 0.0406110\ttotal: 474ms\tremaining: 253ms\n",
            "652:\tlearn: 0.0405191\ttotal: 475ms\tremaining: 252ms\n",
            "653:\tlearn: 0.0404625\ttotal: 475ms\tremaining: 251ms\n",
            "654:\tlearn: 0.0404243\ttotal: 476ms\tremaining: 251ms\n",
            "655:\tlearn: 0.0403876\ttotal: 477ms\tremaining: 250ms\n",
            "656:\tlearn: 0.0403223\ttotal: 477ms\tremaining: 249ms\n",
            "657:\tlearn: 0.0402416\ttotal: 478ms\tremaining: 248ms\n",
            "658:\tlearn: 0.0401978\ttotal: 479ms\tremaining: 248ms\n",
            "659:\tlearn: 0.0401139\ttotal: 479ms\tremaining: 247ms\n",
            "660:\tlearn: 0.0400309\ttotal: 480ms\tremaining: 246ms\n",
            "661:\tlearn: 0.0399864\ttotal: 481ms\tremaining: 245ms\n",
            "662:\tlearn: 0.0399013\ttotal: 481ms\tremaining: 245ms\n",
            "663:\tlearn: 0.0398187\ttotal: 482ms\tremaining: 244ms\n",
            "664:\tlearn: 0.0398016\ttotal: 483ms\tremaining: 243ms\n",
            "665:\tlearn: 0.0397554\ttotal: 483ms\tremaining: 242ms\n",
            "666:\tlearn: 0.0396699\ttotal: 484ms\tremaining: 242ms\n",
            "667:\tlearn: 0.0395929\ttotal: 485ms\tremaining: 241ms\n",
            "668:\tlearn: 0.0395522\ttotal: 486ms\tremaining: 240ms\n",
            "669:\tlearn: 0.0394674\ttotal: 486ms\tremaining: 240ms\n",
            "670:\tlearn: 0.0393992\ttotal: 487ms\tremaining: 239ms\n",
            "671:\tlearn: 0.0393061\ttotal: 488ms\tremaining: 238ms\n",
            "672:\tlearn: 0.0392251\ttotal: 488ms\tremaining: 237ms\n",
            "673:\tlearn: 0.0391527\ttotal: 489ms\tremaining: 237ms\n",
            "674:\tlearn: 0.0390848\ttotal: 491ms\tremaining: 236ms\n",
            "675:\tlearn: 0.0390489\ttotal: 492ms\tremaining: 236ms\n",
            "676:\tlearn: 0.0390323\ttotal: 492ms\tremaining: 235ms\n",
            "677:\tlearn: 0.0389717\ttotal: 493ms\tremaining: 234ms\n",
            "678:\tlearn: 0.0389299\ttotal: 494ms\tremaining: 233ms\n",
            "679:\tlearn: 0.0388510\ttotal: 494ms\tremaining: 233ms\n",
            "680:\tlearn: 0.0387845\ttotal: 495ms\tremaining: 232ms\n",
            "681:\tlearn: 0.0387251\ttotal: 496ms\tremaining: 231ms\n",
            "682:\tlearn: 0.0386654\ttotal: 496ms\tremaining: 230ms\n",
            "683:\tlearn: 0.0386526\ttotal: 497ms\tremaining: 230ms\n",
            "684:\tlearn: 0.0385707\ttotal: 498ms\tremaining: 229ms\n",
            "685:\tlearn: 0.0385461\ttotal: 498ms\tremaining: 228ms\n",
            "686:\tlearn: 0.0384797\ttotal: 499ms\tremaining: 227ms\n",
            "687:\tlearn: 0.0383945\ttotal: 499ms\tremaining: 227ms\n",
            "688:\tlearn: 0.0383575\ttotal: 500ms\tremaining: 226ms\n",
            "689:\tlearn: 0.0383126\ttotal: 501ms\tremaining: 225ms\n",
            "690:\tlearn: 0.0382879\ttotal: 502ms\tremaining: 224ms\n",
            "691:\tlearn: 0.0382756\ttotal: 502ms\tremaining: 224ms\n",
            "692:\tlearn: 0.0381886\ttotal: 503ms\tremaining: 223ms\n",
            "693:\tlearn: 0.0381299\ttotal: 504ms\tremaining: 222ms\n",
            "694:\tlearn: 0.0380554\ttotal: 504ms\tremaining: 221ms\n",
            "695:\tlearn: 0.0379532\ttotal: 505ms\tremaining: 221ms\n",
            "696:\tlearn: 0.0379013\ttotal: 506ms\tremaining: 220ms\n",
            "697:\tlearn: 0.0378284\ttotal: 506ms\tremaining: 219ms\n",
            "698:\tlearn: 0.0377899\ttotal: 507ms\tremaining: 218ms\n",
            "699:\tlearn: 0.0377397\ttotal: 508ms\tremaining: 218ms\n",
            "700:\tlearn: 0.0376994\ttotal: 508ms\tremaining: 217ms\n",
            "701:\tlearn: 0.0376296\ttotal: 509ms\tremaining: 216ms\n",
            "702:\tlearn: 0.0375485\ttotal: 510ms\tremaining: 215ms\n",
            "703:\tlearn: 0.0374767\ttotal: 511ms\tremaining: 215ms\n",
            "704:\tlearn: 0.0374132\ttotal: 511ms\tremaining: 214ms\n",
            "705:\tlearn: 0.0373823\ttotal: 512ms\tremaining: 213ms\n",
            "706:\tlearn: 0.0373339\ttotal: 513ms\tremaining: 212ms\n",
            "707:\tlearn: 0.0372506\ttotal: 513ms\tremaining: 212ms\n",
            "708:\tlearn: 0.0371858\ttotal: 514ms\tremaining: 211ms\n",
            "709:\tlearn: 0.0371548\ttotal: 515ms\tremaining: 210ms\n",
            "710:\tlearn: 0.0370416\ttotal: 515ms\tremaining: 209ms\n",
            "711:\tlearn: 0.0369523\ttotal: 516ms\tremaining: 209ms\n",
            "712:\tlearn: 0.0368731\ttotal: 517ms\tremaining: 208ms\n",
            "713:\tlearn: 0.0368301\ttotal: 517ms\tremaining: 207ms\n",
            "714:\tlearn: 0.0367385\ttotal: 518ms\tremaining: 206ms\n",
            "715:\tlearn: 0.0367065\ttotal: 519ms\tremaining: 206ms\n",
            "716:\tlearn: 0.0366545\ttotal: 519ms\tremaining: 205ms\n",
            "717:\tlearn: 0.0365962\ttotal: 520ms\tremaining: 204ms\n",
            "718:\tlearn: 0.0365472\ttotal: 521ms\tremaining: 204ms\n",
            "719:\tlearn: 0.0364437\ttotal: 521ms\tremaining: 203ms\n",
            "720:\tlearn: 0.0364014\ttotal: 522ms\tremaining: 202ms\n",
            "721:\tlearn: 0.0363339\ttotal: 523ms\tremaining: 201ms\n",
            "722:\tlearn: 0.0363138\ttotal: 524ms\tremaining: 201ms\n",
            "723:\tlearn: 0.0362489\ttotal: 524ms\tremaining: 200ms\n",
            "724:\tlearn: 0.0362024\ttotal: 525ms\tremaining: 199ms\n",
            "725:\tlearn: 0.0361269\ttotal: 526ms\tremaining: 198ms\n",
            "726:\tlearn: 0.0360295\ttotal: 526ms\tremaining: 198ms\n",
            "727:\tlearn: 0.0360075\ttotal: 527ms\tremaining: 197ms\n",
            "728:\tlearn: 0.0359968\ttotal: 528ms\tremaining: 196ms\n",
            "729:\tlearn: 0.0359014\ttotal: 528ms\tremaining: 195ms\n",
            "730:\tlearn: 0.0358568\ttotal: 529ms\tremaining: 195ms\n",
            "731:\tlearn: 0.0358109\ttotal: 530ms\tremaining: 194ms\n",
            "732:\tlearn: 0.0357304\ttotal: 530ms\tremaining: 193ms\n",
            "733:\tlearn: 0.0356521\ttotal: 531ms\tremaining: 192ms\n",
            "734:\tlearn: 0.0355787\ttotal: 532ms\tremaining: 192ms\n",
            "735:\tlearn: 0.0355429\ttotal: 532ms\tremaining: 191ms\n",
            "736:\tlearn: 0.0354606\ttotal: 533ms\tremaining: 190ms\n",
            "737:\tlearn: 0.0354488\ttotal: 534ms\tremaining: 189ms\n",
            "738:\tlearn: 0.0353676\ttotal: 534ms\tremaining: 189ms\n",
            "739:\tlearn: 0.0353154\ttotal: 535ms\tremaining: 188ms\n",
            "740:\tlearn: 0.0352630\ttotal: 536ms\tremaining: 187ms\n",
            "741:\tlearn: 0.0351867\ttotal: 536ms\tremaining: 186ms\n",
            "742:\tlearn: 0.0351704\ttotal: 537ms\tremaining: 186ms\n",
            "743:\tlearn: 0.0351313\ttotal: 538ms\tremaining: 185ms\n",
            "744:\tlearn: 0.0350927\ttotal: 540ms\tremaining: 185ms\n",
            "745:\tlearn: 0.0350738\ttotal: 541ms\tremaining: 184ms\n",
            "746:\tlearn: 0.0350299\ttotal: 543ms\tremaining: 184ms\n",
            "747:\tlearn: 0.0349556\ttotal: 544ms\tremaining: 183ms\n",
            "748:\tlearn: 0.0349385\ttotal: 545ms\tremaining: 183ms\n",
            "749:\tlearn: 0.0348868\ttotal: 547ms\tremaining: 182ms\n",
            "750:\tlearn: 0.0348129\ttotal: 548ms\tremaining: 182ms\n",
            "751:\tlearn: 0.0347978\ttotal: 549ms\tremaining: 181ms\n",
            "752:\tlearn: 0.0347395\ttotal: 550ms\tremaining: 180ms\n",
            "753:\tlearn: 0.0346499\ttotal: 551ms\tremaining: 180ms\n",
            "754:\tlearn: 0.0345762\ttotal: 551ms\tremaining: 179ms\n",
            "755:\tlearn: 0.0345235\ttotal: 552ms\tremaining: 178ms\n",
            "756:\tlearn: 0.0344499\ttotal: 553ms\tremaining: 177ms\n",
            "757:\tlearn: 0.0344214\ttotal: 553ms\tremaining: 177ms\n",
            "758:\tlearn: 0.0343552\ttotal: 554ms\tremaining: 176ms\n",
            "759:\tlearn: 0.0342662\ttotal: 555ms\tremaining: 175ms\n",
            "760:\tlearn: 0.0341918\ttotal: 556ms\tremaining: 174ms\n",
            "761:\tlearn: 0.0341796\ttotal: 556ms\tremaining: 174ms\n",
            "762:\tlearn: 0.0341340\ttotal: 557ms\tremaining: 173ms\n",
            "763:\tlearn: 0.0340649\ttotal: 557ms\tremaining: 172ms\n",
            "764:\tlearn: 0.0339914\ttotal: 558ms\tremaining: 171ms\n",
            "765:\tlearn: 0.0339463\ttotal: 559ms\tremaining: 171ms\n",
            "766:\tlearn: 0.0338815\ttotal: 559ms\tremaining: 170ms\n",
            "767:\tlearn: 0.0337902\ttotal: 560ms\tremaining: 169ms\n",
            "768:\tlearn: 0.0337564\ttotal: 561ms\tremaining: 168ms\n",
            "769:\tlearn: 0.0336906\ttotal: 562ms\tremaining: 168ms\n",
            "770:\tlearn: 0.0336698\ttotal: 562ms\tremaining: 167ms\n",
            "771:\tlearn: 0.0335999\ttotal: 563ms\tremaining: 166ms\n",
            "772:\tlearn: 0.0335313\ttotal: 564ms\tremaining: 166ms\n",
            "773:\tlearn: 0.0334610\ttotal: 564ms\tremaining: 165ms\n",
            "774:\tlearn: 0.0334414\ttotal: 565ms\tremaining: 164ms\n",
            "775:\tlearn: 0.0334032\ttotal: 566ms\tremaining: 163ms\n",
            "776:\tlearn: 0.0333418\ttotal: 566ms\tremaining: 163ms\n",
            "777:\tlearn: 0.0332775\ttotal: 567ms\tremaining: 162ms\n",
            "778:\tlearn: 0.0332604\ttotal: 568ms\tremaining: 161ms\n",
            "779:\tlearn: 0.0331946\ttotal: 568ms\tremaining: 160ms\n",
            "780:\tlearn: 0.0331525\ttotal: 569ms\tremaining: 160ms\n",
            "781:\tlearn: 0.0331035\ttotal: 570ms\tremaining: 159ms\n",
            "782:\tlearn: 0.0330614\ttotal: 570ms\tremaining: 158ms\n",
            "783:\tlearn: 0.0330356\ttotal: 571ms\tremaining: 157ms\n",
            "784:\tlearn: 0.0330009\ttotal: 572ms\tremaining: 157ms\n",
            "785:\tlearn: 0.0329364\ttotal: 572ms\tremaining: 156ms\n",
            "786:\tlearn: 0.0328818\ttotal: 573ms\tremaining: 155ms\n",
            "787:\tlearn: 0.0328505\ttotal: 574ms\tremaining: 154ms\n",
            "788:\tlearn: 0.0327888\ttotal: 574ms\tremaining: 154ms\n",
            "789:\tlearn: 0.0327451\ttotal: 575ms\tremaining: 153ms\n",
            "790:\tlearn: 0.0327162\ttotal: 576ms\tremaining: 152ms\n",
            "791:\tlearn: 0.0326788\ttotal: 577ms\tremaining: 151ms\n",
            "792:\tlearn: 0.0326429\ttotal: 577ms\tremaining: 151ms\n",
            "793:\tlearn: 0.0326351\ttotal: 578ms\tremaining: 150ms\n",
            "794:\tlearn: 0.0325660\ttotal: 579ms\tremaining: 149ms\n",
            "795:\tlearn: 0.0325194\ttotal: 579ms\tremaining: 148ms\n",
            "796:\tlearn: 0.0324996\ttotal: 580ms\tremaining: 148ms\n",
            "797:\tlearn: 0.0324321\ttotal: 581ms\tremaining: 147ms\n",
            "798:\tlearn: 0.0324031\ttotal: 581ms\tremaining: 146ms\n",
            "799:\tlearn: 0.0323419\ttotal: 582ms\tremaining: 146ms\n",
            "800:\tlearn: 0.0322525\ttotal: 583ms\tremaining: 145ms\n",
            "801:\tlearn: 0.0321941\ttotal: 583ms\tremaining: 144ms\n",
            "802:\tlearn: 0.0321169\ttotal: 584ms\tremaining: 143ms\n",
            "803:\tlearn: 0.0320664\ttotal: 585ms\tremaining: 143ms\n",
            "804:\tlearn: 0.0320322\ttotal: 585ms\tremaining: 142ms\n",
            "805:\tlearn: 0.0319853\ttotal: 586ms\tremaining: 141ms\n",
            "806:\tlearn: 0.0319362\ttotal: 587ms\tremaining: 140ms\n",
            "807:\tlearn: 0.0318987\ttotal: 588ms\tremaining: 140ms\n",
            "808:\tlearn: 0.0318548\ttotal: 588ms\tremaining: 139ms\n",
            "809:\tlearn: 0.0317934\ttotal: 589ms\tremaining: 138ms\n",
            "810:\tlearn: 0.0317307\ttotal: 590ms\tremaining: 137ms\n",
            "811:\tlearn: 0.0316901\ttotal: 590ms\tremaining: 137ms\n",
            "812:\tlearn: 0.0316220\ttotal: 591ms\tremaining: 136ms\n",
            "813:\tlearn: 0.0316052\ttotal: 592ms\tremaining: 135ms\n",
            "814:\tlearn: 0.0315746\ttotal: 592ms\tremaining: 134ms\n",
            "815:\tlearn: 0.0315088\ttotal: 593ms\tremaining: 134ms\n",
            "816:\tlearn: 0.0314779\ttotal: 594ms\tremaining: 133ms\n",
            "817:\tlearn: 0.0314346\ttotal: 595ms\tremaining: 132ms\n",
            "818:\tlearn: 0.0314111\ttotal: 595ms\tremaining: 132ms\n",
            "819:\tlearn: 0.0313526\ttotal: 596ms\tremaining: 131ms\n",
            "820:\tlearn: 0.0312895\ttotal: 597ms\tremaining: 130ms\n",
            "821:\tlearn: 0.0312673\ttotal: 597ms\tremaining: 129ms\n",
            "822:\tlearn: 0.0311974\ttotal: 598ms\tremaining: 129ms\n",
            "823:\tlearn: 0.0311410\ttotal: 599ms\tremaining: 128ms\n",
            "824:\tlearn: 0.0310830\ttotal: 599ms\tremaining: 127ms\n",
            "825:\tlearn: 0.0310545\ttotal: 600ms\tremaining: 126ms\n",
            "826:\tlearn: 0.0310264\ttotal: 601ms\tremaining: 126ms\n",
            "827:\tlearn: 0.0309983\ttotal: 601ms\tremaining: 125ms\n",
            "828:\tlearn: 0.0309346\ttotal: 602ms\tremaining: 124ms\n",
            "829:\tlearn: 0.0308797\ttotal: 603ms\tremaining: 123ms\n",
            "830:\tlearn: 0.0307939\ttotal: 603ms\tremaining: 123ms\n",
            "831:\tlearn: 0.0307668\ttotal: 604ms\tremaining: 122ms\n",
            "832:\tlearn: 0.0307352\ttotal: 605ms\tremaining: 121ms\n",
            "833:\tlearn: 0.0307134\ttotal: 605ms\tremaining: 120ms\n",
            "834:\tlearn: 0.0306586\ttotal: 606ms\tremaining: 120ms\n",
            "835:\tlearn: 0.0306043\ttotal: 607ms\tremaining: 119ms\n",
            "836:\tlearn: 0.0305534\ttotal: 607ms\tremaining: 118ms\n",
            "837:\tlearn: 0.0305219\ttotal: 608ms\tremaining: 118ms\n",
            "838:\tlearn: 0.0305072\ttotal: 609ms\tremaining: 117ms\n",
            "839:\tlearn: 0.0304409\ttotal: 610ms\tremaining: 116ms\n",
            "840:\tlearn: 0.0303773\ttotal: 610ms\tremaining: 115ms\n",
            "841:\tlearn: 0.0303483\ttotal: 611ms\tremaining: 115ms\n",
            "842:\tlearn: 0.0302892\ttotal: 612ms\tremaining: 114ms\n",
            "843:\tlearn: 0.0302232\ttotal: 612ms\tremaining: 113ms\n",
            "844:\tlearn: 0.0301691\ttotal: 613ms\tremaining: 112ms\n",
            "845:\tlearn: 0.0301236\ttotal: 614ms\tremaining: 112ms\n",
            "846:\tlearn: 0.0300808\ttotal: 615ms\tremaining: 111ms\n",
            "847:\tlearn: 0.0300426\ttotal: 615ms\tremaining: 110ms\n",
            "848:\tlearn: 0.0299994\ttotal: 616ms\tremaining: 110ms\n",
            "849:\tlearn: 0.0299536\ttotal: 617ms\tremaining: 109ms\n",
            "850:\tlearn: 0.0299299\ttotal: 617ms\tremaining: 108ms\n",
            "851:\tlearn: 0.0299001\ttotal: 618ms\tremaining: 107ms\n",
            "852:\tlearn: 0.0298510\ttotal: 619ms\tremaining: 107ms\n",
            "853:\tlearn: 0.0298169\ttotal: 619ms\tremaining: 106ms\n",
            "854:\tlearn: 0.0297667\ttotal: 620ms\tremaining: 105ms\n",
            "855:\tlearn: 0.0297236\ttotal: 621ms\tremaining: 104ms\n",
            "856:\tlearn: 0.0296904\ttotal: 621ms\tremaining: 104ms\n",
            "857:\tlearn: 0.0296304\ttotal: 622ms\tremaining: 103ms\n",
            "858:\tlearn: 0.0295937\ttotal: 623ms\tremaining: 102ms\n",
            "859:\tlearn: 0.0295596\ttotal: 624ms\tremaining: 102ms\n",
            "860:\tlearn: 0.0295087\ttotal: 624ms\tremaining: 101ms\n",
            "861:\tlearn: 0.0294367\ttotal: 625ms\tremaining: 100ms\n",
            "862:\tlearn: 0.0294165\ttotal: 626ms\tremaining: 99.3ms\n",
            "863:\tlearn: 0.0293805\ttotal: 626ms\tremaining: 98.6ms\n",
            "864:\tlearn: 0.0293645\ttotal: 627ms\tremaining: 97.8ms\n",
            "865:\tlearn: 0.0293146\ttotal: 628ms\tremaining: 97.1ms\n",
            "866:\tlearn: 0.0292708\ttotal: 628ms\tremaining: 96.4ms\n",
            "867:\tlearn: 0.0291943\ttotal: 629ms\tremaining: 95.7ms\n",
            "868:\tlearn: 0.0291359\ttotal: 630ms\tremaining: 94.9ms\n",
            "869:\tlearn: 0.0291217\ttotal: 630ms\tremaining: 94.2ms\n",
            "870:\tlearn: 0.0290662\ttotal: 631ms\tremaining: 93.5ms\n",
            "871:\tlearn: 0.0290065\ttotal: 632ms\tremaining: 92.7ms\n",
            "872:\tlearn: 0.0289466\ttotal: 632ms\tremaining: 92ms\n",
            "873:\tlearn: 0.0288971\ttotal: 633ms\tremaining: 91.3ms\n",
            "874:\tlearn: 0.0288721\ttotal: 634ms\tremaining: 90.5ms\n",
            "875:\tlearn: 0.0288285\ttotal: 635ms\tremaining: 89.8ms\n",
            "876:\tlearn: 0.0287914\ttotal: 635ms\tremaining: 89.1ms\n",
            "877:\tlearn: 0.0287679\ttotal: 636ms\tremaining: 88.4ms\n",
            "878:\tlearn: 0.0287253\ttotal: 637ms\tremaining: 87.6ms\n",
            "879:\tlearn: 0.0286722\ttotal: 637ms\tremaining: 86.9ms\n",
            "880:\tlearn: 0.0286172\ttotal: 638ms\tremaining: 86.2ms\n",
            "881:\tlearn: 0.0285861\ttotal: 639ms\tremaining: 85.4ms\n",
            "882:\tlearn: 0.0285535\ttotal: 639ms\tremaining: 84.7ms\n",
            "883:\tlearn: 0.0285069\ttotal: 640ms\tremaining: 84ms\n",
            "884:\tlearn: 0.0284567\ttotal: 641ms\tremaining: 83.3ms\n",
            "885:\tlearn: 0.0283990\ttotal: 641ms\tremaining: 82.5ms\n",
            "886:\tlearn: 0.0283618\ttotal: 642ms\tremaining: 81.8ms\n",
            "887:\tlearn: 0.0283403\ttotal: 643ms\tremaining: 81.1ms\n",
            "888:\tlearn: 0.0282908\ttotal: 644ms\tremaining: 80.4ms\n",
            "889:\tlearn: 0.0282697\ttotal: 644ms\tremaining: 79.6ms\n",
            "890:\tlearn: 0.0282303\ttotal: 645ms\tremaining: 78.9ms\n",
            "891:\tlearn: 0.0281934\ttotal: 646ms\tremaining: 78.2ms\n",
            "892:\tlearn: 0.0281674\ttotal: 646ms\tremaining: 77.4ms\n",
            "893:\tlearn: 0.0281335\ttotal: 647ms\tremaining: 76.7ms\n",
            "894:\tlearn: 0.0280715\ttotal: 648ms\tremaining: 76ms\n",
            "895:\tlearn: 0.0280600\ttotal: 648ms\tremaining: 75.3ms\n",
            "896:\tlearn: 0.0280255\ttotal: 649ms\tremaining: 74.5ms\n",
            "897:\tlearn: 0.0279896\ttotal: 650ms\tremaining: 73.8ms\n",
            "898:\tlearn: 0.0279353\ttotal: 651ms\tremaining: 73.1ms\n",
            "899:\tlearn: 0.0278646\ttotal: 651ms\tremaining: 72.4ms\n",
            "900:\tlearn: 0.0278339\ttotal: 652ms\tremaining: 71.6ms\n",
            "901:\tlearn: 0.0277767\ttotal: 653ms\tremaining: 70.9ms\n",
            "902:\tlearn: 0.0277531\ttotal: 653ms\tremaining: 70.2ms\n",
            "903:\tlearn: 0.0276986\ttotal: 654ms\tremaining: 69.5ms\n",
            "904:\tlearn: 0.0276473\ttotal: 655ms\tremaining: 68.7ms\n",
            "905:\tlearn: 0.0276272\ttotal: 655ms\tremaining: 68ms\n",
            "906:\tlearn: 0.0275854\ttotal: 656ms\tremaining: 67.3ms\n",
            "907:\tlearn: 0.0275452\ttotal: 657ms\tremaining: 66.5ms\n",
            "908:\tlearn: 0.0275131\ttotal: 657ms\tremaining: 65.8ms\n",
            "909:\tlearn: 0.0274670\ttotal: 658ms\tremaining: 65.1ms\n",
            "910:\tlearn: 0.0274281\ttotal: 659ms\tremaining: 64.4ms\n",
            "911:\tlearn: 0.0273981\ttotal: 660ms\tremaining: 63.6ms\n",
            "912:\tlearn: 0.0273439\ttotal: 660ms\tremaining: 62.9ms\n",
            "913:\tlearn: 0.0272743\ttotal: 661ms\tremaining: 62.2ms\n",
            "914:\tlearn: 0.0272306\ttotal: 662ms\tremaining: 61.5ms\n",
            "915:\tlearn: 0.0271851\ttotal: 662ms\tremaining: 60.7ms\n",
            "916:\tlearn: 0.0271341\ttotal: 663ms\tremaining: 60ms\n",
            "917:\tlearn: 0.0270772\ttotal: 664ms\tremaining: 59.3ms\n",
            "918:\tlearn: 0.0270683\ttotal: 664ms\tremaining: 58.6ms\n",
            "919:\tlearn: 0.0270351\ttotal: 665ms\tremaining: 57.8ms\n",
            "920:\tlearn: 0.0270341\ttotal: 666ms\tremaining: 57.1ms\n",
            "921:\tlearn: 0.0270030\ttotal: 666ms\tremaining: 56.4ms\n",
            "922:\tlearn: 0.0269463\ttotal: 667ms\tremaining: 55.6ms\n",
            "923:\tlearn: 0.0269262\ttotal: 668ms\tremaining: 54.9ms\n",
            "924:\tlearn: 0.0268720\ttotal: 668ms\tremaining: 54.2ms\n",
            "925:\tlearn: 0.0268261\ttotal: 669ms\tremaining: 53.5ms\n",
            "926:\tlearn: 0.0267790\ttotal: 670ms\tremaining: 52.7ms\n",
            "927:\tlearn: 0.0267583\ttotal: 670ms\tremaining: 52ms\n",
            "928:\tlearn: 0.0267290\ttotal: 671ms\tremaining: 51.3ms\n",
            "929:\tlearn: 0.0267103\ttotal: 672ms\tremaining: 50.5ms\n",
            "930:\tlearn: 0.0266733\ttotal: 672ms\tremaining: 49.8ms\n",
            "931:\tlearn: 0.0266230\ttotal: 673ms\tremaining: 49.1ms\n",
            "932:\tlearn: 0.0265487\ttotal: 674ms\tremaining: 48.4ms\n",
            "933:\tlearn: 0.0265368\ttotal: 674ms\tremaining: 47.6ms\n",
            "934:\tlearn: 0.0264877\ttotal: 675ms\tremaining: 46.9ms\n",
            "935:\tlearn: 0.0264702\ttotal: 676ms\tremaining: 46.2ms\n",
            "936:\tlearn: 0.0264337\ttotal: 676ms\tremaining: 45.5ms\n",
            "937:\tlearn: 0.0263869\ttotal: 677ms\tremaining: 44.7ms\n",
            "938:\tlearn: 0.0263473\ttotal: 679ms\tremaining: 44.1ms\n",
            "939:\tlearn: 0.0263287\ttotal: 681ms\tremaining: 43.5ms\n",
            "940:\tlearn: 0.0263227\ttotal: 682ms\tremaining: 42.8ms\n",
            "941:\tlearn: 0.0262723\ttotal: 683ms\tremaining: 42ms\n",
            "942:\tlearn: 0.0262549\ttotal: 683ms\tremaining: 41.3ms\n",
            "943:\tlearn: 0.0262046\ttotal: 684ms\tremaining: 40.6ms\n",
            "944:\tlearn: 0.0261561\ttotal: 685ms\tremaining: 39.9ms\n",
            "945:\tlearn: 0.0261361\ttotal: 686ms\tremaining: 39.1ms\n",
            "946:\tlearn: 0.0260912\ttotal: 686ms\tremaining: 38.4ms\n",
            "947:\tlearn: 0.0260407\ttotal: 687ms\tremaining: 37.7ms\n",
            "948:\tlearn: 0.0259981\ttotal: 688ms\tremaining: 37ms\n",
            "949:\tlearn: 0.0259676\ttotal: 688ms\tremaining: 36.2ms\n",
            "950:\tlearn: 0.0259573\ttotal: 689ms\tremaining: 35.5ms\n",
            "951:\tlearn: 0.0259215\ttotal: 690ms\tremaining: 34.8ms\n",
            "952:\tlearn: 0.0258735\ttotal: 691ms\tremaining: 34.1ms\n",
            "953:\tlearn: 0.0258279\ttotal: 691ms\tremaining: 33.3ms\n",
            "954:\tlearn: 0.0258132\ttotal: 692ms\tremaining: 32.6ms\n",
            "955:\tlearn: 0.0257702\ttotal: 693ms\tremaining: 31.9ms\n",
            "956:\tlearn: 0.0257250\ttotal: 693ms\tremaining: 31.2ms\n",
            "957:\tlearn: 0.0256983\ttotal: 694ms\tremaining: 30.4ms\n",
            "958:\tlearn: 0.0256787\ttotal: 695ms\tremaining: 29.7ms\n",
            "959:\tlearn: 0.0256229\ttotal: 695ms\tremaining: 29ms\n",
            "960:\tlearn: 0.0255769\ttotal: 696ms\tremaining: 28.3ms\n",
            "961:\tlearn: 0.0255268\ttotal: 697ms\tremaining: 27.5ms\n",
            "962:\tlearn: 0.0254713\ttotal: 698ms\tremaining: 26.8ms\n",
            "963:\tlearn: 0.0254234\ttotal: 698ms\tremaining: 26.1ms\n",
            "964:\tlearn: 0.0253867\ttotal: 699ms\tremaining: 25.4ms\n",
            "965:\tlearn: 0.0253340\ttotal: 700ms\tremaining: 24.6ms\n",
            "966:\tlearn: 0.0253018\ttotal: 700ms\tremaining: 23.9ms\n",
            "967:\tlearn: 0.0252663\ttotal: 701ms\tremaining: 23.2ms\n",
            "968:\tlearn: 0.0252263\ttotal: 702ms\tremaining: 22.5ms\n",
            "969:\tlearn: 0.0251701\ttotal: 702ms\tremaining: 21.7ms\n",
            "970:\tlearn: 0.0251227\ttotal: 703ms\tremaining: 21ms\n",
            "971:\tlearn: 0.0250721\ttotal: 704ms\tremaining: 20.3ms\n",
            "972:\tlearn: 0.0250312\ttotal: 705ms\tremaining: 19.6ms\n",
            "973:\tlearn: 0.0250121\ttotal: 705ms\tremaining: 18.8ms\n",
            "974:\tlearn: 0.0249730\ttotal: 706ms\tremaining: 18.1ms\n",
            "975:\tlearn: 0.0249105\ttotal: 707ms\tremaining: 17.4ms\n",
            "976:\tlearn: 0.0248667\ttotal: 707ms\tremaining: 16.7ms\n",
            "977:\tlearn: 0.0248239\ttotal: 708ms\tremaining: 15.9ms\n",
            "978:\tlearn: 0.0247651\ttotal: 709ms\tremaining: 15.2ms\n",
            "979:\tlearn: 0.0247277\ttotal: 710ms\tremaining: 14.5ms\n",
            "980:\tlearn: 0.0246815\ttotal: 710ms\tremaining: 13.8ms\n",
            "981:\tlearn: 0.0246607\ttotal: 711ms\tremaining: 13ms\n",
            "982:\tlearn: 0.0246213\ttotal: 712ms\tremaining: 12.3ms\n",
            "983:\tlearn: 0.0245847\ttotal: 712ms\tremaining: 11.6ms\n",
            "984:\tlearn: 0.0245620\ttotal: 713ms\tremaining: 10.9ms\n",
            "985:\tlearn: 0.0245283\ttotal: 714ms\tremaining: 10.1ms\n",
            "986:\tlearn: 0.0245106\ttotal: 714ms\tremaining: 9.41ms\n",
            "987:\tlearn: 0.0244928\ttotal: 715ms\tremaining: 8.69ms\n",
            "988:\tlearn: 0.0244614\ttotal: 716ms\tremaining: 7.96ms\n",
            "989:\tlearn: 0.0244303\ttotal: 716ms\tremaining: 7.24ms\n",
            "990:\tlearn: 0.0243887\ttotal: 717ms\tremaining: 6.51ms\n",
            "991:\tlearn: 0.0243533\ttotal: 718ms\tremaining: 5.79ms\n",
            "992:\tlearn: 0.0243087\ttotal: 719ms\tremaining: 5.07ms\n",
            "993:\tlearn: 0.0242461\ttotal: 719ms\tremaining: 4.34ms\n",
            "994:\tlearn: 0.0241985\ttotal: 720ms\tremaining: 3.62ms\n",
            "995:\tlearn: 0.0241666\ttotal: 721ms\tremaining: 2.9ms\n",
            "996:\tlearn: 0.0241314\ttotal: 722ms\tremaining: 2.17ms\n",
            "997:\tlearn: 0.0240929\ttotal: 722ms\tremaining: 1.45ms\n",
            "998:\tlearn: 0.0240543\ttotal: 723ms\tremaining: 723us\n",
            "999:\tlearn: 0.0240000\ttotal: 724ms\tremaining: 0us\n",
            "CatBoost Classifer Accuracy: 94.78%\n"
          ]
        }
      ]
    },
    {
      "cell_type": "code",
      "source": [
        "# Training and calcuating accuracy for ANN model\n",
        "import tensorflow as tf\n",
        "from tensorflow import keras\n",
        "\n",
        "y_train=np.clip(y_train,0,1)\n",
        "y_test=np.clip(y_test,0,1)\n",
        "ANN= tf.keras.models.Sequential([\n",
        "  tf.keras.layers.Flatten(input_shape= (16,1)),\n",
        "  keras.layers.BatchNormalization(),\n",
        "  tf.keras.layers.Dense(300, activation='relu'),\n",
        "  keras.layers.BatchNormalization(),\n",
        "  tf.keras.layers.Dense(300, activation='relu'),\n",
        "  keras.layers.BatchNormalization(),\n",
        "  tf.keras.layers.Dense(300, activation='relu'),\n",
        "  keras.layers.BatchNormalization(),\n",
        "  tf.keras.layers.Dense(300, activation='relu'),\n",
        "  keras.layers.BatchNormalization(),\n",
        "  tf.keras.layers.Dense(300, activation='relu'),\n",
        "  keras.layers.BatchNormalization(),\n",
        "  tf.keras.layers.Dense(2, activation = 'softmax')])\n",
        "loss= tf.keras.losses.SparseCategoricalCrossentropy(from_logits=True)\n",
        "ANN.compile(optimizer='adam', loss=loss, metrics=['accuracy'])\n",
        "ANN.fit(X_train, y_train, epochs=130)\n",
        "ANN_predictions=ANN.predict(X_test).argmax(axis=1)\n",
        "ANN_score=accuracy_score(y_test, ANN_predictions)\n",
        "print('ANN Classifer Accuracy: {:.2%}'.format(ANN_score))"
      ],
      "metadata": {
        "colab": {
          "base_uri": "https://localhost:8080/"
        },
        "id": "Xz0Wl30IWJW5",
        "outputId": "ee0c0355-bdea-424c-fb74-7123870a63d7"
      },
      "execution_count": null,
      "outputs": [
        {
          "output_type": "stream",
          "name": "stderr",
          "text": [
            "/usr/local/lib/python3.11/dist-packages/keras/src/layers/reshaping/flatten.py:37: UserWarning: Do not pass an `input_shape`/`input_dim` argument to a layer. When using Sequential models, prefer using an `Input(shape)` object as the first layer in the model instead.\n",
            "  super().__init__(**kwargs)\n"
          ]
        },
        {
          "output_type": "stream",
          "name": "stdout",
          "text": [
            "Epoch 1/130\n"
          ]
        },
        {
          "output_type": "stream",
          "name": "stderr",
          "text": [
            "/usr/local/lib/python3.11/dist-packages/keras/src/backend/tensorflow/nn.py:708: UserWarning: \"`sparse_categorical_crossentropy` received `from_logits=True`, but the `output` argument was produced by a Softmax activation and thus does not represent logits. Was this intended?\n",
            "  output, from_logits = _get_logits(\n"
          ]
        },
        {
          "output_type": "stream",
          "name": "stdout",
          "text": [
            "\u001b[1m9/9\u001b[0m \u001b[32m━━━━━━━━━━━━━━━━━━━━\u001b[0m\u001b[37m\u001b[0m \u001b[1m7s\u001b[0m 14ms/step - accuracy: 0.7486 - loss: 0.5749\n",
            "Epoch 2/130\n",
            "\u001b[1m9/9\u001b[0m \u001b[32m━━━━━━━━━━━━━━━━━━━━\u001b[0m\u001b[37m\u001b[0m \u001b[1m0s\u001b[0m 12ms/step - accuracy: 0.9324 - loss: 0.2112\n",
            "Epoch 3/130\n",
            "\u001b[1m9/9\u001b[0m \u001b[32m━━━━━━━━━━━━━━━━━━━━\u001b[0m\u001b[37m\u001b[0m \u001b[1m0s\u001b[0m 13ms/step - accuracy: 0.9528 - loss: 0.1389\n",
            "Epoch 4/130\n",
            "\u001b[1m9/9\u001b[0m \u001b[32m━━━━━━━━━━━━━━━━━━━━\u001b[0m\u001b[37m\u001b[0m \u001b[1m0s\u001b[0m 18ms/step - accuracy: 0.9738 - loss: 0.0701\n",
            "Epoch 5/130\n",
            "\u001b[1m9/9\u001b[0m \u001b[32m━━━━━━━━━━━━━━━━━━━━\u001b[0m\u001b[37m\u001b[0m \u001b[1m0s\u001b[0m 22ms/step - accuracy: 0.9782 - loss: 0.0956\n",
            "Epoch 6/130\n",
            "\u001b[1m9/9\u001b[0m \u001b[32m━━━━━━━━━━━━━━━━━━━━\u001b[0m\u001b[37m\u001b[0m \u001b[1m0s\u001b[0m 22ms/step - accuracy: 0.9664 - loss: 0.1040\n",
            "Epoch 7/130\n",
            "\u001b[1m9/9\u001b[0m \u001b[32m━━━━━━━━━━━━━━━━━━━━\u001b[0m\u001b[37m\u001b[0m \u001b[1m0s\u001b[0m 21ms/step - accuracy: 0.9903 - loss: 0.0348\n",
            "Epoch 8/130\n",
            "\u001b[1m9/9\u001b[0m \u001b[32m━━━━━━━━━━━━━━━━━━━━\u001b[0m\u001b[37m\u001b[0m \u001b[1m0s\u001b[0m 22ms/step - accuracy: 0.9814 - loss: 0.0690\n",
            "Epoch 9/130\n",
            "\u001b[1m9/9\u001b[0m \u001b[32m━━━━━━━━━━━━━━━━━━━━\u001b[0m\u001b[37m\u001b[0m \u001b[1m0s\u001b[0m 22ms/step - accuracy: 0.9754 - loss: 0.0772\n",
            "Epoch 10/130\n",
            "\u001b[1m9/9\u001b[0m \u001b[32m━━━━━━━━━━━━━━━━━━━━\u001b[0m\u001b[37m\u001b[0m \u001b[1m0s\u001b[0m 23ms/step - accuracy: 0.9640 - loss: 0.1020\n",
            "Epoch 11/130\n",
            "\u001b[1m9/9\u001b[0m \u001b[32m━━━━━━━━━━━━━━━━━━━━\u001b[0m\u001b[37m\u001b[0m \u001b[1m0s\u001b[0m 21ms/step - accuracy: 0.9777 - loss: 0.0726\n",
            "Epoch 12/130\n",
            "\u001b[1m9/9\u001b[0m \u001b[32m━━━━━━━━━━━━━━━━━━━━\u001b[0m\u001b[37m\u001b[0m \u001b[1m0s\u001b[0m 12ms/step - accuracy: 0.9799 - loss: 0.0320\n",
            "Epoch 13/130\n",
            "\u001b[1m9/9\u001b[0m \u001b[32m━━━━━━━━━━━━━━━━━━━━\u001b[0m\u001b[37m\u001b[0m \u001b[1m0s\u001b[0m 13ms/step - accuracy: 0.9907 - loss: 0.0372\n",
            "Epoch 14/130\n",
            "\u001b[1m9/9\u001b[0m \u001b[32m━━━━━━━━━━━━━━━━━━━━\u001b[0m\u001b[37m\u001b[0m \u001b[1m0s\u001b[0m 14ms/step - accuracy: 0.9943 - loss: 0.0213\n",
            "Epoch 15/130\n",
            "\u001b[1m9/9\u001b[0m \u001b[32m━━━━━━━━━━━━━━━━━━━━\u001b[0m\u001b[37m\u001b[0m \u001b[1m0s\u001b[0m 13ms/step - accuracy: 0.9830 - loss: 0.0578\n",
            "Epoch 16/130\n",
            "\u001b[1m9/9\u001b[0m \u001b[32m━━━━━━━━━━━━━━━━━━━━\u001b[0m\u001b[37m\u001b[0m \u001b[1m0s\u001b[0m 12ms/step - accuracy: 0.9786 - loss: 0.0470\n",
            "Epoch 17/130\n",
            "\u001b[1m9/9\u001b[0m \u001b[32m━━━━━━━━━━━━━━━━━━━━\u001b[0m\u001b[37m\u001b[0m \u001b[1m0s\u001b[0m 12ms/step - accuracy: 0.9965 - loss: 0.0275\n",
            "Epoch 18/130\n",
            "\u001b[1m9/9\u001b[0m \u001b[32m━━━━━━━━━━━━━━━━━━━━\u001b[0m\u001b[37m\u001b[0m \u001b[1m0s\u001b[0m 12ms/step - accuracy: 0.9950 - loss: 0.0334\n",
            "Epoch 19/130\n",
            "\u001b[1m9/9\u001b[0m \u001b[32m━━━━━━━━━━━━━━━━━━━━\u001b[0m\u001b[37m\u001b[0m \u001b[1m0s\u001b[0m 13ms/step - accuracy: 0.9989 - loss: 0.0191\n",
            "Epoch 20/130\n",
            "\u001b[1m9/9\u001b[0m \u001b[32m━━━━━━━━━━━━━━━━━━━━\u001b[0m\u001b[37m\u001b[0m \u001b[1m0s\u001b[0m 12ms/step - accuracy: 0.9902 - loss: 0.0317\n",
            "Epoch 21/130\n",
            "\u001b[1m9/9\u001b[0m \u001b[32m━━━━━━━━━━━━━━━━━━━━\u001b[0m\u001b[37m\u001b[0m \u001b[1m0s\u001b[0m 11ms/step - accuracy: 0.9969 - loss: 0.0420\n",
            "Epoch 22/130\n",
            "\u001b[1m9/9\u001b[0m \u001b[32m━━━━━━━━━━━━━━━━━━━━\u001b[0m\u001b[37m\u001b[0m \u001b[1m0s\u001b[0m 12ms/step - accuracy: 0.9931 - loss: 0.0171\n",
            "Epoch 23/130\n",
            "\u001b[1m9/9\u001b[0m \u001b[32m━━━━━━━━━━━━━━━━━━━━\u001b[0m\u001b[37m\u001b[0m \u001b[1m0s\u001b[0m 12ms/step - accuracy: 0.9873 - loss: 0.0384\n",
            "Epoch 24/130\n",
            "\u001b[1m9/9\u001b[0m \u001b[32m━━━━━━━━━━━━━━━━━━━━\u001b[0m\u001b[37m\u001b[0m \u001b[1m0s\u001b[0m 12ms/step - accuracy: 0.9802 - loss: 0.0674\n",
            "Epoch 25/130\n",
            "\u001b[1m9/9\u001b[0m \u001b[32m━━━━━━━━━━━━━━━━━━━━\u001b[0m\u001b[37m\u001b[0m \u001b[1m0s\u001b[0m 12ms/step - accuracy: 0.9993 - loss: 0.0138\n",
            "Epoch 26/130\n",
            "\u001b[1m9/9\u001b[0m \u001b[32m━━━━━━━━━━━━━━━━━━━━\u001b[0m\u001b[37m\u001b[0m \u001b[1m0s\u001b[0m 12ms/step - accuracy: 0.9917 - loss: 0.0251\n",
            "Epoch 27/130\n",
            "\u001b[1m9/9\u001b[0m \u001b[32m━━━━━━━━━━━━━━━━━━━━\u001b[0m\u001b[37m\u001b[0m \u001b[1m0s\u001b[0m 13ms/step - accuracy: 0.9908 - loss: 0.0356\n",
            "Epoch 28/130\n",
            "\u001b[1m9/9\u001b[0m \u001b[32m━━━━━━━━━━━━━━━━━━━━\u001b[0m\u001b[37m\u001b[0m \u001b[1m0s\u001b[0m 14ms/step - accuracy: 0.9785 - loss: 0.0795\n",
            "Epoch 29/130\n",
            "\u001b[1m9/9\u001b[0m \u001b[32m━━━━━━━━━━━━━━━━━━━━\u001b[0m\u001b[37m\u001b[0m \u001b[1m0s\u001b[0m 13ms/step - accuracy: 0.9873 - loss: 0.0339\n",
            "Epoch 30/130\n",
            "\u001b[1m9/9\u001b[0m \u001b[32m━━━━━━━━━━━━━━━━━━━━\u001b[0m\u001b[37m\u001b[0m \u001b[1m0s\u001b[0m 12ms/step - accuracy: 0.9954 - loss: 0.0101\n",
            "Epoch 31/130\n",
            "\u001b[1m9/9\u001b[0m \u001b[32m━━━━━━━━━━━━━━━━━━━━\u001b[0m\u001b[37m\u001b[0m \u001b[1m0s\u001b[0m 12ms/step - accuracy: 0.9993 - loss: 0.0061\n",
            "Epoch 32/130\n",
            "\u001b[1m9/9\u001b[0m \u001b[32m━━━━━━━━━━━━━━━━━━━━\u001b[0m\u001b[37m\u001b[0m \u001b[1m0s\u001b[0m 12ms/step - accuracy: 0.9964 - loss: 0.0217\n",
            "Epoch 33/130\n",
            "\u001b[1m9/9\u001b[0m \u001b[32m━━━━━━━━━━━━━━━━━━━━\u001b[0m\u001b[37m\u001b[0m \u001b[1m0s\u001b[0m 13ms/step - accuracy: 0.9873 - loss: 0.0251\n",
            "Epoch 34/130\n",
            "\u001b[1m9/9\u001b[0m \u001b[32m━━━━━━━━━━━━━━━━━━━━\u001b[0m\u001b[37m\u001b[0m \u001b[1m0s\u001b[0m 12ms/step - accuracy: 0.9909 - loss: 0.0378\n",
            "Epoch 35/130\n",
            "\u001b[1m9/9\u001b[0m \u001b[32m━━━━━━━━━━━━━━━━━━━━\u001b[0m\u001b[37m\u001b[0m \u001b[1m0s\u001b[0m 14ms/step - accuracy: 0.9889 - loss: 0.0300\n",
            "Epoch 36/130\n",
            "\u001b[1m9/9\u001b[0m \u001b[32m━━━━━━━━━━━━━━━━━━━━\u001b[0m\u001b[37m\u001b[0m \u001b[1m0s\u001b[0m 13ms/step - accuracy: 0.9786 - loss: 0.0603\n",
            "Epoch 37/130\n",
            "\u001b[1m9/9\u001b[0m \u001b[32m━━━━━━━━━━━━━━━━━━━━\u001b[0m\u001b[37m\u001b[0m \u001b[1m0s\u001b[0m 13ms/step - accuracy: 0.9766 - loss: 0.0749\n",
            "Epoch 38/130\n",
            "\u001b[1m9/9\u001b[0m \u001b[32m━━━━━━━━━━━━━━━━━━━━\u001b[0m\u001b[37m\u001b[0m \u001b[1m0s\u001b[0m 13ms/step - accuracy: 0.9678 - loss: 0.0340\n",
            "Epoch 39/130\n",
            "\u001b[1m9/9\u001b[0m \u001b[32m━━━━━━━━━━━━━━━━━━━━\u001b[0m\u001b[37m\u001b[0m \u001b[1m0s\u001b[0m 13ms/step - accuracy: 0.9877 - loss: 0.0474\n",
            "Epoch 40/130\n",
            "\u001b[1m9/9\u001b[0m \u001b[32m━━━━━━━━━━━━━━━━━━━━\u001b[0m\u001b[37m\u001b[0m \u001b[1m0s\u001b[0m 12ms/step - accuracy: 0.9933 - loss: 0.0284\n",
            "Epoch 41/130\n",
            "\u001b[1m9/9\u001b[0m \u001b[32m━━━━━━━━━━━━━━━━━━━━\u001b[0m\u001b[37m\u001b[0m \u001b[1m0s\u001b[0m 13ms/step - accuracy: 0.9616 - loss: 0.2273\n",
            "Epoch 42/130\n",
            "\u001b[1m9/9\u001b[0m \u001b[32m━━━━━━━━━━━━━━━━━━━━\u001b[0m\u001b[37m\u001b[0m \u001b[1m0s\u001b[0m 24ms/step - accuracy: 0.9944 - loss: 0.0441\n",
            "Epoch 43/130\n",
            "\u001b[1m9/9\u001b[0m \u001b[32m━━━━━━━━━━━━━━━━━━━━\u001b[0m\u001b[37m\u001b[0m \u001b[1m0s\u001b[0m 22ms/step - accuracy: 0.9968 - loss: 0.0239\n",
            "Epoch 44/130\n",
            "\u001b[1m9/9\u001b[0m \u001b[32m━━━━━━━━━━━━━━━━━━━━\u001b[0m\u001b[37m\u001b[0m \u001b[1m0s\u001b[0m 21ms/step - accuracy: 0.9939 - loss: 0.0270\n",
            "Epoch 45/130\n",
            "\u001b[1m9/9\u001b[0m \u001b[32m━━━━━━━━━━━━━━━━━━━━\u001b[0m\u001b[37m\u001b[0m \u001b[1m0s\u001b[0m 28ms/step - accuracy: 1.0000 - loss: 0.0060\n",
            "Epoch 46/130\n",
            "\u001b[1m9/9\u001b[0m \u001b[32m━━━━━━━━━━━━━━━━━━━━\u001b[0m\u001b[37m\u001b[0m \u001b[1m1s\u001b[0m 25ms/step - accuracy: 1.0000 - loss: 0.0071\n",
            "Epoch 47/130\n",
            "\u001b[1m9/9\u001b[0m \u001b[32m━━━━━━━━━━━━━━━━━━━━\u001b[0m\u001b[37m\u001b[0m \u001b[1m0s\u001b[0m 25ms/step - accuracy: 0.9954 - loss: 0.0187\n",
            "Epoch 48/130\n",
            "\u001b[1m9/9\u001b[0m \u001b[32m━━━━━━━━━━━━━━━━━━━━\u001b[0m\u001b[37m\u001b[0m \u001b[1m0s\u001b[0m 22ms/step - accuracy: 0.9993 - loss: 0.0064\n",
            "Epoch 49/130\n",
            "\u001b[1m9/9\u001b[0m \u001b[32m━━━━━━━━━━━━━━━━━━━━\u001b[0m\u001b[37m\u001b[0m \u001b[1m0s\u001b[0m 23ms/step - accuracy: 1.0000 - loss: 0.0039\n",
            "Epoch 50/130\n",
            "\u001b[1m9/9\u001b[0m \u001b[32m━━━━━━━━━━━━━━━━━━━━\u001b[0m\u001b[37m\u001b[0m \u001b[1m0s\u001b[0m 21ms/step - accuracy: 0.9936 - loss: 0.0265\n",
            "Epoch 51/130\n",
            "\u001b[1m9/9\u001b[0m \u001b[32m━━━━━━━━━━━━━━━━━━━━\u001b[0m\u001b[37m\u001b[0m \u001b[1m0s\u001b[0m 22ms/step - accuracy: 0.9965 - loss: 0.0169\n",
            "Epoch 52/130\n",
            "\u001b[1m9/9\u001b[0m \u001b[32m━━━━━━━━━━━━━━━━━━━━\u001b[0m\u001b[37m\u001b[0m \u001b[1m0s\u001b[0m 22ms/step - accuracy: 0.9973 - loss: 0.0107\n",
            "Epoch 53/130\n",
            "\u001b[1m9/9\u001b[0m \u001b[32m━━━━━━━━━━━━━━━━━━━━\u001b[0m\u001b[37m\u001b[0m \u001b[1m0s\u001b[0m 20ms/step - accuracy: 0.9958 - loss: 0.0901\n",
            "Epoch 54/130\n",
            "\u001b[1m9/9\u001b[0m \u001b[32m━━━━━━━━━━━━━━━━━━━━\u001b[0m\u001b[37m\u001b[0m \u001b[1m0s\u001b[0m 21ms/step - accuracy: 1.0000 - loss: 0.0080\n",
            "Epoch 55/130\n",
            "\u001b[1m9/9\u001b[0m \u001b[32m━━━━━━━━━━━━━━━━━━━━\u001b[0m\u001b[37m\u001b[0m \u001b[1m0s\u001b[0m 25ms/step - accuracy: 0.9993 - loss: 0.0096\n",
            "Epoch 56/130\n",
            "\u001b[1m9/9\u001b[0m \u001b[32m━━━━━━━━━━━━━━━━━━━━\u001b[0m\u001b[37m\u001b[0m \u001b[1m0s\u001b[0m 21ms/step - accuracy: 0.9904 - loss: 0.0246\n",
            "Epoch 57/130\n",
            "\u001b[1m9/9\u001b[0m \u001b[32m━━━━━━━━━━━━━━━━━━━━\u001b[0m\u001b[37m\u001b[0m \u001b[1m0s\u001b[0m 21ms/step - accuracy: 0.9960 - loss: 0.0220\n",
            "Epoch 58/130\n",
            "\u001b[1m9/9\u001b[0m \u001b[32m━━━━━━━━━━━━━━━━━━━━\u001b[0m\u001b[37m\u001b[0m \u001b[1m0s\u001b[0m 21ms/step - accuracy: 0.9939 - loss: 0.0233\n",
            "Epoch 59/130\n",
            "\u001b[1m9/9\u001b[0m \u001b[32m━━━━━━━━━━━━━━━━━━━━\u001b[0m\u001b[37m\u001b[0m \u001b[1m0s\u001b[0m 22ms/step - accuracy: 0.9926 - loss: 0.0292\n",
            "Epoch 60/130\n",
            "\u001b[1m9/9\u001b[0m \u001b[32m━━━━━━━━━━━━━━━━━━━━\u001b[0m\u001b[37m\u001b[0m \u001b[1m0s\u001b[0m 27ms/step - accuracy: 0.9989 - loss: 0.0145\n",
            "Epoch 61/130\n",
            "\u001b[1m9/9\u001b[0m \u001b[32m━━━━━━━━━━━━━━━━━━━━\u001b[0m\u001b[37m\u001b[0m \u001b[1m0s\u001b[0m 33ms/step - accuracy: 0.9892 - loss: 0.0242\n",
            "Epoch 62/130\n",
            "\u001b[1m9/9\u001b[0m \u001b[32m━━━━━━━━━━━━━━━━━━━━\u001b[0m\u001b[37m\u001b[0m \u001b[1m1s\u001b[0m 33ms/step - accuracy: 0.9984 - loss: 0.0120\n",
            "Epoch 63/130\n",
            "\u001b[1m9/9\u001b[0m \u001b[32m━━━━━━━━━━━━━━━━━━━━\u001b[0m\u001b[37m\u001b[0m \u001b[1m0s\u001b[0m 34ms/step - accuracy: 0.9908 - loss: 0.0191\n",
            "Epoch 64/130\n",
            "\u001b[1m9/9\u001b[0m \u001b[32m━━━━━━━━━━━━━━━━━━━━\u001b[0m\u001b[37m\u001b[0m \u001b[1m0s\u001b[0m 31ms/step - accuracy: 0.9918 - loss: 0.0246\n",
            "Epoch 65/130\n",
            "\u001b[1m9/9\u001b[0m \u001b[32m━━━━━━━━━━━━━━━━━━━━\u001b[0m\u001b[37m\u001b[0m \u001b[1m0s\u001b[0m 38ms/step - accuracy: 0.9919 - loss: 0.0094\n",
            "Epoch 66/130\n",
            "\u001b[1m9/9\u001b[0m \u001b[32m━━━━━━━━━━━━━━━━━━━━\u001b[0m\u001b[37m\u001b[0m \u001b[1m1s\u001b[0m 42ms/step - accuracy: 0.9954 - loss: 0.0215\n",
            "Epoch 67/130\n",
            "\u001b[1m9/9\u001b[0m \u001b[32m━━━━━━━━━━━━━━━━━━━━\u001b[0m\u001b[37m\u001b[0m \u001b[1m0s\u001b[0m 22ms/step - accuracy: 0.9965 - loss: 0.0144\n",
            "Epoch 68/130\n",
            "\u001b[1m9/9\u001b[0m \u001b[32m━━━━━━━━━━━━━━━━━━━━\u001b[0m\u001b[37m\u001b[0m \u001b[1m0s\u001b[0m 21ms/step - accuracy: 0.9846 - loss: 0.0357\n",
            "Epoch 69/130\n",
            "\u001b[1m9/9\u001b[0m \u001b[32m━━━━━━━━━━━━━━━━━━━━\u001b[0m\u001b[37m\u001b[0m \u001b[1m0s\u001b[0m 19ms/step - accuracy: 0.9993 - loss: 0.0038\n",
            "Epoch 70/130\n",
            "\u001b[1m9/9\u001b[0m \u001b[32m━━━━━━━━━━━━━━━━━━━━\u001b[0m\u001b[37m\u001b[0m \u001b[1m0s\u001b[0m 14ms/step - accuracy: 0.9931 - loss: 0.0131\n",
            "Epoch 71/130\n",
            "\u001b[1m9/9\u001b[0m \u001b[32m━━━━━━━━━━━━━━━━━━━━\u001b[0m\u001b[37m\u001b[0m \u001b[1m0s\u001b[0m 12ms/step - accuracy: 0.9932 - loss: 0.0296\n",
            "Epoch 72/130\n",
            "\u001b[1m9/9\u001b[0m \u001b[32m━━━━━━━━━━━━━━━━━━━━\u001b[0m\u001b[37m\u001b[0m \u001b[1m0s\u001b[0m 12ms/step - accuracy: 0.9891 - loss: 0.0329\n",
            "Epoch 73/130\n",
            "\u001b[1m9/9\u001b[0m \u001b[32m━━━━━━━━━━━━━━━━━━━━\u001b[0m\u001b[37m\u001b[0m \u001b[1m0s\u001b[0m 12ms/step - accuracy: 0.9950 - loss: 0.0139\n",
            "Epoch 74/130\n",
            "\u001b[1m9/9\u001b[0m \u001b[32m━━━━━━━━━━━━━━━━━━━━\u001b[0m\u001b[37m\u001b[0m \u001b[1m0s\u001b[0m 12ms/step - accuracy: 0.9908 - loss: 0.0461\n",
            "Epoch 75/130\n",
            "\u001b[1m9/9\u001b[0m \u001b[32m━━━━━━━━━━━━━━━━━━━━\u001b[0m\u001b[37m\u001b[0m \u001b[1m0s\u001b[0m 13ms/step - accuracy: 0.9984 - loss: 0.0158\n",
            "Epoch 76/130\n",
            "\u001b[1m9/9\u001b[0m \u001b[32m━━━━━━━━━━━━━━━━━━━━\u001b[0m\u001b[37m\u001b[0m \u001b[1m0s\u001b[0m 12ms/step - accuracy: 0.9954 - loss: 0.0075\n",
            "Epoch 77/130\n",
            "\u001b[1m9/9\u001b[0m \u001b[32m━━━━━━━━━━━━━━━━━━━━\u001b[0m\u001b[37m\u001b[0m \u001b[1m0s\u001b[0m 13ms/step - accuracy: 0.9959 - loss: 0.0258\n",
            "Epoch 78/130\n",
            "\u001b[1m9/9\u001b[0m \u001b[32m━━━━━━━━━━━━━━━━━━━━\u001b[0m\u001b[37m\u001b[0m \u001b[1m0s\u001b[0m 12ms/step - accuracy: 0.9897 - loss: 0.0309\n",
            "Epoch 79/130\n",
            "\u001b[1m9/9\u001b[0m \u001b[32m━━━━━━━━━━━━━━━━━━━━\u001b[0m\u001b[37m\u001b[0m \u001b[1m0s\u001b[0m 13ms/step - accuracy: 0.9845 - loss: 0.0402\n",
            "Epoch 80/130\n",
            "\u001b[1m9/9\u001b[0m \u001b[32m━━━━━━━━━━━━━━━━━━━━\u001b[0m\u001b[37m\u001b[0m \u001b[1m0s\u001b[0m 12ms/step - accuracy: 0.9979 - loss: 0.0160\n",
            "Epoch 81/130\n",
            "\u001b[1m9/9\u001b[0m \u001b[32m━━━━━━━━━━━━━━━━━━━━\u001b[0m\u001b[37m\u001b[0m \u001b[1m0s\u001b[0m 12ms/step - accuracy: 0.9825 - loss: 0.0519\n",
            "Epoch 82/130\n",
            "\u001b[1m9/9\u001b[0m \u001b[32m━━━━━━━━━━━━━━━━━━━━\u001b[0m\u001b[37m\u001b[0m \u001b[1m0s\u001b[0m 12ms/step - accuracy: 0.9989 - loss: 0.0125\n",
            "Epoch 83/130\n",
            "\u001b[1m9/9\u001b[0m \u001b[32m━━━━━━━━━━━━━━━━━━━━\u001b[0m\u001b[37m\u001b[0m \u001b[1m0s\u001b[0m 13ms/step - accuracy: 0.9885 - loss: 0.0273\n",
            "Epoch 84/130\n",
            "\u001b[1m9/9\u001b[0m \u001b[32m━━━━━━━━━━━━━━━━━━━━\u001b[0m\u001b[37m\u001b[0m \u001b[1m0s\u001b[0m 13ms/step - accuracy: 0.9938 - loss: 0.0333\n",
            "Epoch 85/130\n",
            "\u001b[1m9/9\u001b[0m \u001b[32m━━━━━━━━━━━━━━━━━━━━\u001b[0m\u001b[37m\u001b[0m \u001b[1m0s\u001b[0m 12ms/step - accuracy: 0.9747 - loss: 0.0351\n",
            "Epoch 86/130\n",
            "\u001b[1m9/9\u001b[0m \u001b[32m━━━━━━━━━━━━━━━━━━━━\u001b[0m\u001b[37m\u001b[0m \u001b[1m0s\u001b[0m 12ms/step - accuracy: 0.9896 - loss: 0.0522\n",
            "Epoch 87/130\n",
            "\u001b[1m9/9\u001b[0m \u001b[32m━━━━━━━━━━━━━━━━━━━━\u001b[0m\u001b[37m\u001b[0m \u001b[1m0s\u001b[0m 13ms/step - accuracy: 0.9954 - loss: 0.0112\n",
            "Epoch 88/130\n",
            "\u001b[1m9/9\u001b[0m \u001b[32m━━━━━━━━━━━━━━━━━━━━\u001b[0m\u001b[37m\u001b[0m \u001b[1m0s\u001b[0m 12ms/step - accuracy: 0.9954 - loss: 0.0093\n",
            "Epoch 89/130\n",
            "\u001b[1m9/9\u001b[0m \u001b[32m━━━━━━━━━━━━━━━━━━━━\u001b[0m\u001b[37m\u001b[0m \u001b[1m0s\u001b[0m 13ms/step - accuracy: 0.9912 - loss: 0.0342\n",
            "Epoch 90/130\n",
            "\u001b[1m9/9\u001b[0m \u001b[32m━━━━━━━━━━━━━━━━━━━━\u001b[0m\u001b[37m\u001b[0m \u001b[1m0s\u001b[0m 12ms/step - accuracy: 0.9985 - loss: 0.0113\n",
            "Epoch 91/130\n",
            "\u001b[1m9/9\u001b[0m \u001b[32m━━━━━━━━━━━━━━━━━━━━\u001b[0m\u001b[37m\u001b[0m \u001b[1m0s\u001b[0m 13ms/step - accuracy: 0.9896 - loss: 0.0400\n",
            "Epoch 92/130\n",
            "\u001b[1m9/9\u001b[0m \u001b[32m━━━━━━━━━━━━━━━━━━━━\u001b[0m\u001b[37m\u001b[0m \u001b[1m0s\u001b[0m 12ms/step - accuracy: 0.9811 - loss: 0.0620\n",
            "Epoch 93/130\n",
            "\u001b[1m9/9\u001b[0m \u001b[32m━━━━━━━━━━━━━━━━━━━━\u001b[0m\u001b[37m\u001b[0m \u001b[1m0s\u001b[0m 13ms/step - accuracy: 1.0000 - loss: 0.0079\n",
            "Epoch 94/130\n",
            "\u001b[1m9/9\u001b[0m \u001b[32m━━━━━━━━━━━━━━━━━━━━\u001b[0m\u001b[37m\u001b[0m \u001b[1m0s\u001b[0m 13ms/step - accuracy: 0.9939 - loss: 0.0197\n",
            "Epoch 95/130\n",
            "\u001b[1m9/9\u001b[0m \u001b[32m━━━━━━━━━━━━━━━━━━━━\u001b[0m\u001b[37m\u001b[0m \u001b[1m0s\u001b[0m 13ms/step - accuracy: 1.0000 - loss: 0.0044\n",
            "Epoch 96/130\n",
            "\u001b[1m9/9\u001b[0m \u001b[32m━━━━━━━━━━━━━━━━━━━━\u001b[0m\u001b[37m\u001b[0m \u001b[1m0s\u001b[0m 13ms/step - accuracy: 1.0000 - loss: 0.0070\n",
            "Epoch 97/130\n",
            "\u001b[1m9/9\u001b[0m \u001b[32m━━━━━━━━━━━━━━━━━━━━\u001b[0m\u001b[37m\u001b[0m \u001b[1m0s\u001b[0m 13ms/step - accuracy: 1.0000 - loss: 0.0043\n",
            "Epoch 98/130\n",
            "\u001b[1m9/9\u001b[0m \u001b[32m━━━━━━━━━━━━━━━━━━━━\u001b[0m\u001b[37m\u001b[0m \u001b[1m0s\u001b[0m 13ms/step - accuracy: 1.0000 - loss: 0.0015\n",
            "Epoch 99/130\n",
            "\u001b[1m9/9\u001b[0m \u001b[32m━━━━━━━━━━━━━━━━━━━━\u001b[0m\u001b[37m\u001b[0m \u001b[1m0s\u001b[0m 12ms/step - accuracy: 0.9939 - loss: 0.0089\n",
            "Epoch 100/130\n",
            "\u001b[1m9/9\u001b[0m \u001b[32m━━━━━━━━━━━━━━━━━━━━\u001b[0m\u001b[37m\u001b[0m \u001b[1m0s\u001b[0m 13ms/step - accuracy: 1.0000 - loss: 0.0021\n",
            "Epoch 101/130\n",
            "\u001b[1m9/9\u001b[0m \u001b[32m━━━━━━━━━━━━━━━━━━━━\u001b[0m\u001b[37m\u001b[0m \u001b[1m0s\u001b[0m 13ms/step - accuracy: 1.0000 - loss: 0.0025\n",
            "Epoch 102/130\n",
            "\u001b[1m9/9\u001b[0m \u001b[32m━━━━━━━━━━━━━━━━━━━━\u001b[0m\u001b[37m\u001b[0m \u001b[1m0s\u001b[0m 12ms/step - accuracy: 1.0000 - loss: 0.0024\n",
            "Epoch 103/130\n",
            "\u001b[1m9/9\u001b[0m \u001b[32m━━━━━━━━━━━━━━━━━━━━\u001b[0m\u001b[37m\u001b[0m \u001b[1m0s\u001b[0m 13ms/step - accuracy: 1.0000 - loss: 0.0012\n",
            "Epoch 104/130\n",
            "\u001b[1m9/9\u001b[0m \u001b[32m━━━━━━━━━━━━━━━━━━━━\u001b[0m\u001b[37m\u001b[0m \u001b[1m0s\u001b[0m 15ms/step - accuracy: 0.9908 - loss: 0.0193\n",
            "Epoch 105/130\n",
            "\u001b[1m9/9\u001b[0m \u001b[32m━━━━━━━━━━━━━━━━━━━━\u001b[0m\u001b[37m\u001b[0m \u001b[1m0s\u001b[0m 13ms/step - accuracy: 0.9989 - loss: 0.0035\n",
            "Epoch 106/130\n",
            "\u001b[1m9/9\u001b[0m \u001b[32m━━━━━━━━━━━━━━━━━━━━\u001b[0m\u001b[37m\u001b[0m \u001b[1m0s\u001b[0m 12ms/step - accuracy: 1.0000 - loss: 0.0013\n",
            "Epoch 107/130\n",
            "\u001b[1m9/9\u001b[0m \u001b[32m━━━━━━━━━━━━━━━━━━━━\u001b[0m\u001b[37m\u001b[0m \u001b[1m0s\u001b[0m 13ms/step - accuracy: 1.0000 - loss: 0.0016\n",
            "Epoch 108/130\n",
            "\u001b[1m9/9\u001b[0m \u001b[32m━━━━━━━━━━━━━━━━━━━━\u001b[0m\u001b[37m\u001b[0m \u001b[1m0s\u001b[0m 12ms/step - accuracy: 1.0000 - loss: 0.0016\n",
            "Epoch 109/130\n",
            "\u001b[1m9/9\u001b[0m \u001b[32m━━━━━━━━━━━━━━━━━━━━\u001b[0m\u001b[37m\u001b[0m \u001b[1m0s\u001b[0m 14ms/step - accuracy: 1.0000 - loss: 0.0041\n",
            "Epoch 110/130\n",
            "\u001b[1m9/9\u001b[0m \u001b[32m━━━━━━━━━━━━━━━━━━━━\u001b[0m\u001b[37m\u001b[0m \u001b[1m0s\u001b[0m 12ms/step - accuracy: 0.9993 - loss: 0.0042\n",
            "Epoch 111/130\n",
            "\u001b[1m9/9\u001b[0m \u001b[32m━━━━━━━━━━━━━━━━━━━━\u001b[0m\u001b[37m\u001b[0m \u001b[1m0s\u001b[0m 15ms/step - accuracy: 1.0000 - loss: 0.0065\n",
            "Epoch 112/130\n",
            "\u001b[1m9/9\u001b[0m \u001b[32m━━━━━━━━━━━━━━━━━━━━\u001b[0m\u001b[37m\u001b[0m \u001b[1m0s\u001b[0m 13ms/step - accuracy: 0.9861 - loss: 0.0395\n",
            "Epoch 113/130\n",
            "\u001b[1m9/9\u001b[0m \u001b[32m━━━━━━━━━━━━━━━━━━━━\u001b[0m\u001b[37m\u001b[0m \u001b[1m0s\u001b[0m 12ms/step - accuracy: 1.0000 - loss: 0.0071\n",
            "Epoch 114/130\n",
            "\u001b[1m9/9\u001b[0m \u001b[32m━━━━━━━━━━━━━━━━━━━━\u001b[0m\u001b[37m\u001b[0m \u001b[1m0s\u001b[0m 12ms/step - accuracy: 0.9973 - loss: 0.0172\n",
            "Epoch 115/130\n",
            "\u001b[1m9/9\u001b[0m \u001b[32m━━━━━━━━━━━━━━━━━━━━\u001b[0m\u001b[37m\u001b[0m \u001b[1m0s\u001b[0m 13ms/step - accuracy: 0.9927 - loss: 0.0147\n",
            "Epoch 116/130\n",
            "\u001b[1m9/9\u001b[0m \u001b[32m━━━━━━━━━━━━━━━━━━━━\u001b[0m\u001b[37m\u001b[0m \u001b[1m0s\u001b[0m 12ms/step - accuracy: 1.0000 - loss: 0.0043\n",
            "Epoch 117/130\n",
            "\u001b[1m9/9\u001b[0m \u001b[32m━━━━━━━━━━━━━━━━━━━━\u001b[0m\u001b[37m\u001b[0m \u001b[1m0s\u001b[0m 12ms/step - accuracy: 1.0000 - loss: 0.0013\n",
            "Epoch 118/130\n",
            "\u001b[1m9/9\u001b[0m \u001b[32m━━━━━━━━━━━━━━━━━━━━\u001b[0m\u001b[37m\u001b[0m \u001b[1m0s\u001b[0m 14ms/step - accuracy: 1.0000 - loss: 0.0011\n",
            "Epoch 119/130\n",
            "\u001b[1m9/9\u001b[0m \u001b[32m━━━━━━━━━━━━━━━━━━━━\u001b[0m\u001b[37m\u001b[0m \u001b[1m0s\u001b[0m 12ms/step - accuracy: 1.0000 - loss: 9.4505e-04\n",
            "Epoch 120/130\n",
            "\u001b[1m9/9\u001b[0m \u001b[32m━━━━━━━━━━━━━━━━━━━━\u001b[0m\u001b[37m\u001b[0m \u001b[1m0s\u001b[0m 12ms/step - accuracy: 1.0000 - loss: 9.4028e-04\n",
            "Epoch 121/130\n",
            "\u001b[1m9/9\u001b[0m \u001b[32m━━━━━━━━━━━━━━━━━━━━\u001b[0m\u001b[37m\u001b[0m \u001b[1m0s\u001b[0m 13ms/step - accuracy: 1.0000 - loss: 0.0052\n",
            "Epoch 122/130\n",
            "\u001b[1m9/9\u001b[0m \u001b[32m━━━━━━━━━━━━━━━━━━━━\u001b[0m\u001b[37m\u001b[0m \u001b[1m0s\u001b[0m 13ms/step - accuracy: 1.0000 - loss: 0.0026\n",
            "Epoch 123/130\n",
            "\u001b[1m9/9\u001b[0m \u001b[32m━━━━━━━━━━━━━━━━━━━━\u001b[0m\u001b[37m\u001b[0m \u001b[1m0s\u001b[0m 13ms/step - accuracy: 1.0000 - loss: 6.9668e-04\n",
            "Epoch 124/130\n",
            "\u001b[1m9/9\u001b[0m \u001b[32m━━━━━━━━━━━━━━━━━━━━\u001b[0m\u001b[37m\u001b[0m \u001b[1m0s\u001b[0m 14ms/step - accuracy: 1.0000 - loss: 0.0020\n",
            "Epoch 125/130\n",
            "\u001b[1m9/9\u001b[0m \u001b[32m━━━━━━━━━━━━━━━━━━━━\u001b[0m\u001b[37m\u001b[0m \u001b[1m0s\u001b[0m 13ms/step - accuracy: 1.0000 - loss: 0.0033\n",
            "Epoch 126/130\n",
            "\u001b[1m9/9\u001b[0m \u001b[32m━━━━━━━━━━━━━━━━━━━━\u001b[0m\u001b[37m\u001b[0m \u001b[1m0s\u001b[0m 13ms/step - accuracy: 0.9916 - loss: 0.0214\n",
            "Epoch 127/130\n",
            "\u001b[1m9/9\u001b[0m \u001b[32m━━━━━━━━━━━━━━━━━━━━\u001b[0m\u001b[37m\u001b[0m \u001b[1m0s\u001b[0m 13ms/step - accuracy: 0.9885 - loss: 0.0346\n",
            "Epoch 128/130\n",
            "\u001b[1m9/9\u001b[0m \u001b[32m━━━━━━━━━━━━━━━━━━━━\u001b[0m\u001b[37m\u001b[0m \u001b[1m0s\u001b[0m 13ms/step - accuracy: 0.9989 - loss: 0.0197\n",
            "Epoch 129/130\n",
            "\u001b[1m9/9\u001b[0m \u001b[32m━━━━━━━━━━━━━━━━━━━━\u001b[0m\u001b[37m\u001b[0m \u001b[1m0s\u001b[0m 13ms/step - accuracy: 0.9911 - loss: 0.0275\n",
            "Epoch 130/130\n",
            "\u001b[1m9/9\u001b[0m \u001b[32m━━━━━━━━━━━━━━━━━━━━\u001b[0m\u001b[37m\u001b[0m \u001b[1m0s\u001b[0m 12ms/step - accuracy: 0.9947 - loss: 0.0131\n",
            "\u001b[1m4/4\u001b[0m \u001b[32m━━━━━━━━━━━━━━━━━━━━\u001b[0m\u001b[37m\u001b[0m \u001b[1m1s\u001b[0m 93ms/step\n",
            "ANN Classifer Accuracy: 97.39%\n"
          ]
        }
      ]
    }
  ]
}